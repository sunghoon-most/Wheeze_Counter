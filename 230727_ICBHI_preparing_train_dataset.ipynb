{
 "cells": [
  {
   "cell_type": "code",
   "execution_count": 55,
   "metadata": {},
   "outputs": [],
   "source": [
    "import os\n",
    "import librosa\n",
    "import noisereduce as nr\n",
    "from IPython.display import Audio\n",
    "import matplotlib.pyplot as plt\n",
    "import pandas as pd\n",
    "import natsort\n",
    "from scipy.io.wavfile import write\n",
    "import shutil"
   ]
  },
  {
   "cell_type": "code",
   "execution_count": 56,
   "metadata": {},
   "outputs": [],
   "source": [
    "# # 압축파일 풀기\n",
    "# !unzip data/ICBHI_final_database.zip -d data/ICBHI_database"
   ]
  },
  {
   "cell_type": "code",
   "execution_count": 57,
   "metadata": {},
   "outputs": [],
   "source": [
    "# # 압축파일 풀기\n",
    "# !unzip data/ICBHI_events_for_jupyter.zip -d data/ICBHI_events"
   ]
  },
  {
   "cell_type": "code",
   "execution_count": 58,
   "metadata": {},
   "outputs": [],
   "source": [
    "# events = pd.read_csv('data/ICBHI_events/101_1b1_Al_sc_Meditron_events.txt', sep='\\t', header=None)"
   ]
  },
  {
   "cell_type": "code",
   "execution_count": 59,
   "metadata": {},
   "outputs": [],
   "source": [
    "path = 'data/ICBHI/'\n",
    "subject = pd.read_csv('data/ICBHI_info/ICBHI_Challenge_diagnosis.txt', sep='\\t', header=None)"
   ]
  },
  {
   "cell_type": "code",
   "execution_count": 60,
   "metadata": {},
   "outputs": [
    {
     "data": {
      "text/html": [
       "<div>\n",
       "<style scoped>\n",
       "    .dataframe tbody tr th:only-of-type {\n",
       "        vertical-align: middle;\n",
       "    }\n",
       "\n",
       "    .dataframe tbody tr th {\n",
       "        vertical-align: top;\n",
       "    }\n",
       "\n",
       "    .dataframe thead th {\n",
       "        text-align: right;\n",
       "    }\n",
       "</style>\n",
       "<table border=\"1\" class=\"dataframe\">\n",
       "  <thead>\n",
       "    <tr style=\"text-align: right;\">\n",
       "      <th></th>\n",
       "      <th>0</th>\n",
       "      <th>1</th>\n",
       "    </tr>\n",
       "  </thead>\n",
       "  <tbody>\n",
       "    <tr>\n",
       "      <th>0</th>\n",
       "      <td>101</td>\n",
       "      <td>URTI</td>\n",
       "    </tr>\n",
       "    <tr>\n",
       "      <th>1</th>\n",
       "      <td>102</td>\n",
       "      <td>Healthy</td>\n",
       "    </tr>\n",
       "    <tr>\n",
       "      <th>2</th>\n",
       "      <td>103</td>\n",
       "      <td>Asthma</td>\n",
       "    </tr>\n",
       "    <tr>\n",
       "      <th>3</th>\n",
       "      <td>104</td>\n",
       "      <td>COPD</td>\n",
       "    </tr>\n",
       "    <tr>\n",
       "      <th>4</th>\n",
       "      <td>105</td>\n",
       "      <td>URTI</td>\n",
       "    </tr>\n",
       "    <tr>\n",
       "      <th>...</th>\n",
       "      <td>...</td>\n",
       "      <td>...</td>\n",
       "    </tr>\n",
       "    <tr>\n",
       "      <th>121</th>\n",
       "      <td>222</td>\n",
       "      <td>COPD</td>\n",
       "    </tr>\n",
       "    <tr>\n",
       "      <th>122</th>\n",
       "      <td>223</td>\n",
       "      <td>COPD</td>\n",
       "    </tr>\n",
       "    <tr>\n",
       "      <th>123</th>\n",
       "      <td>224</td>\n",
       "      <td>Healthy</td>\n",
       "    </tr>\n",
       "    <tr>\n",
       "      <th>124</th>\n",
       "      <td>225</td>\n",
       "      <td>Healthy</td>\n",
       "    </tr>\n",
       "    <tr>\n",
       "      <th>125</th>\n",
       "      <td>226</td>\n",
       "      <td>Pneumonia</td>\n",
       "    </tr>\n",
       "  </tbody>\n",
       "</table>\n",
       "<p>126 rows × 2 columns</p>\n",
       "</div>"
      ],
      "text/plain": [
       "       0          1\n",
       "0    101       URTI\n",
       "1    102    Healthy\n",
       "2    103     Asthma\n",
       "3    104       COPD\n",
       "4    105       URTI\n",
       "..   ...        ...\n",
       "121  222       COPD\n",
       "122  223       COPD\n",
       "123  224    Healthy\n",
       "124  225    Healthy\n",
       "125  226  Pneumonia\n",
       "\n",
       "[126 rows x 2 columns]"
      ]
     },
     "execution_count": 60,
     "metadata": {},
     "output_type": "execute_result"
    }
   ],
   "source": [
    "subject"
   ]
  },
  {
   "cell_type": "code",
   "execution_count": 61,
   "metadata": {},
   "outputs": [
    {
     "name": "stdout",
     "output_type": "stream",
     "text": [
      "1\n",
      "64\n",
      "26\n",
      "91\n"
     ]
    }
   ],
   "source": [
    "# subject 별 index 찾기\n",
    "\n",
    "Asthma_numbers = []\n",
    "COPD_numbers = []\n",
    "Healthy_numbers = []\n",
    "\n",
    "for index, name in enumerate(subject[1]):\n",
    "    if name == 'Asthma':\n",
    "        Asthma_numbers.append(subject[0][index])\n",
    "    elif name == 'COPD':\n",
    "        COPD_numbers.append(subject[0][index])\n",
    "    elif name == 'Healthy':\n",
    "        Healthy_numbers.append(subject[0][index])\n",
    "\n",
    "print(len(Asthma_numbers))\n",
    "print(len(COPD_numbers))\n",
    "print(len(Healthy_numbers))\n",
    "print(len(Asthma_numbers) + len(COPD_numbers) + len(Healthy_numbers))"
   ]
  },
  {
   "cell_type": "code",
   "execution_count": 62,
   "metadata": {},
   "outputs": [],
   "source": [
    "file_path = 'data/ICBHI_database/'\n",
    "event_path = 'data/ICBHI_events/'\n",
    "save_Asthma_path = 'data/ICBHI_Asthma_extracted/'\n",
    "save_COPD_path = 'data/ICBHI_COPD_extracted/'\n",
    "save_Healthy_path = 'data/ICBHI_Healthy_extracted/'\n",
    "count = 0\n",
    "\n",
    "file_list = os.listdir(file_path)\n",
    "file_list = natsort.natsorted(file_list)"
   ]
  },
  {
   "cell_type": "code",
   "execution_count": 63,
   "metadata": {
    "scrolled": true
   },
   "outputs": [
    {
     "data": {
      "application/vnd.jupyter.widget-view+json": {
       "model_id": "d5aaa80a56704972b29e0dd9733d8293",
       "version_major": 2,
       "version_minor": 0
      },
      "text/plain": [
       "HBox(children=(HTML(value=''), FloatProgress(value=0.0, max=2.0), HTML(value='')))"
      ]
     },
     "metadata": {},
     "output_type": "display_data"
    },
    {
     "name": "stdout",
     "output_type": "stream",
     "text": [
      "\n"
     ]
    },
    {
     "data": {
      "application/vnd.jupyter.widget-view+json": {
       "model_id": "a70ec2c66c3a45709685f3988a50c366",
       "version_major": 2,
       "version_minor": 0
      },
      "text/plain": [
       "HBox(children=(HTML(value=''), FloatProgress(value=0.0, max=2.0), HTML(value='')))"
      ]
     },
     "metadata": {},
     "output_type": "display_data"
    },
    {
     "name": "stdout",
     "output_type": "stream",
     "text": [
      "\n"
     ]
    },
    {
     "data": {
      "application/vnd.jupyter.widget-view+json": {
       "model_id": "f60f0e46eb2140a586f473cdfedaf885",
       "version_major": 2,
       "version_minor": 0
      },
      "text/plain": [
       "HBox(children=(HTML(value=''), FloatProgress(value=0.0, max=2.0), HTML(value='')))"
      ]
     },
     "metadata": {},
     "output_type": "display_data"
    },
    {
     "name": "stdout",
     "output_type": "stream",
     "text": [
      "\n"
     ]
    },
    {
     "data": {
      "application/vnd.jupyter.widget-view+json": {
       "model_id": "7dac44360ab642d6a8b3dd398ce9ca5d",
       "version_major": 2,
       "version_minor": 0
      },
      "text/plain": [
       "HBox(children=(HTML(value=''), FloatProgress(value=0.0, max=2.0), HTML(value='')))"
      ]
     },
     "metadata": {},
     "output_type": "display_data"
    },
    {
     "name": "stdout",
     "output_type": "stream",
     "text": [
      "\n"
     ]
    },
    {
     "data": {
      "application/vnd.jupyter.widget-view+json": {
       "model_id": "1b467f76a1894249b871a02ba93c27cc",
       "version_major": 2,
       "version_minor": 0
      },
      "text/plain": [
       "HBox(children=(HTML(value=''), FloatProgress(value=0.0, max=2.0), HTML(value='')))"
      ]
     },
     "metadata": {},
     "output_type": "display_data"
    },
    {
     "name": "stdout",
     "output_type": "stream",
     "text": [
      "\n"
     ]
    },
    {
     "data": {
      "application/vnd.jupyter.widget-view+json": {
       "model_id": "5d20db1536b940a4a5855b06d7d82edb",
       "version_major": 2,
       "version_minor": 0
      },
      "text/plain": [
       "HBox(children=(HTML(value=''), FloatProgress(value=0.0, max=2.0), HTML(value='')))"
      ]
     },
     "metadata": {},
     "output_type": "display_data"
    },
    {
     "name": "stdout",
     "output_type": "stream",
     "text": [
      "\n"
     ]
    },
    {
     "data": {
      "application/vnd.jupyter.widget-view+json": {
       "model_id": "9011ff5480124e36a006bb8fd5df2a11",
       "version_major": 2,
       "version_minor": 0
      },
      "text/plain": [
       "HBox(children=(HTML(value=''), FloatProgress(value=0.0, max=2.0), HTML(value='')))"
      ]
     },
     "metadata": {},
     "output_type": "display_data"
    },
    {
     "name": "stdout",
     "output_type": "stream",
     "text": [
      "\n"
     ]
    },
    {
     "data": {
      "application/vnd.jupyter.widget-view+json": {
       "model_id": "268255325a264559952f39fb90fab2b9",
       "version_major": 2,
       "version_minor": 0
      },
      "text/plain": [
       "HBox(children=(HTML(value=''), FloatProgress(value=0.0, max=2.0), HTML(value='')))"
      ]
     },
     "metadata": {},
     "output_type": "display_data"
    },
    {
     "name": "stdout",
     "output_type": "stream",
     "text": [
      "\n"
     ]
    },
    {
     "data": {
      "application/vnd.jupyter.widget-view+json": {
       "model_id": "2d51d8076bdf4106aa1126b6f2d9b87a",
       "version_major": 2,
       "version_minor": 0
      },
      "text/plain": [
       "HBox(children=(HTML(value=''), FloatProgress(value=0.0, max=2.0), HTML(value='')))"
      ]
     },
     "metadata": {},
     "output_type": "display_data"
    },
    {
     "name": "stdout",
     "output_type": "stream",
     "text": [
      "\n"
     ]
    },
    {
     "data": {
      "application/vnd.jupyter.widget-view+json": {
       "model_id": "211963c9c6bc4eecbfe3fb85b9ba1bf0",
       "version_major": 2,
       "version_minor": 0
      },
      "text/plain": [
       "HBox(children=(HTML(value=''), FloatProgress(value=0.0, max=2.0), HTML(value='')))"
      ]
     },
     "metadata": {},
     "output_type": "display_data"
    },
    {
     "name": "stdout",
     "output_type": "stream",
     "text": [
      "\n"
     ]
    },
    {
     "data": {
      "application/vnd.jupyter.widget-view+json": {
       "model_id": "67b1bc85973c4c7296982cc9c9e0a141",
       "version_major": 2,
       "version_minor": 0
      },
      "text/plain": [
       "HBox(children=(HTML(value=''), FloatProgress(value=0.0, max=2.0), HTML(value='')))"
      ]
     },
     "metadata": {},
     "output_type": "display_data"
    },
    {
     "name": "stdout",
     "output_type": "stream",
     "text": [
      "\n"
     ]
    },
    {
     "data": {
      "application/vnd.jupyter.widget-view+json": {
       "model_id": "1f010b8742de4ebea28f1b0aab4d3b41",
       "version_major": 2,
       "version_minor": 0
      },
      "text/plain": [
       "HBox(children=(HTML(value=''), FloatProgress(value=0.0, max=2.0), HTML(value='')))"
      ]
     },
     "metadata": {},
     "output_type": "display_data"
    },
    {
     "name": "stdout",
     "output_type": "stream",
     "text": [
      "\n"
     ]
    },
    {
     "data": {
      "application/vnd.jupyter.widget-view+json": {
       "model_id": "34a174d7f74c42c2b69fd18c3a99b991",
       "version_major": 2,
       "version_minor": 0
      },
      "text/plain": [
       "HBox(children=(HTML(value=''), FloatProgress(value=0.0, max=2.0), HTML(value='')))"
      ]
     },
     "metadata": {},
     "output_type": "display_data"
    },
    {
     "name": "stdout",
     "output_type": "stream",
     "text": [
      "\n"
     ]
    },
    {
     "data": {
      "application/vnd.jupyter.widget-view+json": {
       "model_id": "ca71714fcea9468d901d46510991cebc",
       "version_major": 2,
       "version_minor": 0
      },
      "text/plain": [
       "HBox(children=(HTML(value=''), FloatProgress(value=0.0, max=2.0), HTML(value='')))"
      ]
     },
     "metadata": {},
     "output_type": "display_data"
    },
    {
     "name": "stdout",
     "output_type": "stream",
     "text": [
      "\n"
     ]
    },
    {
     "data": {
      "application/vnd.jupyter.widget-view+json": {
       "model_id": "c17a7ae5d0d54128a54b1b778a19fb59",
       "version_major": 2,
       "version_minor": 0
      },
      "text/plain": [
       "HBox(children=(HTML(value=''), FloatProgress(value=0.0, max=2.0), HTML(value='')))"
      ]
     },
     "metadata": {},
     "output_type": "display_data"
    },
    {
     "name": "stdout",
     "output_type": "stream",
     "text": [
      "\n"
     ]
    },
    {
     "data": {
      "application/vnd.jupyter.widget-view+json": {
       "model_id": "4ddf8c7224b747b5b14574ca027b8c23",
       "version_major": 2,
       "version_minor": 0
      },
      "text/plain": [
       "HBox(children=(HTML(value=''), FloatProgress(value=0.0, max=2.0), HTML(value='')))"
      ]
     },
     "metadata": {},
     "output_type": "display_data"
    },
    {
     "name": "stdout",
     "output_type": "stream",
     "text": [
      "\n"
     ]
    },
    {
     "data": {
      "application/vnd.jupyter.widget-view+json": {
       "model_id": "b694648b420c49c0bede85fea8791faf",
       "version_major": 2,
       "version_minor": 0
      },
      "text/plain": [
       "HBox(children=(HTML(value=''), FloatProgress(value=0.0, max=2.0), HTML(value='')))"
      ]
     },
     "metadata": {},
     "output_type": "display_data"
    },
    {
     "name": "stdout",
     "output_type": "stream",
     "text": [
      "\n"
     ]
    },
    {
     "data": {
      "application/vnd.jupyter.widget-view+json": {
       "model_id": "137155172f71404a81bd9aeb86f28c7a",
       "version_major": 2,
       "version_minor": 0
      },
      "text/plain": [
       "HBox(children=(HTML(value=''), FloatProgress(value=0.0, max=2.0), HTML(value='')))"
      ]
     },
     "metadata": {},
     "output_type": "display_data"
    },
    {
     "name": "stdout",
     "output_type": "stream",
     "text": [
      "\n"
     ]
    },
    {
     "data": {
      "application/vnd.jupyter.widget-view+json": {
       "model_id": "390b2833595a49e59e24cf4e3eaaa85d",
       "version_major": 2,
       "version_minor": 0
      },
      "text/plain": [
       "HBox(children=(HTML(value=''), FloatProgress(value=0.0, max=2.0), HTML(value='')))"
      ]
     },
     "metadata": {},
     "output_type": "display_data"
    },
    {
     "name": "stdout",
     "output_type": "stream",
     "text": [
      "\n"
     ]
    },
    {
     "data": {
      "application/vnd.jupyter.widget-view+json": {
       "model_id": "d5ce25c3d09d4ccebb4d277123ea98dc",
       "version_major": 2,
       "version_minor": 0
      },
      "text/plain": [
       "HBox(children=(HTML(value=''), FloatProgress(value=0.0, max=2.0), HTML(value='')))"
      ]
     },
     "metadata": {},
     "output_type": "display_data"
    },
    {
     "name": "stdout",
     "output_type": "stream",
     "text": [
      "\n"
     ]
    },
    {
     "data": {
      "application/vnd.jupyter.widget-view+json": {
       "model_id": "6062712d9d93493391699331f67ccdac",
       "version_major": 2,
       "version_minor": 0
      },
      "text/plain": [
       "HBox(children=(HTML(value=''), FloatProgress(value=0.0, max=2.0), HTML(value='')))"
      ]
     },
     "metadata": {},
     "output_type": "display_data"
    },
    {
     "name": "stdout",
     "output_type": "stream",
     "text": [
      "\n"
     ]
    },
    {
     "data": {
      "application/vnd.jupyter.widget-view+json": {
       "model_id": "80a824de83d44ec9a092c0a28f4cb2e3",
       "version_major": 2,
       "version_minor": 0
      },
      "text/plain": [
       "HBox(children=(HTML(value=''), FloatProgress(value=0.0, max=2.0), HTML(value='')))"
      ]
     },
     "metadata": {},
     "output_type": "display_data"
    },
    {
     "name": "stdout",
     "output_type": "stream",
     "text": [
      "\n"
     ]
    },
    {
     "data": {
      "application/vnd.jupyter.widget-view+json": {
       "model_id": "19e3f2af4df4432cb1cb4d0429159c0b",
       "version_major": 2,
       "version_minor": 0
      },
      "text/plain": [
       "HBox(children=(HTML(value=''), FloatProgress(value=0.0, max=2.0), HTML(value='')))"
      ]
     },
     "metadata": {},
     "output_type": "display_data"
    },
    {
     "name": "stdout",
     "output_type": "stream",
     "text": [
      "\n"
     ]
    },
    {
     "data": {
      "application/vnd.jupyter.widget-view+json": {
       "model_id": "93f6f096b78c4974ac091ff7b183e4b8",
       "version_major": 2,
       "version_minor": 0
      },
      "text/plain": [
       "HBox(children=(HTML(value=''), FloatProgress(value=0.0, max=2.0), HTML(value='')))"
      ]
     },
     "metadata": {},
     "output_type": "display_data"
    },
    {
     "name": "stdout",
     "output_type": "stream",
     "text": [
      "\n"
     ]
    },
    {
     "data": {
      "application/vnd.jupyter.widget-view+json": {
       "model_id": "486f9cf4826a4850b93d0a012f63b511",
       "version_major": 2,
       "version_minor": 0
      },
      "text/plain": [
       "HBox(children=(HTML(value=''), FloatProgress(value=0.0, max=2.0), HTML(value='')))"
      ]
     },
     "metadata": {},
     "output_type": "display_data"
    },
    {
     "name": "stdout",
     "output_type": "stream",
     "text": [
      "\n"
     ]
    },
    {
     "data": {
      "application/vnd.jupyter.widget-view+json": {
       "model_id": "3f7342e228ad445f9daa5a4afd648ba4",
       "version_major": 2,
       "version_minor": 0
      },
      "text/plain": [
       "HBox(children=(HTML(value=''), FloatProgress(value=0.0, max=2.0), HTML(value='')))"
      ]
     },
     "metadata": {},
     "output_type": "display_data"
    },
    {
     "name": "stdout",
     "output_type": "stream",
     "text": [
      "\n"
     ]
    },
    {
     "data": {
      "application/vnd.jupyter.widget-view+json": {
       "model_id": "b6617f57dded4f788d8efe66bd35dbe3",
       "version_major": 2,
       "version_minor": 0
      },
      "text/plain": [
       "HBox(children=(HTML(value=''), FloatProgress(value=0.0, max=2.0), HTML(value='')))"
      ]
     },
     "metadata": {},
     "output_type": "display_data"
    },
    {
     "name": "stdout",
     "output_type": "stream",
     "text": [
      "\n"
     ]
    },
    {
     "data": {
      "application/vnd.jupyter.widget-view+json": {
       "model_id": "043cb6e808234f23af71ccb116f183a6",
       "version_major": 2,
       "version_minor": 0
      },
      "text/plain": [
       "HBox(children=(HTML(value=''), FloatProgress(value=0.0, max=2.0), HTML(value='')))"
      ]
     },
     "metadata": {},
     "output_type": "display_data"
    },
    {
     "name": "stdout",
     "output_type": "stream",
     "text": [
      "\n"
     ]
    },
    {
     "data": {
      "application/vnd.jupyter.widget-view+json": {
       "model_id": "e7799bb8dbac480eb2c8cce019ff315b",
       "version_major": 2,
       "version_minor": 0
      },
      "text/plain": [
       "HBox(children=(HTML(value=''), FloatProgress(value=0.0, max=2.0), HTML(value='')))"
      ]
     },
     "metadata": {},
     "output_type": "display_data"
    },
    {
     "name": "stdout",
     "output_type": "stream",
     "text": [
      "\n"
     ]
    },
    {
     "data": {
      "application/vnd.jupyter.widget-view+json": {
       "model_id": "f613e08e279541b2a3afb459ca4b8587",
       "version_major": 2,
       "version_minor": 0
      },
      "text/plain": [
       "HBox(children=(HTML(value=''), FloatProgress(value=0.0, max=2.0), HTML(value='')))"
      ]
     },
     "metadata": {},
     "output_type": "display_data"
    },
    {
     "name": "stdout",
     "output_type": "stream",
     "text": [
      "\n"
     ]
    },
    {
     "data": {
      "application/vnd.jupyter.widget-view+json": {
       "model_id": "fe862592396f4ed9951e80c2c6974427",
       "version_major": 2,
       "version_minor": 0
      },
      "text/plain": [
       "HBox(children=(HTML(value=''), FloatProgress(value=0.0, max=2.0), HTML(value='')))"
      ]
     },
     "metadata": {},
     "output_type": "display_data"
    },
    {
     "name": "stdout",
     "output_type": "stream",
     "text": [
      "\n"
     ]
    },
    {
     "data": {
      "application/vnd.jupyter.widget-view+json": {
       "model_id": "a02b26c9f47d4c8b848ff32dd8843e42",
       "version_major": 2,
       "version_minor": 0
      },
      "text/plain": [
       "HBox(children=(HTML(value=''), FloatProgress(value=0.0, max=2.0), HTML(value='')))"
      ]
     },
     "metadata": {},
     "output_type": "display_data"
    },
    {
     "name": "stdout",
     "output_type": "stream",
     "text": [
      "\n"
     ]
    },
    {
     "data": {
      "application/vnd.jupyter.widget-view+json": {
       "model_id": "43cc55a7cb884507bd76860ba30785ba",
       "version_major": 2,
       "version_minor": 0
      },
      "text/plain": [
       "HBox(children=(HTML(value=''), FloatProgress(value=0.0, max=2.0), HTML(value='')))"
      ]
     },
     "metadata": {},
     "output_type": "display_data"
    },
    {
     "name": "stdout",
     "output_type": "stream",
     "text": [
      "\n"
     ]
    },
    {
     "data": {
      "application/vnd.jupyter.widget-view+json": {
       "model_id": "2cbaa8f62487493ea72309c66ed0eea5",
       "version_major": 2,
       "version_minor": 0
      },
      "text/plain": [
       "HBox(children=(HTML(value=''), FloatProgress(value=0.0, max=2.0), HTML(value='')))"
      ]
     },
     "metadata": {},
     "output_type": "display_data"
    },
    {
     "name": "stdout",
     "output_type": "stream",
     "text": [
      "\n"
     ]
    },
    {
     "data": {
      "application/vnd.jupyter.widget-view+json": {
       "model_id": "b0a638e224cc42c5ba91526b51395ea6",
       "version_major": 2,
       "version_minor": 0
      },
      "text/plain": [
       "HBox(children=(HTML(value=''), FloatProgress(value=0.0, max=2.0), HTML(value='')))"
      ]
     },
     "metadata": {},
     "output_type": "display_data"
    },
    {
     "name": "stdout",
     "output_type": "stream",
     "text": [
      "\n"
     ]
    },
    {
     "data": {
      "application/vnd.jupyter.widget-view+json": {
       "model_id": "b532aae05f934a55b0f9adfbd2dab822",
       "version_major": 2,
       "version_minor": 0
      },
      "text/plain": [
       "HBox(children=(HTML(value=''), FloatProgress(value=0.0, max=2.0), HTML(value='')))"
      ]
     },
     "metadata": {},
     "output_type": "display_data"
    },
    {
     "name": "stdout",
     "output_type": "stream",
     "text": [
      "\n"
     ]
    },
    {
     "data": {
      "application/vnd.jupyter.widget-view+json": {
       "model_id": "0a102ea6ac004732bd5e2ea0f943d592",
       "version_major": 2,
       "version_minor": 0
      },
      "text/plain": [
       "HBox(children=(HTML(value=''), FloatProgress(value=0.0, max=2.0), HTML(value='')))"
      ]
     },
     "metadata": {},
     "output_type": "display_data"
    },
    {
     "name": "stdout",
     "output_type": "stream",
     "text": [
      "\n"
     ]
    },
    {
     "data": {
      "application/vnd.jupyter.widget-view+json": {
       "model_id": "0a46b0faf2f64231afe3896cfc763bd7",
       "version_major": 2,
       "version_minor": 0
      },
      "text/plain": [
       "HBox(children=(HTML(value=''), FloatProgress(value=0.0, max=2.0), HTML(value='')))"
      ]
     },
     "metadata": {},
     "output_type": "display_data"
    },
    {
     "name": "stdout",
     "output_type": "stream",
     "text": [
      "\n"
     ]
    },
    {
     "data": {
      "application/vnd.jupyter.widget-view+json": {
       "model_id": "ac4103b593e84fb484424e0bf638a5d1",
       "version_major": 2,
       "version_minor": 0
      },
      "text/plain": [
       "HBox(children=(HTML(value=''), FloatProgress(value=0.0, max=2.0), HTML(value='')))"
      ]
     },
     "metadata": {},
     "output_type": "display_data"
    },
    {
     "name": "stdout",
     "output_type": "stream",
     "text": [
      "\n"
     ]
    },
    {
     "data": {
      "application/vnd.jupyter.widget-view+json": {
       "model_id": "8f62c5d165194018ba080c7195296e91",
       "version_major": 2,
       "version_minor": 0
      },
      "text/plain": [
       "HBox(children=(HTML(value=''), FloatProgress(value=0.0, max=2.0), HTML(value='')))"
      ]
     },
     "metadata": {},
     "output_type": "display_data"
    },
    {
     "name": "stdout",
     "output_type": "stream",
     "text": [
      "\n"
     ]
    },
    {
     "data": {
      "application/vnd.jupyter.widget-view+json": {
       "model_id": "87bfd0adbff04703a957d06f9cc2e34d",
       "version_major": 2,
       "version_minor": 0
      },
      "text/plain": [
       "HBox(children=(HTML(value=''), FloatProgress(value=0.0, max=2.0), HTML(value='')))"
      ]
     },
     "metadata": {},
     "output_type": "display_data"
    },
    {
     "name": "stdout",
     "output_type": "stream",
     "text": [
      "\n"
     ]
    },
    {
     "data": {
      "application/vnd.jupyter.widget-view+json": {
       "model_id": "24d7884422094c72af4e4350cff514af",
       "version_major": 2,
       "version_minor": 0
      },
      "text/plain": [
       "HBox(children=(HTML(value=''), FloatProgress(value=0.0, max=2.0), HTML(value='')))"
      ]
     },
     "metadata": {},
     "output_type": "display_data"
    },
    {
     "name": "stdout",
     "output_type": "stream",
     "text": [
      "\n"
     ]
    },
    {
     "data": {
      "application/vnd.jupyter.widget-view+json": {
       "model_id": "3cc3cd122ebb470cb1b7e47421b13dce",
       "version_major": 2,
       "version_minor": 0
      },
      "text/plain": [
       "HBox(children=(HTML(value=''), FloatProgress(value=0.0, max=2.0), HTML(value='')))"
      ]
     },
     "metadata": {},
     "output_type": "display_data"
    },
    {
     "name": "stdout",
     "output_type": "stream",
     "text": [
      "\n"
     ]
    },
    {
     "data": {
      "application/vnd.jupyter.widget-view+json": {
       "model_id": "df7caefa833046feb28660b89142aa72",
       "version_major": 2,
       "version_minor": 0
      },
      "text/plain": [
       "HBox(children=(HTML(value=''), FloatProgress(value=0.0, max=2.0), HTML(value='')))"
      ]
     },
     "metadata": {},
     "output_type": "display_data"
    },
    {
     "name": "stdout",
     "output_type": "stream",
     "text": [
      "\n"
     ]
    },
    {
     "data": {
      "application/vnd.jupyter.widget-view+json": {
       "model_id": "7f106dfb3a214540a3bbcd318fbef78e",
       "version_major": 2,
       "version_minor": 0
      },
      "text/plain": [
       "HBox(children=(HTML(value=''), FloatProgress(value=0.0, max=2.0), HTML(value='')))"
      ]
     },
     "metadata": {},
     "output_type": "display_data"
    },
    {
     "name": "stdout",
     "output_type": "stream",
     "text": [
      "\n"
     ]
    },
    {
     "data": {
      "application/vnd.jupyter.widget-view+json": {
       "model_id": "8f2c9e1a5b19413f81e2bfd493350bfd",
       "version_major": 2,
       "version_minor": 0
      },
      "text/plain": [
       "HBox(children=(HTML(value=''), FloatProgress(value=0.0, max=2.0), HTML(value='')))"
      ]
     },
     "metadata": {},
     "output_type": "display_data"
    },
    {
     "name": "stdout",
     "output_type": "stream",
     "text": [
      "\n"
     ]
    },
    {
     "data": {
      "application/vnd.jupyter.widget-view+json": {
       "model_id": "4943080f828b4f6eadfdbc2832846521",
       "version_major": 2,
       "version_minor": 0
      },
      "text/plain": [
       "HBox(children=(HTML(value=''), FloatProgress(value=0.0, max=2.0), HTML(value='')))"
      ]
     },
     "metadata": {},
     "output_type": "display_data"
    },
    {
     "name": "stdout",
     "output_type": "stream",
     "text": [
      "\n"
     ]
    },
    {
     "data": {
      "application/vnd.jupyter.widget-view+json": {
       "model_id": "bc02c6f0bea44e02a66ac1515925bc64",
       "version_major": 2,
       "version_minor": 0
      },
      "text/plain": [
       "HBox(children=(HTML(value=''), FloatProgress(value=0.0, max=2.0), HTML(value='')))"
      ]
     },
     "metadata": {},
     "output_type": "display_data"
    },
    {
     "name": "stdout",
     "output_type": "stream",
     "text": [
      "\n"
     ]
    },
    {
     "data": {
      "application/vnd.jupyter.widget-view+json": {
       "model_id": "4ed04527c044495da97fb30f26bd5030",
       "version_major": 2,
       "version_minor": 0
      },
      "text/plain": [
       "HBox(children=(HTML(value=''), FloatProgress(value=0.0, max=2.0), HTML(value='')))"
      ]
     },
     "metadata": {},
     "output_type": "display_data"
    },
    {
     "name": "stdout",
     "output_type": "stream",
     "text": [
      "\n"
     ]
    },
    {
     "data": {
      "application/vnd.jupyter.widget-view+json": {
       "model_id": "f872dc2c3996475aaeffab27dd3b143c",
       "version_major": 2,
       "version_minor": 0
      },
      "text/plain": [
       "HBox(children=(HTML(value=''), FloatProgress(value=0.0, max=2.0), HTML(value='')))"
      ]
     },
     "metadata": {},
     "output_type": "display_data"
    },
    {
     "name": "stdout",
     "output_type": "stream",
     "text": [
      "\n"
     ]
    },
    {
     "data": {
      "application/vnd.jupyter.widget-view+json": {
       "model_id": "50bf226949f24d4e91304b4f65748291",
       "version_major": 2,
       "version_minor": 0
      },
      "text/plain": [
       "HBox(children=(HTML(value=''), FloatProgress(value=0.0, max=2.0), HTML(value='')))"
      ]
     },
     "metadata": {},
     "output_type": "display_data"
    },
    {
     "name": "stdout",
     "output_type": "stream",
     "text": [
      "\n"
     ]
    },
    {
     "data": {
      "application/vnd.jupyter.widget-view+json": {
       "model_id": "cdaae3dc77ef4a118bb1e682a378afed",
       "version_major": 2,
       "version_minor": 0
      },
      "text/plain": [
       "HBox(children=(HTML(value=''), FloatProgress(value=0.0, max=2.0), HTML(value='')))"
      ]
     },
     "metadata": {},
     "output_type": "display_data"
    },
    {
     "name": "stdout",
     "output_type": "stream",
     "text": [
      "\n"
     ]
    },
    {
     "data": {
      "application/vnd.jupyter.widget-view+json": {
       "model_id": "97ca316527c44537bd6e47b33f09b0f1",
       "version_major": 2,
       "version_minor": 0
      },
      "text/plain": [
       "HBox(children=(HTML(value=''), FloatProgress(value=0.0, max=2.0), HTML(value='')))"
      ]
     },
     "metadata": {},
     "output_type": "display_data"
    },
    {
     "name": "stdout",
     "output_type": "stream",
     "text": [
      "\n"
     ]
    },
    {
     "data": {
      "application/vnd.jupyter.widget-view+json": {
       "model_id": "8e6fdba9c951443ea93e7512a30b894b",
       "version_major": 2,
       "version_minor": 0
      },
      "text/plain": [
       "HBox(children=(HTML(value=''), FloatProgress(value=0.0, max=2.0), HTML(value='')))"
      ]
     },
     "metadata": {},
     "output_type": "display_data"
    },
    {
     "name": "stdout",
     "output_type": "stream",
     "text": [
      "\n"
     ]
    },
    {
     "data": {
      "application/vnd.jupyter.widget-view+json": {
       "model_id": "9b4699b566d84634ac5e9f6c34a8e13e",
       "version_major": 2,
       "version_minor": 0
      },
      "text/plain": [
       "HBox(children=(HTML(value=''), FloatProgress(value=0.0, max=2.0), HTML(value='')))"
      ]
     },
     "metadata": {},
     "output_type": "display_data"
    },
    {
     "name": "stdout",
     "output_type": "stream",
     "text": [
      "\n"
     ]
    },
    {
     "data": {
      "application/vnd.jupyter.widget-view+json": {
       "model_id": "3f1d9119d53d4c4182e9819bafa671b3",
       "version_major": 2,
       "version_minor": 0
      },
      "text/plain": [
       "HBox(children=(HTML(value=''), FloatProgress(value=0.0, max=2.0), HTML(value='')))"
      ]
     },
     "metadata": {},
     "output_type": "display_data"
    },
    {
     "name": "stdout",
     "output_type": "stream",
     "text": [
      "\n"
     ]
    },
    {
     "data": {
      "application/vnd.jupyter.widget-view+json": {
       "model_id": "1d0bdb4a6670478da1971be6570fed42",
       "version_major": 2,
       "version_minor": 0
      },
      "text/plain": [
       "HBox(children=(HTML(value=''), FloatProgress(value=0.0, max=2.0), HTML(value='')))"
      ]
     },
     "metadata": {},
     "output_type": "display_data"
    },
    {
     "name": "stdout",
     "output_type": "stream",
     "text": [
      "\n"
     ]
    },
    {
     "data": {
      "application/vnd.jupyter.widget-view+json": {
       "model_id": "4db3c034ac5342ad8eb9472d9ac3ae19",
       "version_major": 2,
       "version_minor": 0
      },
      "text/plain": [
       "HBox(children=(HTML(value=''), FloatProgress(value=0.0, max=2.0), HTML(value='')))"
      ]
     },
     "metadata": {},
     "output_type": "display_data"
    },
    {
     "name": "stdout",
     "output_type": "stream",
     "text": [
      "\n"
     ]
    },
    {
     "data": {
      "application/vnd.jupyter.widget-view+json": {
       "model_id": "313e660e1eed4273abccee3f6f541802",
       "version_major": 2,
       "version_minor": 0
      },
      "text/plain": [
       "HBox(children=(HTML(value=''), FloatProgress(value=0.0, max=2.0), HTML(value='')))"
      ]
     },
     "metadata": {},
     "output_type": "display_data"
    },
    {
     "name": "stdout",
     "output_type": "stream",
     "text": [
      "\n"
     ]
    },
    {
     "data": {
      "application/vnd.jupyter.widget-view+json": {
       "model_id": "8d70162714ce42b4a9d08deda053e703",
       "version_major": 2,
       "version_minor": 0
      },
      "text/plain": [
       "HBox(children=(HTML(value=''), FloatProgress(value=0.0, max=2.0), HTML(value='')))"
      ]
     },
     "metadata": {},
     "output_type": "display_data"
    },
    {
     "name": "stdout",
     "output_type": "stream",
     "text": [
      "\n"
     ]
    },
    {
     "data": {
      "application/vnd.jupyter.widget-view+json": {
       "model_id": "a500696fd9024191b35801605635b202",
       "version_major": 2,
       "version_minor": 0
      },
      "text/plain": [
       "HBox(children=(HTML(value=''), FloatProgress(value=0.0, max=2.0), HTML(value='')))"
      ]
     },
     "metadata": {},
     "output_type": "display_data"
    },
    {
     "name": "stdout",
     "output_type": "stream",
     "text": [
      "\n"
     ]
    },
    {
     "data": {
      "application/vnd.jupyter.widget-view+json": {
       "model_id": "68230ab349ba44c9a9232d83b6a7b68a",
       "version_major": 2,
       "version_minor": 0
      },
      "text/plain": [
       "HBox(children=(HTML(value=''), FloatProgress(value=0.0, max=2.0), HTML(value='')))"
      ]
     },
     "metadata": {},
     "output_type": "display_data"
    },
    {
     "name": "stdout",
     "output_type": "stream",
     "text": [
      "\n"
     ]
    },
    {
     "data": {
      "application/vnd.jupyter.widget-view+json": {
       "model_id": "72b47818eefb4f76bf7ddcd23d6ca270",
       "version_major": 2,
       "version_minor": 0
      },
      "text/plain": [
       "HBox(children=(HTML(value=''), FloatProgress(value=0.0, max=2.0), HTML(value='')))"
      ]
     },
     "metadata": {},
     "output_type": "display_data"
    },
    {
     "name": "stdout",
     "output_type": "stream",
     "text": [
      "\n"
     ]
    },
    {
     "data": {
      "application/vnd.jupyter.widget-view+json": {
       "model_id": "a9cb5cc5a07c4a92a199a81c94442c84",
       "version_major": 2,
       "version_minor": 0
      },
      "text/plain": [
       "HBox(children=(HTML(value=''), FloatProgress(value=0.0, max=2.0), HTML(value='')))"
      ]
     },
     "metadata": {},
     "output_type": "display_data"
    },
    {
     "name": "stdout",
     "output_type": "stream",
     "text": [
      "\n"
     ]
    },
    {
     "data": {
      "application/vnd.jupyter.widget-view+json": {
       "model_id": "b29fd2bc32d24a4390adfa45075ba9ea",
       "version_major": 2,
       "version_minor": 0
      },
      "text/plain": [
       "HBox(children=(HTML(value=''), FloatProgress(value=0.0, max=2.0), HTML(value='')))"
      ]
     },
     "metadata": {},
     "output_type": "display_data"
    },
    {
     "name": "stdout",
     "output_type": "stream",
     "text": [
      "\n"
     ]
    },
    {
     "data": {
      "application/vnd.jupyter.widget-view+json": {
       "model_id": "f1cc4c3050814818b4845815cb350844",
       "version_major": 2,
       "version_minor": 0
      },
      "text/plain": [
       "HBox(children=(HTML(value=''), FloatProgress(value=0.0, max=2.0), HTML(value='')))"
      ]
     },
     "metadata": {},
     "output_type": "display_data"
    },
    {
     "name": "stdout",
     "output_type": "stream",
     "text": [
      "\n"
     ]
    },
    {
     "data": {
      "application/vnd.jupyter.widget-view+json": {
       "model_id": "f79df0b0e3664dd3b64a9104ac8c3c22",
       "version_major": 2,
       "version_minor": 0
      },
      "text/plain": [
       "HBox(children=(HTML(value=''), FloatProgress(value=0.0, max=2.0), HTML(value='')))"
      ]
     },
     "metadata": {},
     "output_type": "display_data"
    },
    {
     "name": "stdout",
     "output_type": "stream",
     "text": [
      "\n"
     ]
    },
    {
     "data": {
      "application/vnd.jupyter.widget-view+json": {
       "model_id": "1b2634f051504306aed56de66f2f8650",
       "version_major": 2,
       "version_minor": 0
      },
      "text/plain": [
       "HBox(children=(HTML(value=''), FloatProgress(value=0.0, max=2.0), HTML(value='')))"
      ]
     },
     "metadata": {},
     "output_type": "display_data"
    },
    {
     "name": "stdout",
     "output_type": "stream",
     "text": [
      "\n"
     ]
    },
    {
     "data": {
      "application/vnd.jupyter.widget-view+json": {
       "model_id": "df46735f826d42b4b33184329af98961",
       "version_major": 2,
       "version_minor": 0
      },
      "text/plain": [
       "HBox(children=(HTML(value=''), FloatProgress(value=0.0, max=2.0), HTML(value='')))"
      ]
     },
     "metadata": {},
     "output_type": "display_data"
    },
    {
     "name": "stdout",
     "output_type": "stream",
     "text": [
      "\n"
     ]
    },
    {
     "data": {
      "application/vnd.jupyter.widget-view+json": {
       "model_id": "417b0742a0cd40a7b8e59083a4863cba",
       "version_major": 2,
       "version_minor": 0
      },
      "text/plain": [
       "HBox(children=(HTML(value=''), FloatProgress(value=0.0, max=2.0), HTML(value='')))"
      ]
     },
     "metadata": {},
     "output_type": "display_data"
    },
    {
     "name": "stdout",
     "output_type": "stream",
     "text": [
      "\n"
     ]
    },
    {
     "data": {
      "application/vnd.jupyter.widget-view+json": {
       "model_id": "26950ff7f82841ad9c37747cccfd7d6b",
       "version_major": 2,
       "version_minor": 0
      },
      "text/plain": [
       "HBox(children=(HTML(value=''), FloatProgress(value=0.0, max=2.0), HTML(value='')))"
      ]
     },
     "metadata": {},
     "output_type": "display_data"
    },
    {
     "name": "stdout",
     "output_type": "stream",
     "text": [
      "\n"
     ]
    },
    {
     "data": {
      "application/vnd.jupyter.widget-view+json": {
       "model_id": "6ac5bb8667af45a6ba455d66d2a81fb9",
       "version_major": 2,
       "version_minor": 0
      },
      "text/plain": [
       "HBox(children=(HTML(value=''), FloatProgress(value=0.0, max=2.0), HTML(value='')))"
      ]
     },
     "metadata": {},
     "output_type": "display_data"
    },
    {
     "name": "stdout",
     "output_type": "stream",
     "text": [
      "\n"
     ]
    },
    {
     "data": {
      "application/vnd.jupyter.widget-view+json": {
       "model_id": "96a050ac7b854f58aeac8b1a2cf8d377",
       "version_major": 2,
       "version_minor": 0
      },
      "text/plain": [
       "HBox(children=(HTML(value=''), FloatProgress(value=0.0, max=2.0), HTML(value='')))"
      ]
     },
     "metadata": {},
     "output_type": "display_data"
    },
    {
     "name": "stdout",
     "output_type": "stream",
     "text": [
      "\n"
     ]
    },
    {
     "data": {
      "application/vnd.jupyter.widget-view+json": {
       "model_id": "978779c7b9e848c49dab6e5bb0e671fa",
       "version_major": 2,
       "version_minor": 0
      },
      "text/plain": [
       "HBox(children=(HTML(value=''), FloatProgress(value=0.0, max=2.0), HTML(value='')))"
      ]
     },
     "metadata": {},
     "output_type": "display_data"
    },
    {
     "name": "stdout",
     "output_type": "stream",
     "text": [
      "\n"
     ]
    },
    {
     "data": {
      "application/vnd.jupyter.widget-view+json": {
       "model_id": "64b9a190e6644d7e9fa501ab72f9e886",
       "version_major": 2,
       "version_minor": 0
      },
      "text/plain": [
       "HBox(children=(HTML(value=''), FloatProgress(value=0.0, max=2.0), HTML(value='')))"
      ]
     },
     "metadata": {},
     "output_type": "display_data"
    },
    {
     "name": "stdout",
     "output_type": "stream",
     "text": [
      "\n"
     ]
    },
    {
     "data": {
      "application/vnd.jupyter.widget-view+json": {
       "model_id": "46b872238c924a409e099dfc15201181",
       "version_major": 2,
       "version_minor": 0
      },
      "text/plain": [
       "HBox(children=(HTML(value=''), FloatProgress(value=0.0, max=2.0), HTML(value='')))"
      ]
     },
     "metadata": {},
     "output_type": "display_data"
    },
    {
     "name": "stdout",
     "output_type": "stream",
     "text": [
      "\n"
     ]
    },
    {
     "data": {
      "application/vnd.jupyter.widget-view+json": {
       "model_id": "fc46edcfaa154e62977ecc9aeacd3b75",
       "version_major": 2,
       "version_minor": 0
      },
      "text/plain": [
       "HBox(children=(HTML(value=''), FloatProgress(value=0.0, max=2.0), HTML(value='')))"
      ]
     },
     "metadata": {},
     "output_type": "display_data"
    },
    {
     "name": "stdout",
     "output_type": "stream",
     "text": [
      "\n"
     ]
    },
    {
     "data": {
      "application/vnd.jupyter.widget-view+json": {
       "model_id": "acd2adbde9fd44f58de4e595edd40ee6",
       "version_major": 2,
       "version_minor": 0
      },
      "text/plain": [
       "HBox(children=(HTML(value=''), FloatProgress(value=0.0, max=2.0), HTML(value='')))"
      ]
     },
     "metadata": {},
     "output_type": "display_data"
    },
    {
     "name": "stdout",
     "output_type": "stream",
     "text": [
      "\n"
     ]
    },
    {
     "data": {
      "application/vnd.jupyter.widget-view+json": {
       "model_id": "e8b428977d1d4e73b4a8bce05f3fa14d",
       "version_major": 2,
       "version_minor": 0
      },
      "text/plain": [
       "HBox(children=(HTML(value=''), FloatProgress(value=0.0, max=2.0), HTML(value='')))"
      ]
     },
     "metadata": {},
     "output_type": "display_data"
    },
    {
     "name": "stdout",
     "output_type": "stream",
     "text": [
      "\n"
     ]
    },
    {
     "data": {
      "application/vnd.jupyter.widget-view+json": {
       "model_id": "b22e103af4654a65a6d03ba8fd8c390a",
       "version_major": 2,
       "version_minor": 0
      },
      "text/plain": [
       "HBox(children=(HTML(value=''), FloatProgress(value=0.0, max=2.0), HTML(value='')))"
      ]
     },
     "metadata": {},
     "output_type": "display_data"
    },
    {
     "name": "stdout",
     "output_type": "stream",
     "text": [
      "\n"
     ]
    },
    {
     "data": {
      "application/vnd.jupyter.widget-view+json": {
       "model_id": "6206be4909c449b284afcae3d3128de4",
       "version_major": 2,
       "version_minor": 0
      },
      "text/plain": [
       "HBox(children=(HTML(value=''), FloatProgress(value=0.0, max=2.0), HTML(value='')))"
      ]
     },
     "metadata": {},
     "output_type": "display_data"
    },
    {
     "name": "stdout",
     "output_type": "stream",
     "text": [
      "\n"
     ]
    },
    {
     "data": {
      "application/vnd.jupyter.widget-view+json": {
       "model_id": "f76a8349846c47c0a01ee9f56808f915",
       "version_major": 2,
       "version_minor": 0
      },
      "text/plain": [
       "HBox(children=(HTML(value=''), FloatProgress(value=0.0, max=2.0), HTML(value='')))"
      ]
     },
     "metadata": {},
     "output_type": "display_data"
    },
    {
     "name": "stdout",
     "output_type": "stream",
     "text": [
      "\n"
     ]
    },
    {
     "data": {
      "application/vnd.jupyter.widget-view+json": {
       "model_id": "9fffa0d8949942069327c5bd29c0d58f",
       "version_major": 2,
       "version_minor": 0
      },
      "text/plain": [
       "HBox(children=(HTML(value=''), FloatProgress(value=0.0, max=2.0), HTML(value='')))"
      ]
     },
     "metadata": {},
     "output_type": "display_data"
    },
    {
     "name": "stdout",
     "output_type": "stream",
     "text": [
      "\n"
     ]
    },
    {
     "data": {
      "application/vnd.jupyter.widget-view+json": {
       "model_id": "2119b3b0bbd440988cf13c9034050d95",
       "version_major": 2,
       "version_minor": 0
      },
      "text/plain": [
       "HBox(children=(HTML(value=''), FloatProgress(value=0.0, max=2.0), HTML(value='')))"
      ]
     },
     "metadata": {},
     "output_type": "display_data"
    },
    {
     "name": "stdout",
     "output_type": "stream",
     "text": [
      "\n"
     ]
    },
    {
     "data": {
      "application/vnd.jupyter.widget-view+json": {
       "model_id": "8ab214f43dbb43818bd8755b0c293db3",
       "version_major": 2,
       "version_minor": 0
      },
      "text/plain": [
       "HBox(children=(HTML(value=''), FloatProgress(value=0.0, max=2.0), HTML(value='')))"
      ]
     },
     "metadata": {},
     "output_type": "display_data"
    },
    {
     "name": "stdout",
     "output_type": "stream",
     "text": [
      "\n"
     ]
    },
    {
     "data": {
      "application/vnd.jupyter.widget-view+json": {
       "model_id": "a26a61372ea7472b949dea2c7a2a44b0",
       "version_major": 2,
       "version_minor": 0
      },
      "text/plain": [
       "HBox(children=(HTML(value=''), FloatProgress(value=0.0, max=2.0), HTML(value='')))"
      ]
     },
     "metadata": {},
     "output_type": "display_data"
    },
    {
     "name": "stdout",
     "output_type": "stream",
     "text": [
      "\n"
     ]
    },
    {
     "data": {
      "application/vnd.jupyter.widget-view+json": {
       "model_id": "6d55f94c4b4a4728a79de10360f12c92",
       "version_major": 2,
       "version_minor": 0
      },
      "text/plain": [
       "HBox(children=(HTML(value=''), FloatProgress(value=0.0, max=2.0), HTML(value='')))"
      ]
     },
     "metadata": {},
     "output_type": "display_data"
    },
    {
     "name": "stdout",
     "output_type": "stream",
     "text": [
      "\n"
     ]
    },
    {
     "data": {
      "application/vnd.jupyter.widget-view+json": {
       "model_id": "cf5ca5ac732743afb1270393bdc9dbd3",
       "version_major": 2,
       "version_minor": 0
      },
      "text/plain": [
       "HBox(children=(HTML(value=''), FloatProgress(value=0.0, max=2.0), HTML(value='')))"
      ]
     },
     "metadata": {},
     "output_type": "display_data"
    },
    {
     "name": "stdout",
     "output_type": "stream",
     "text": [
      "\n"
     ]
    },
    {
     "data": {
      "application/vnd.jupyter.widget-view+json": {
       "model_id": "d39d6dcc88c545b2bb3c198c931d27f0",
       "version_major": 2,
       "version_minor": 0
      },
      "text/plain": [
       "HBox(children=(HTML(value=''), FloatProgress(value=0.0, max=2.0), HTML(value='')))"
      ]
     },
     "metadata": {},
     "output_type": "display_data"
    },
    {
     "name": "stdout",
     "output_type": "stream",
     "text": [
      "\n"
     ]
    },
    {
     "data": {
      "application/vnd.jupyter.widget-view+json": {
       "model_id": "56404ef6289449a9a0e921cbe00c718a",
       "version_major": 2,
       "version_minor": 0
      },
      "text/plain": [
       "HBox(children=(HTML(value=''), FloatProgress(value=0.0, max=2.0), HTML(value='')))"
      ]
     },
     "metadata": {},
     "output_type": "display_data"
    },
    {
     "name": "stdout",
     "output_type": "stream",
     "text": [
      "\n"
     ]
    },
    {
     "data": {
      "application/vnd.jupyter.widget-view+json": {
       "model_id": "fa9767ec006f4b09911d6c28d0dca204",
       "version_major": 2,
       "version_minor": 0
      },
      "text/plain": [
       "HBox(children=(HTML(value=''), FloatProgress(value=0.0, max=2.0), HTML(value='')))"
      ]
     },
     "metadata": {},
     "output_type": "display_data"
    },
    {
     "name": "stdout",
     "output_type": "stream",
     "text": [
      "\n"
     ]
    },
    {
     "data": {
      "application/vnd.jupyter.widget-view+json": {
       "model_id": "f49fe3ed6ca5457a80c2994c81997663",
       "version_major": 2,
       "version_minor": 0
      },
      "text/plain": [
       "HBox(children=(HTML(value=''), FloatProgress(value=0.0, max=2.0), HTML(value='')))"
      ]
     },
     "metadata": {},
     "output_type": "display_data"
    },
    {
     "name": "stdout",
     "output_type": "stream",
     "text": [
      "\n"
     ]
    },
    {
     "data": {
      "application/vnd.jupyter.widget-view+json": {
       "model_id": "2bf668b0614b4f13a61c072d4f8c15a5",
       "version_major": 2,
       "version_minor": 0
      },
      "text/plain": [
       "HBox(children=(HTML(value=''), FloatProgress(value=0.0, max=2.0), HTML(value='')))"
      ]
     },
     "metadata": {},
     "output_type": "display_data"
    },
    {
     "name": "stdout",
     "output_type": "stream",
     "text": [
      "\n"
     ]
    },
    {
     "data": {
      "application/vnd.jupyter.widget-view+json": {
       "model_id": "c41e6e6bc7984b5a94add4f0617f5167",
       "version_major": 2,
       "version_minor": 0
      },
      "text/plain": [
       "HBox(children=(HTML(value=''), FloatProgress(value=0.0, max=2.0), HTML(value='')))"
      ]
     },
     "metadata": {},
     "output_type": "display_data"
    },
    {
     "name": "stdout",
     "output_type": "stream",
     "text": [
      "\n"
     ]
    },
    {
     "data": {
      "application/vnd.jupyter.widget-view+json": {
       "model_id": "23928e85be8a40d9951afddb0aa5b321",
       "version_major": 2,
       "version_minor": 0
      },
      "text/plain": [
       "HBox(children=(HTML(value=''), FloatProgress(value=0.0, max=2.0), HTML(value='')))"
      ]
     },
     "metadata": {},
     "output_type": "display_data"
    },
    {
     "name": "stdout",
     "output_type": "stream",
     "text": [
      "\n"
     ]
    },
    {
     "data": {
      "application/vnd.jupyter.widget-view+json": {
       "model_id": "97222aa3be754e64a8f03e82271bf0d9",
       "version_major": 2,
       "version_minor": 0
      },
      "text/plain": [
       "HBox(children=(HTML(value=''), FloatProgress(value=0.0, max=2.0), HTML(value='')))"
      ]
     },
     "metadata": {},
     "output_type": "display_data"
    },
    {
     "name": "stdout",
     "output_type": "stream",
     "text": [
      "\n"
     ]
    },
    {
     "data": {
      "application/vnd.jupyter.widget-view+json": {
       "model_id": "0c5710ccd4914c9b8147ae79233a334e",
       "version_major": 2,
       "version_minor": 0
      },
      "text/plain": [
       "HBox(children=(HTML(value=''), FloatProgress(value=0.0, max=2.0), HTML(value='')))"
      ]
     },
     "metadata": {},
     "output_type": "display_data"
    },
    {
     "name": "stdout",
     "output_type": "stream",
     "text": [
      "\n"
     ]
    },
    {
     "data": {
      "application/vnd.jupyter.widget-view+json": {
       "model_id": "195a09f409cf4a799cea485bd0cefe2d",
       "version_major": 2,
       "version_minor": 0
      },
      "text/plain": [
       "HBox(children=(HTML(value=''), FloatProgress(value=0.0, max=2.0), HTML(value='')))"
      ]
     },
     "metadata": {},
     "output_type": "display_data"
    },
    {
     "name": "stdout",
     "output_type": "stream",
     "text": [
      "\n"
     ]
    },
    {
     "data": {
      "application/vnd.jupyter.widget-view+json": {
       "model_id": "5f0e67f9a27f42619b8c5fd50278c8c6",
       "version_major": 2,
       "version_minor": 0
      },
      "text/plain": [
       "HBox(children=(HTML(value=''), FloatProgress(value=0.0, max=2.0), HTML(value='')))"
      ]
     },
     "metadata": {},
     "output_type": "display_data"
    },
    {
     "name": "stdout",
     "output_type": "stream",
     "text": [
      "\n"
     ]
    },
    {
     "data": {
      "application/vnd.jupyter.widget-view+json": {
       "model_id": "43860fde9f9643ff85bbfb217e240d29",
       "version_major": 2,
       "version_minor": 0
      },
      "text/plain": [
       "HBox(children=(HTML(value=''), FloatProgress(value=0.0, max=2.0), HTML(value='')))"
      ]
     },
     "metadata": {},
     "output_type": "display_data"
    },
    {
     "name": "stdout",
     "output_type": "stream",
     "text": [
      "\n"
     ]
    },
    {
     "data": {
      "application/vnd.jupyter.widget-view+json": {
       "model_id": "4febf32efb1240adabc27e2010de9ca8",
       "version_major": 2,
       "version_minor": 0
      },
      "text/plain": [
       "HBox(children=(HTML(value=''), FloatProgress(value=0.0, max=2.0), HTML(value='')))"
      ]
     },
     "metadata": {},
     "output_type": "display_data"
    },
    {
     "name": "stdout",
     "output_type": "stream",
     "text": [
      "\n"
     ]
    },
    {
     "data": {
      "application/vnd.jupyter.widget-view+json": {
       "model_id": "e7e926b977ae437e9067448e6bccec0b",
       "version_major": 2,
       "version_minor": 0
      },
      "text/plain": [
       "HBox(children=(HTML(value=''), FloatProgress(value=0.0, max=2.0), HTML(value='')))"
      ]
     },
     "metadata": {},
     "output_type": "display_data"
    },
    {
     "name": "stdout",
     "output_type": "stream",
     "text": [
      "\n"
     ]
    },
    {
     "data": {
      "application/vnd.jupyter.widget-view+json": {
       "model_id": "65742f4542d94d3e9ac20357bb6b09c5",
       "version_major": 2,
       "version_minor": 0
      },
      "text/plain": [
       "HBox(children=(HTML(value=''), FloatProgress(value=0.0, max=2.0), HTML(value='')))"
      ]
     },
     "metadata": {},
     "output_type": "display_data"
    },
    {
     "name": "stdout",
     "output_type": "stream",
     "text": [
      "\n"
     ]
    },
    {
     "data": {
      "application/vnd.jupyter.widget-view+json": {
       "model_id": "878cbaeb12a54c1787da716a3c6bab0d",
       "version_major": 2,
       "version_minor": 0
      },
      "text/plain": [
       "HBox(children=(HTML(value=''), FloatProgress(value=0.0, max=2.0), HTML(value='')))"
      ]
     },
     "metadata": {},
     "output_type": "display_data"
    },
    {
     "name": "stdout",
     "output_type": "stream",
     "text": [
      "\n"
     ]
    },
    {
     "data": {
      "application/vnd.jupyter.widget-view+json": {
       "model_id": "12dfc25f5c2a4faeb5e42415fec78073",
       "version_major": 2,
       "version_minor": 0
      },
      "text/plain": [
       "HBox(children=(HTML(value=''), FloatProgress(value=0.0, max=2.0), HTML(value='')))"
      ]
     },
     "metadata": {},
     "output_type": "display_data"
    },
    {
     "name": "stdout",
     "output_type": "stream",
     "text": [
      "\n"
     ]
    },
    {
     "data": {
      "application/vnd.jupyter.widget-view+json": {
       "model_id": "c6a517c03fc8486f9212653b89ebe817",
       "version_major": 2,
       "version_minor": 0
      },
      "text/plain": [
       "HBox(children=(HTML(value=''), FloatProgress(value=0.0, max=2.0), HTML(value='')))"
      ]
     },
     "metadata": {},
     "output_type": "display_data"
    },
    {
     "name": "stdout",
     "output_type": "stream",
     "text": [
      "\n"
     ]
    },
    {
     "data": {
      "application/vnd.jupyter.widget-view+json": {
       "model_id": "592cb0dbdec74d3b9085466f9cf8e136",
       "version_major": 2,
       "version_minor": 0
      },
      "text/plain": [
       "HBox(children=(HTML(value=''), FloatProgress(value=0.0, max=2.0), HTML(value='')))"
      ]
     },
     "metadata": {},
     "output_type": "display_data"
    },
    {
     "name": "stdout",
     "output_type": "stream",
     "text": [
      "\n"
     ]
    },
    {
     "data": {
      "application/vnd.jupyter.widget-view+json": {
       "model_id": "c8a58121e491404a9a2eb8f350fdf4b5",
       "version_major": 2,
       "version_minor": 0
      },
      "text/plain": [
       "HBox(children=(HTML(value=''), FloatProgress(value=0.0, max=2.0), HTML(value='')))"
      ]
     },
     "metadata": {},
     "output_type": "display_data"
    },
    {
     "name": "stdout",
     "output_type": "stream",
     "text": [
      "\n"
     ]
    },
    {
     "data": {
      "application/vnd.jupyter.widget-view+json": {
       "model_id": "f8dd67abdbe543e6bc7da079e3343669",
       "version_major": 2,
       "version_minor": 0
      },
      "text/plain": [
       "HBox(children=(HTML(value=''), FloatProgress(value=0.0, max=2.0), HTML(value='')))"
      ]
     },
     "metadata": {},
     "output_type": "display_data"
    },
    {
     "name": "stdout",
     "output_type": "stream",
     "text": [
      "\n"
     ]
    },
    {
     "data": {
      "application/vnd.jupyter.widget-view+json": {
       "model_id": "8fa7bf2ad63a4f769be2701588bce351",
       "version_major": 2,
       "version_minor": 0
      },
      "text/plain": [
       "HBox(children=(HTML(value=''), FloatProgress(value=0.0, max=2.0), HTML(value='')))"
      ]
     },
     "metadata": {},
     "output_type": "display_data"
    },
    {
     "name": "stdout",
     "output_type": "stream",
     "text": [
      "\n"
     ]
    },
    {
     "data": {
      "application/vnd.jupyter.widget-view+json": {
       "model_id": "25173854e7044b4faa5e119b400988eb",
       "version_major": 2,
       "version_minor": 0
      },
      "text/plain": [
       "HBox(children=(HTML(value=''), FloatProgress(value=0.0, max=2.0), HTML(value='')))"
      ]
     },
     "metadata": {},
     "output_type": "display_data"
    },
    {
     "name": "stdout",
     "output_type": "stream",
     "text": [
      "\n"
     ]
    },
    {
     "data": {
      "application/vnd.jupyter.widget-view+json": {
       "model_id": "d1c11df9f28a43028c11e82b2a64dbad",
       "version_major": 2,
       "version_minor": 0
      },
      "text/plain": [
       "HBox(children=(HTML(value=''), FloatProgress(value=0.0, max=2.0), HTML(value='')))"
      ]
     },
     "metadata": {},
     "output_type": "display_data"
    },
    {
     "name": "stdout",
     "output_type": "stream",
     "text": [
      "\n"
     ]
    },
    {
     "data": {
      "application/vnd.jupyter.widget-view+json": {
       "model_id": "f07dc10791744917994b5341c51acd71",
       "version_major": 2,
       "version_minor": 0
      },
      "text/plain": [
       "HBox(children=(HTML(value=''), FloatProgress(value=0.0, max=2.0), HTML(value='')))"
      ]
     },
     "metadata": {},
     "output_type": "display_data"
    },
    {
     "name": "stdout",
     "output_type": "stream",
     "text": [
      "\n"
     ]
    },
    {
     "data": {
      "application/vnd.jupyter.widget-view+json": {
       "model_id": "206703b35a14400ebe32426baeb00348",
       "version_major": 2,
       "version_minor": 0
      },
      "text/plain": [
       "HBox(children=(HTML(value=''), FloatProgress(value=0.0, max=2.0), HTML(value='')))"
      ]
     },
     "metadata": {},
     "output_type": "display_data"
    },
    {
     "name": "stdout",
     "output_type": "stream",
     "text": [
      "\n"
     ]
    },
    {
     "data": {
      "application/vnd.jupyter.widget-view+json": {
       "model_id": "a37a771efe7743d28be114fb67c1b45b",
       "version_major": 2,
       "version_minor": 0
      },
      "text/plain": [
       "HBox(children=(HTML(value=''), FloatProgress(value=0.0, max=2.0), HTML(value='')))"
      ]
     },
     "metadata": {},
     "output_type": "display_data"
    },
    {
     "name": "stdout",
     "output_type": "stream",
     "text": [
      "\n"
     ]
    },
    {
     "data": {
      "application/vnd.jupyter.widget-view+json": {
       "model_id": "b1a51f4de336447e85106bc8a268e214",
       "version_major": 2,
       "version_minor": 0
      },
      "text/plain": [
       "HBox(children=(HTML(value=''), FloatProgress(value=0.0, max=2.0), HTML(value='')))"
      ]
     },
     "metadata": {},
     "output_type": "display_data"
    },
    {
     "name": "stdout",
     "output_type": "stream",
     "text": [
      "\n"
     ]
    },
    {
     "data": {
      "application/vnd.jupyter.widget-view+json": {
       "model_id": "f0703b55a4854a5584350350b5d2a470",
       "version_major": 2,
       "version_minor": 0
      },
      "text/plain": [
       "HBox(children=(HTML(value=''), FloatProgress(value=0.0, max=2.0), HTML(value='')))"
      ]
     },
     "metadata": {},
     "output_type": "display_data"
    },
    {
     "name": "stdout",
     "output_type": "stream",
     "text": [
      "\n"
     ]
    },
    {
     "data": {
      "application/vnd.jupyter.widget-view+json": {
       "model_id": "1578b92a334442deb0a50539bab89598",
       "version_major": 2,
       "version_minor": 0
      },
      "text/plain": [
       "HBox(children=(HTML(value=''), FloatProgress(value=0.0, max=2.0), HTML(value='')))"
      ]
     },
     "metadata": {},
     "output_type": "display_data"
    },
    {
     "name": "stdout",
     "output_type": "stream",
     "text": [
      "\n"
     ]
    },
    {
     "data": {
      "application/vnd.jupyter.widget-view+json": {
       "model_id": "793a0e91fc054ce0849d7735c71d1433",
       "version_major": 2,
       "version_minor": 0
      },
      "text/plain": [
       "HBox(children=(HTML(value=''), FloatProgress(value=0.0, max=2.0), HTML(value='')))"
      ]
     },
     "metadata": {},
     "output_type": "display_data"
    },
    {
     "name": "stdout",
     "output_type": "stream",
     "text": [
      "\n"
     ]
    },
    {
     "data": {
      "application/vnd.jupyter.widget-view+json": {
       "model_id": "4f93c07c4d444bd18e55b17b79121954",
       "version_major": 2,
       "version_minor": 0
      },
      "text/plain": [
       "HBox(children=(HTML(value=''), FloatProgress(value=0.0, max=2.0), HTML(value='')))"
      ]
     },
     "metadata": {},
     "output_type": "display_data"
    },
    {
     "name": "stdout",
     "output_type": "stream",
     "text": [
      "\n"
     ]
    },
    {
     "data": {
      "application/vnd.jupyter.widget-view+json": {
       "model_id": "5f4007d78ccf419d9adfc4b4273a19c6",
       "version_major": 2,
       "version_minor": 0
      },
      "text/plain": [
       "HBox(children=(HTML(value=''), FloatProgress(value=0.0, max=2.0), HTML(value='')))"
      ]
     },
     "metadata": {},
     "output_type": "display_data"
    },
    {
     "name": "stdout",
     "output_type": "stream",
     "text": [
      "\n"
     ]
    },
    {
     "data": {
      "application/vnd.jupyter.widget-view+json": {
       "model_id": "c58a676e98f744199bda73cfde94bda2",
       "version_major": 2,
       "version_minor": 0
      },
      "text/plain": [
       "HBox(children=(HTML(value=''), FloatProgress(value=0.0, max=2.0), HTML(value='')))"
      ]
     },
     "metadata": {},
     "output_type": "display_data"
    },
    {
     "name": "stdout",
     "output_type": "stream",
     "text": [
      "\n"
     ]
    },
    {
     "data": {
      "application/vnd.jupyter.widget-view+json": {
       "model_id": "dddca1d628cc431daba6a2c04ce69034",
       "version_major": 2,
       "version_minor": 0
      },
      "text/plain": [
       "HBox(children=(HTML(value=''), FloatProgress(value=0.0, max=2.0), HTML(value='')))"
      ]
     },
     "metadata": {},
     "output_type": "display_data"
    },
    {
     "name": "stdout",
     "output_type": "stream",
     "text": [
      "\n"
     ]
    },
    {
     "data": {
      "application/vnd.jupyter.widget-view+json": {
       "model_id": "b1f8525145ed40f0bf3a6925938c0de9",
       "version_major": 2,
       "version_minor": 0
      },
      "text/plain": [
       "HBox(children=(HTML(value=''), FloatProgress(value=0.0, max=2.0), HTML(value='')))"
      ]
     },
     "metadata": {},
     "output_type": "display_data"
    },
    {
     "name": "stdout",
     "output_type": "stream",
     "text": [
      "\n"
     ]
    },
    {
     "data": {
      "application/vnd.jupyter.widget-view+json": {
       "model_id": "485a3d94553c4f09ac5deb222a61151b",
       "version_major": 2,
       "version_minor": 0
      },
      "text/plain": [
       "HBox(children=(HTML(value=''), FloatProgress(value=0.0, max=2.0), HTML(value='')))"
      ]
     },
     "metadata": {},
     "output_type": "display_data"
    },
    {
     "name": "stdout",
     "output_type": "stream",
     "text": [
      "\n"
     ]
    },
    {
     "data": {
      "application/vnd.jupyter.widget-view+json": {
       "model_id": "500cf178006a4b2aa128d72eae527994",
       "version_major": 2,
       "version_minor": 0
      },
      "text/plain": [
       "HBox(children=(HTML(value=''), FloatProgress(value=0.0, max=2.0), HTML(value='')))"
      ]
     },
     "metadata": {},
     "output_type": "display_data"
    },
    {
     "name": "stdout",
     "output_type": "stream",
     "text": [
      "\n"
     ]
    },
    {
     "data": {
      "application/vnd.jupyter.widget-view+json": {
       "model_id": "c7a4e7eebe3c498c9da69bc900aa68e8",
       "version_major": 2,
       "version_minor": 0
      },
      "text/plain": [
       "HBox(children=(HTML(value=''), FloatProgress(value=0.0, max=2.0), HTML(value='')))"
      ]
     },
     "metadata": {},
     "output_type": "display_data"
    },
    {
     "name": "stdout",
     "output_type": "stream",
     "text": [
      "\n"
     ]
    },
    {
     "data": {
      "application/vnd.jupyter.widget-view+json": {
       "model_id": "753b2e11a8644a15b010104dac80ee27",
       "version_major": 2,
       "version_minor": 0
      },
      "text/plain": [
       "HBox(children=(HTML(value=''), FloatProgress(value=0.0, max=2.0), HTML(value='')))"
      ]
     },
     "metadata": {},
     "output_type": "display_data"
    },
    {
     "name": "stdout",
     "output_type": "stream",
     "text": [
      "\n",
      "130\n"
     ]
    }
   ],
   "source": [
    "# data extraction of Asthma, COPD, Healthy patient\n",
    "\n",
    "for file in file_list:\n",
    "    if int(file[:3]) in Asthma_numbers:\n",
    "        if file[-3:] == 'txt':\n",
    "            events = pd.read_csv(file_path + file, sep='\\t', header=None)\n",
    "            if 1 in events[2].values:\n",
    "                continue\n",
    "            else:\n",
    "                if not os.path.getsize(event_path + file[:-4] + '_events.txt') == 0:\n",
    "                    pass\n",
    "                else:\n",
    "                    continue\n",
    "        else:\n",
    "            continue\n",
    "        \n",
    "    elif int(file[:3]) in COPD_numbers:\n",
    "        if file[-3:] == 'txt':\n",
    "            events = pd.read_csv(file_path + file, sep='\\t', header=None)\n",
    "            if 1 in events[2].values:\n",
    "                continue\n",
    "            else:\n",
    "                if not os.path.getsize(event_path + file[:-4] + '_events.txt') == 0:\n",
    "                    pass\n",
    "                else:\n",
    "                    continue\n",
    "        else:\n",
    "            continue        \n",
    "            \n",
    "    elif int(file[:3]) in Healthy_numbers:\n",
    "        if file[-3:] == 'txt': \n",
    "            events = pd.read_csv(file_path + file, sep='\\t', header=None)   \n",
    "            if 1 in events[2].values:\n",
    "                continue\n",
    "        else:\n",
    "            continue\n",
    "            \n",
    "    else:\n",
    "        continue\n",
    "    \n",
    "    sample_rate = librosa.get_samplerate(file_path + file[:-4] + '.wav')\n",
    "    if sample_rate < 10000:\n",
    "        continue\n",
    "    \n",
    "    count += 1\n",
    "    \n",
    "    # noise reduce audio\n",
    "    t, sr = librosa.load(file_path + file[:-4] + '.wav', sr=sample_rate)\n",
    "    nr_data = nr.reduce_noise(y = t, sr=sample_rate, n_std_thresh_stationary=0.1, stationary=True)\n",
    "    \n",
    "    if int(file[:3]) in Healthy_numbers:\n",
    "        write(save_Healthy_path + file[:-4] + '.wav', sample_rate, nr_data)\n",
    "    \n",
    "    elif int(file[:3]) in Asthma_numbers:\n",
    "        write(save_Asthma_path + file[:-4] + '.wav', sample_rate, nr_data)\n",
    "        shutil.copy(event_path + file[:-4] + '_events.txt', save_Asthma_path + file[:-4] + '_events.txt')\n",
    "\n",
    "    elif int(file[:3]) in COPD_numbers:\n",
    "        write(save_COPD_path + file[:-4] + '.wav', sample_rate, nr_data)\n",
    "        shutil.copy(event_path + file[:-4] + '_events.txt', save_COPD_path + file[:-4] + '_events.txt')    \n",
    "#     else:\n",
    "#         print('Exception:',file)\n",
    "        \n",
    "print(count)"
   ]
  },
  {
   "cell_type": "code",
   "execution_count": 65,
   "metadata": {},
   "outputs": [],
   "source": [
    "# !apt-get update"
   ]
  },
  {
   "cell_type": "code",
   "execution_count": 66,
   "metadata": {},
   "outputs": [],
   "source": [
    "# !apt-get install zip"
   ]
  },
  {
   "cell_type": "code",
   "execution_count": 67,
   "metadata": {},
   "outputs": [],
   "source": [
    "# !pwd"
   ]
  },
  {
   "cell_type": "code",
   "execution_count": 68,
   "metadata": {},
   "outputs": [
    {
     "name": "stdout",
     "output_type": "stream",
     "text": [
      "updating: data/ICBHI_Healthy_extracted/ (stored 0%)\n",
      "updating: data/ICBHI_Healthy_extracted/224_1b2_Al_sc_Meditron.wav (deflated 8%)\n",
      "updating: data/ICBHI_Healthy_extracted/144_1b1_Al_sc_Meditron.wav (deflated 7%)\n",
      "updating: data/ICBHI_Healthy_extracted/194_1b1_Lr_sc_Meditron.wav (deflated 8%)\n",
      "updating: data/ICBHI_Healthy_extracted/.ipynb_checkpoints/ (stored 0%)\n",
      "updating: data/ICBHI_Healthy_extracted/152_1b1_Al_sc_Meditron.wav (deflated 7%)\n",
      "updating: data/ICBHI_Healthy_extracted/208_1b1_Ll_sc_Meditron.wav (deflated 8%)\n",
      "updating: data/ICBHI_Healthy_extracted/159_1b1_Al_sc_Meditron.wav (deflated 7%)\n",
      "updating: data/ICBHI_Healthy_extracted/187_1b1_Ll_sc_Meditron.wav (deflated 8%)\n",
      "updating: data/ICBHI_Healthy_extracted/225_1b1_Pl_sc_Meditron.wav (deflated 8%)\n",
      "updating: data/ICBHI_Healthy_extracted/209_1b1_Tc_sc_Meditron.wav (deflated 7%)\n",
      "updating: data/ICBHI_Healthy_extracted/214_1b1_Ar_sc_Meditron.wav (deflated 7%)\n",
      "updating: data/ICBHI_Healthy_extracted/126_1b1_Al_sc_Meditron.wav (deflated 8%)\n",
      "updating: data/ICBHI_Healthy_extracted/202_1b1_Ar_sc_Meditron.wav (deflated 8%)\n",
      "updating: data/ICBHI_Healthy_extracted/183_1b1_Tc_sc_Meditron.wav (deflated 7%)\n",
      "updating: data/ICBHI_Healthy_extracted/143_1b1_Al_sc_Meditron.wav (deflated 8%)\n",
      "updating: data/ICBHI_Healthy_extracted/102_1b1_Ar_sc_Meditron.wav (deflated 8%)\n",
      "updating: data/ICBHI_Healthy_extracted/159_1b1_Ll_sc_Meditron.wav (deflated 8%)\n",
      "updating: data/ICBHI_Healthy_extracted/136_1b1_Ar_sc_Meditron.wav (deflated 7%)\n",
      "updating: data/ICBHI_Healthy_extracted/171_1b1_Al_sc_Meditron.wav (deflated 8%)\n",
      "updating: data/ICBHI_Healthy_extracted/224_1b1_Tc_sc_Meditron.wav (deflated 8%)\n",
      "updating: data/ICBHI_Healthy_extracted/121_1b1_Tc_sc_Meditron.wav (deflated 7%)\n",
      "updating: data/ICBHI_Healthy_extracted/217_1b1_Tc_sc_Meditron.wav (deflated 8%)\n",
      "updating: data/ICBHI_Healthy_extracted/194_1b1_Pr_sc_Meditron.wav (deflated 8%)\n",
      "updating: data/ICBHI_Healthy_extracted/123_1b1_Al_sc_Meditron.wav (deflated 7%)\n",
      "updating: data/ICBHI_Healthy_extracted/184_1b1_Ar_sc_Meditron.wav (deflated 7%)\n",
      "updating: data/ICBHI_Healthy_extracted/159_1b1_Ar_sc_Meditron.wav (deflated 8%)\n",
      "updating: data/ICBHI_Healthy_extracted/121_1p1_Tc_sc_Meditron.wav (deflated 7%)\n",
      "updating: data/ICBHI_Healthy_extracted/153_1b1_Al_sc_Meditron.wav (deflated 8%)\n",
      "updating: data/ICBHI_Healthy_extracted/144_1b1_Tc_sc_Meditron.wav (deflated 7%)\n",
      "updating: data/ICBHI_Healthy_extracted/159_1b1_Pr_sc_Meditron.wav (deflated 8%)\n"
     ]
    }
   ],
   "source": [
    "!zip ICBHI_Healthy_extracted.zip -r data/ICBHI_Healthy_extracted"
   ]
  },
  {
   "cell_type": "code",
   "execution_count": 69,
   "metadata": {},
   "outputs": [
    {
     "name": "stdout",
     "output_type": "stream",
     "text": [
      "updating: data/ICBHI_Asthma_extracted/ (stored 0%)\n",
      "updating: data/ICBHI_Asthma_extracted/.ipynb_checkpoints/ (stored 0%)\n",
      "updating: data/ICBHI_Asthma_extracted/103_2b2_Ar_mc_LittC2SE.wav (deflated 8%)\n",
      "updating: data/ICBHI_Asthma_extracted/103_2b2_Ar_mc_LittC2SE_events.txt (deflated 37%)\n"
     ]
    }
   ],
   "source": [
    "!zip ICBHI_Asthma_extracted.zip -r data/ICBHI_Asthma_extracted"
   ]
  },
  {
   "cell_type": "code",
   "execution_count": 71,
   "metadata": {},
   "outputs": [
    {
     "name": "stdout",
     "output_type": "stream",
     "text": [
      "  adding: data/ICBHI_COPD_extracted/ (stored 0%)\n",
      "  adding: data/ICBHI_COPD_extracted/151_2p2_Pl_mc_AKGC417L_events.txt (deflated 30%)\n",
      "  adding: data/ICBHI_COPD_extracted/133_3p2_Al_mc_AKGC417L_events.txt (deflated 41%)\n",
      "  adding: data/ICBHI_COPD_extracted/211_1p2_Ar_mc_AKGC417L_events.txt (stored 0%)\n",
      "  adding: data/ICBHI_COPD_extracted/160_1b3_Tc_mc_AKGC417L_events.txt (deflated 25%)\n",
      "  adding: data/ICBHI_COPD_extracted/193_1b2_Tc_mc_AKGC417L.wav (deflated 8%)\n",
      "  adding: data/ICBHI_COPD_extracted/162_2b4_Pr_mc_AKGC417L_events.txt (stored 0%)\n",
      "  adding: data/ICBHI_COPD_extracted/160_1b2_Ar_mc_AKGC417L.wav (deflated 8%)\n",
      "  adding: data/ICBHI_COPD_extracted/130_1p3_Pr_mc_AKGC417L.wav (deflated 9%)\n",
      "  adding: data/ICBHI_COPD_extracted/178_1b2_Al_mc_AKGC417L_events.txt (deflated 40%)\n",
      "  adding: data/ICBHI_COPD_extracted/200_2p3_Pr_mc_AKGC417L_events.txt (stored 0%)\n",
      "  adding: data/ICBHI_COPD_extracted/130_1p4_Al_mc_AKGC417L.wav (deflated 7%)\n",
      "  adding: data/ICBHI_COPD_extracted/141_1b2_Lr_mc_LittC2SE.wav (deflated 7%)\n",
      "  adding: data/ICBHI_COPD_extracted/130_1p4_Al_mc_AKGC417L_events.txt (deflated 48%)\n",
      "  adding: data/ICBHI_COPD_extracted/160_1b3_Lr_mc_AKGC417L.wav (deflated 8%)\n",
      "  adding: data/ICBHI_COPD_extracted/133_2p4_Al_mc_AKGC417L_events.txt (deflated 16%)\n",
      "  adding: data/ICBHI_COPD_extracted/193_1b2_Ll_mc_AKGC417L_events.txt (stored 0%)\n",
      "  adding: data/ICBHI_COPD_extracted/172_1b5_Ar_mc_AKGC417L_events.txt (deflated 20%)\n",
      "  adding: data/ICBHI_COPD_extracted/172_2b5_Ar_mc_AKGC417L_events.txt (deflated 11%)\n",
      "  adding: data/ICBHI_COPD_extracted/133_3p2_Ar_mc_AKGC417L.wav (deflated 8%)\n",
      "  adding: data/ICBHI_COPD_extracted/151_2p3_Tc_mc_AKGC417L.wav (deflated 8%)\n",
      "  adding: data/ICBHI_COPD_extracted/223_1b1_Pr_sc_Meditron.wav (deflated 8%)\n",
      "  adding: data/ICBHI_COPD_extracted/.ipynb_checkpoints/ (stored 0%)\n",
      "  adding: data/ICBHI_COPD_extracted/172_1b5_Ar_mc_AKGC417L.wav (deflated 8%)\n",
      "  adding: data/ICBHI_COPD_extracted/138_1p4_Tc_mc_AKGC417L.wav (deflated 7%)\n",
      "  adding: data/ICBHI_COPD_extracted/192_2b1_Ar_mc_LittC2SE_events.txt (deflated 44%)\n",
      "  adding: data/ICBHI_COPD_extracted/147_1b4_Tc_mc_AKGC417L_events.txt (deflated 29%)\n",
      "  adding: data/ICBHI_COPD_extracted/141_1b2_Lr_mc_LittC2SE_events.txt (deflated 47%)\n",
      "  adding: data/ICBHI_COPD_extracted/172_2b5_Tc_mc_AKGC417L_events.txt (stored 0%)\n",
      "  adding: data/ICBHI_COPD_extracted/147_2b3_Pl_mc_AKGC417L.wav (deflated 8%)\n",
      "  adding: data/ICBHI_COPD_extracted/141_1b3_Al_mc_LittC2SE_events.txt (deflated 26%)\n",
      "  adding: data/ICBHI_COPD_extracted/170_1b2_Ar_mc_AKGC417L_events.txt (deflated 18%)\n",
      "  adding: data/ICBHI_COPD_extracted/178_1b6_Ll_mc_AKGC417L.wav (deflated 8%)\n",
      "  adding: data/ICBHI_COPD_extracted/147_2b4_Al_mc_AKGC417L.wav (deflated 8%)\n",
      "  adding: data/ICBHI_COPD_extracted/151_2p3_Pl_mc_AKGC417L_events.txt (deflated 36%)\n",
      "  adding: data/ICBHI_COPD_extracted/147_1b2_Tc_mc_AKGC417L.wav (deflated 7%)\n",
      "  adding: data/ICBHI_COPD_extracted/147_2b4_Ar_mc_AKGC417L.wav (deflated 8%)\n",
      "  adding: data/ICBHI_COPD_extracted/133_3p4_Tc_mc_AKGC417L.wav (deflated 8%)\n",
      "  adding: data/ICBHI_COPD_extracted/162_2b4_Pr_mc_AKGC417L.wav (deflated 8%)\n",
      "  adding: data/ICBHI_COPD_extracted/198_1b5_Pl_mc_AKGC417L.wav (deflated 8%)\n",
      "  adding: data/ICBHI_COPD_extracted/151_2p4_Lr_mc_AKGC417L.wav (deflated 8%)\n",
      "  adding: data/ICBHI_COPD_extracted/147_2b2_Al_mc_AKGC417L.wav (deflated 8%)\n",
      "  adding: data/ICBHI_COPD_extracted/134_2b3_Ar_mc_LittC2SE.wav (deflated 8%)\n",
      "  adding: data/ICBHI_COPD_extracted/106_2b1_Pr_mc_LittC2SE.wav (deflated 8%)\n",
      "  adding: data/ICBHI_COPD_extracted/198_1b5_Ll_mc_AKGC417L.wav (deflated 8%)\n",
      "  adding: data/ICBHI_COPD_extracted/198_1b5_Ll_mc_AKGC417L_events.txt (deflated 35%)\n",
      "  adding: data/ICBHI_COPD_extracted/147_2b3_Ll_mc_AKGC417L.wav (deflated 7%)\n",
      "  adding: data/ICBHI_COPD_extracted/130_1p3_Lr_mc_AKGC417L.wav (deflated 7%)\n",
      "  adding: data/ICBHI_COPD_extracted/130_1p4_Ar_mc_AKGC417L_events.txt (deflated 35%)\n",
      "  adding: data/ICBHI_COPD_extracted/200_2p3_Pr_mc_AKGC417L.wav (deflated 8%)\n",
      "  adding: data/ICBHI_COPD_extracted/160_1b4_Lr_mc_AKGC417L.wav (deflated 8%)\n",
      "  adding: data/ICBHI_COPD_extracted/203_1p3_Tc_mc_AKGC417L_events.txt (stored 0%)\n",
      "  adding: data/ICBHI_COPD_extracted/204_2b5_Ar_mc_AKGC417L.wav (deflated 7%)\n",
      "  adding: data/ICBHI_COPD_extracted/204_2b5_Ar_mc_AKGC417L_events.txt (deflated 25%)\n",
      "  adding: data/ICBHI_COPD_extracted/151_2p2_Pr_mc_AKGC417L_events.txt (stored 0%)\n",
      "  adding: data/ICBHI_COPD_extracted/138_1p2_Tc_mc_AKGC417L_events.txt (deflated 67%)\n",
      "  adding: data/ICBHI_COPD_extracted/130_1p3_Tc_mc_AKGC417L_events.txt (deflated 42%)\n",
      "  adding: data/ICBHI_COPD_extracted/172_2b5_Ar_mc_AKGC417L.wav (deflated 8%)\n",
      "  adding: data/ICBHI_COPD_extracted/192_2b2_Ar_mc_LittC2SE.wav (deflated 7%)\n",
      "  adding: data/ICBHI_COPD_extracted/178_1b2_Al_mc_AKGC417L.wav (deflated 8%)\n",
      "  adding: data/ICBHI_COPD_extracted/178_1b6_Ll_mc_AKGC417L_events.txt (deflated 66%)\n",
      "  adding: data/ICBHI_COPD_extracted/147_2b4_Pl_mc_AKGC417L.wav (deflated 8%)\n",
      "  adding: data/ICBHI_COPD_extracted/130_1p4_Pl_mc_AKGC417L_events.txt (deflated 43%)\n",
      "  adding: data/ICBHI_COPD_extracted/193_1b4_Lr_mc_AKGC417L.wav (deflated 8%)\n",
      "  adding: data/ICBHI_COPD_extracted/172_1b4_Pr_mc_AKGC417L_events.txt (deflated 28%)\n",
      "  adding: data/ICBHI_COPD_extracted/221_2b2_Pl_mc_LittC2SE.wav (deflated 8%)\n",
      "  adding: data/ICBHI_COPD_extracted/170_1b2_Lr_mc_AKGC417L.wav (deflated 8%)\n",
      "  adding: data/ICBHI_COPD_extracted/172_1b4_Lr_mc_AKGC417L_events.txt (deflated 49%)\n",
      "  adding: data/ICBHI_COPD_extracted/198_1b5_Lr_mc_AKGC417L_events.txt (deflated 40%)\n",
      "  adding: data/ICBHI_COPD_extracted/147_2b2_Al_mc_AKGC417L_events.txt (deflated 51%)\n",
      "  adding: data/ICBHI_COPD_extracted/172_2b5_Tc_mc_AKGC417L.wav (deflated 8%)\n",
      "  adding: data/ICBHI_COPD_extracted/151_2p4_Tc_mc_AKGC417L_events.txt (deflated 24%)\n",
      "  adding: data/ICBHI_COPD_extracted/221_2b2_Pl_mc_LittC2SE_events.txt (deflated 36%)\n",
      "  adding: data/ICBHI_COPD_extracted/130_1p4_Tc_mc_AKGC417L_events.txt (deflated 49%)\n",
      "  adding: data/ICBHI_COPD_extracted/158_1p3_Tc_mc_AKGC417L_events.txt (deflated 14%)\n",
      "  adding: data/ICBHI_COPD_extracted/147_2b3_Pl_mc_AKGC417L_events.txt (deflated 34%)\n",
      "  adding: data/ICBHI_COPD_extracted/134_2b3_Ar_mc_LittC2SE_events.txt (stored 0%)\n",
      "  adding: data/ICBHI_COPD_extracted/133_3p2_Ar_mc_AKGC417L_events.txt (deflated 40%)\n",
      "  adding: data/ICBHI_COPD_extracted/211_1p2_Ar_mc_AKGC417L.wav (deflated 7%)\n",
      "  adding: data/ICBHI_COPD_extracted/130_1p3_Pl_mc_AKGC417L_events.txt (deflated 40%)\n",
      "  adding: data/ICBHI_COPD_extracted/198_1b5_Ar_mc_AKGC417L_events.txt (deflated 41%)\n",
      "  adding: data/ICBHI_COPD_extracted/158_1p3_Tc_mc_AKGC417L.wav (deflated 8%)\n",
      "  adding: data/ICBHI_COPD_extracted/147_2b3_Al_mc_AKGC417L_events.txt (deflated 21%)\n",
      "  adding: data/ICBHI_COPD_extracted/221_2b2_Al_mc_LittC2SE.wav (deflated 8%)\n",
      "  adding: data/ICBHI_COPD_extracted/178_1b2_Tc_mc_AKGC417L_events.txt (deflated 37%)\n",
      "  adding: data/ICBHI_COPD_extracted/223_1b1_Ar_sc_Meditron_events.txt (deflated 49%)\n",
      "  adding: data/ICBHI_COPD_extracted/204_2b5_Al_mc_AKGC417L_events.txt (deflated 36%)\n",
      "  adding: data/ICBHI_COPD_extracted/186_2b2_Al_mc_AKGC417L_events.txt (stored 0%)\n",
      "  adding: data/ICBHI_COPD_extracted/147_2b4_Pl_mc_AKGC417L_events.txt (deflated 41%)\n",
      "  adding: data/ICBHI_COPD_extracted/193_1b2_Pr_mc_AKGC417L.wav (deflated 8%)\n",
      "  adding: data/ICBHI_COPD_extracted/130_1p3_Pr_mc_AKGC417L_events.txt (deflated 24%)\n",
      "  adding: data/ICBHI_COPD_extracted/211_1p2_Pr_mc_AKGC417L.wav (deflated 7%)\n",
      "  adding: data/ICBHI_COPD_extracted/170_2b2_Tc_mc_AKGC417L.wav (deflated 8%)\n",
      "  adding: data/ICBHI_COPD_extracted/160_1b2_Pl_mc_AKGC417L.wav (deflated 8%)\n",
      "  adding: data/ICBHI_COPD_extracted/151_2p4_Pr_mc_AKGC417L.wav (deflated 8%)\n",
      "  adding: data/ICBHI_COPD_extracted/178_1b2_Tc_mc_AKGC417L.wav (deflated 7%)\n",
      "  adding: data/ICBHI_COPD_extracted/221_2b2_Al_mc_LittC2SE_events.txt (deflated 37%)\n",
      "  adding: data/ICBHI_COPD_extracted/170_1b2_Lr_mc_AKGC417L_events.txt (deflated 18%)\n",
      "  adding: data/ICBHI_COPD_extracted/160_1b3_Ar_mc_AKGC417L.wav (deflated 8%)\n",
      "  adding: data/ICBHI_COPD_extracted/193_1b2_Pr_mc_AKGC417L_events.txt (deflated 59%)\n",
      "  adding: data/ICBHI_COPD_extracted/207_2b4_Tc_mc_AKGC417L_events.txt (stored 0%)\n",
      "  adding: data/ICBHI_COPD_extracted/193_1b2_Ll_mc_AKGC417L.wav (deflated 8%)\n"
     ]
    },
    {
     "name": "stdout",
     "output_type": "stream",
     "text": [
      "  adding: data/ICBHI_COPD_extracted/146_8p3_Lr_mc_AKGC417L.wav (deflated 7%)\n",
      "  adding: data/ICBHI_COPD_extracted/192_2b1_Ar_mc_LittC2SE.wav (deflated 8%)\n",
      "  adding: data/ICBHI_COPD_extracted/198_1b5_Pl_mc_AKGC417L_events.txt (deflated 40%)\n",
      "  adding: data/ICBHI_COPD_extracted/147_2b4_Al_mc_AKGC417L_events.txt (deflated 23%)\n",
      "  adding: data/ICBHI_COPD_extracted/130_1p3_Lr_mc_AKGC417L_events.txt (deflated 37%)\n",
      "  adding: data/ICBHI_COPD_extracted/178_1b6_Pr_mc_AKGC417L_events.txt (deflated 23%)\n",
      "  adding: data/ICBHI_COPD_extracted/198_1b5_Lr_mc_AKGC417L.wav (deflated 8%)\n",
      "  adding: data/ICBHI_COPD_extracted/130_1p3_Pl_mc_AKGC417L.wav (deflated 8%)\n",
      "  adding: data/ICBHI_COPD_extracted/198_1b5_Pr_mc_AKGC417L.wav (deflated 8%)\n",
      "  adding: data/ICBHI_COPD_extracted/138_1p4_Tc_mc_AKGC417L_events.txt (deflated 21%)\n",
      "  adding: data/ICBHI_COPD_extracted/130_1p4_Tc_mc_AKGC417L.wav (deflated 8%)\n",
      "  adding: data/ICBHI_COPD_extracted/130_1p4_Lr_mc_AKGC417L.wav (deflated 8%)\n",
      "  adding: data/ICBHI_COPD_extracted/117_1b3_Tc_mc_LittC2SE_events.txt (deflated 33%)\n",
      "  adding: data/ICBHI_COPD_extracted/147_2b4_Ar_mc_AKGC417L_events.txt (stored 0%)\n",
      "  adding: data/ICBHI_COPD_extracted/170_2b2_Tc_mc_AKGC417L_events.txt (stored 0%)\n",
      "  adding: data/ICBHI_COPD_extracted/198_1b5_Al_mc_AKGC417L_events.txt (deflated 41%)\n",
      "  adding: data/ICBHI_COPD_extracted/151_3p2_Tc_mc_AKGC417L.wav (deflated 8%)\n",
      "  adding: data/ICBHI_COPD_extracted/203_1p2_Tc_mc_AKGC417L.wav (deflated 7%)\n",
      "  adding: data/ICBHI_COPD_extracted/130_1p4_Pl_mc_AKGC417L.wav (deflated 8%)\n",
      "  adding: data/ICBHI_COPD_extracted/151_2p4_Lr_mc_AKGC417L_events.txt (deflated 13%)\n",
      "  adding: data/ICBHI_COPD_extracted/211_1p2_Pr_mc_AKGC417L_events.txt (deflated 62%)\n",
      "  adding: data/ICBHI_COPD_extracted/160_1b2_Tc_mc_AKGC417L_events.txt (stored 0%)\n",
      "  adding: data/ICBHI_COPD_extracted/151_2p2_Pr_mc_AKGC417L.wav (deflated 8%)\n",
      "  adding: data/ICBHI_COPD_extracted/160_1b2_Ar_mc_AKGC417L_events.txt (deflated 31%)\n",
      "  adding: data/ICBHI_COPD_extracted/193_1b2_Ar_mc_AKGC417L.wav (deflated 8%)\n",
      "  adding: data/ICBHI_COPD_extracted/141_1b3_Ar_mc_LittC2SE_events.txt (deflated 42%)\n",
      "  adding: data/ICBHI_COPD_extracted/203_1p3_Tc_mc_AKGC417L.wav (deflated 7%)\n",
      "  adding: data/ICBHI_COPD_extracted/147_1b2_Tc_mc_AKGC417L_events.txt (deflated 64%)\n",
      "  adding: data/ICBHI_COPD_extracted/147_2b3_Ar_mc_AKGC417L.wav (deflated 8%)\n",
      "  adding: data/ICBHI_COPD_extracted/221_2b1_Pl_mc_LittC2SE.wav (deflated 8%)\n",
      "  adding: data/ICBHI_COPD_extracted/160_1b3_Lr_mc_AKGC417L_events.txt (deflated 30%)\n",
      "  adding: data/ICBHI_COPD_extracted/130_1p4_Ar_mc_AKGC417L.wav (deflated 7%)\n",
      "  adding: data/ICBHI_COPD_extracted/141_1b3_Ar_mc_LittC2SE.wav (deflated 7%)\n",
      "  adding: data/ICBHI_COPD_extracted/223_1b1_Ar_sc_Meditron.wav (deflated 8%)\n",
      "  adding: data/ICBHI_COPD_extracted/223_1b1_Pr_sc_Meditron_events.txt (deflated 25%)\n",
      "  adding: data/ICBHI_COPD_extracted/198_1b5_Ar_mc_AKGC417L.wav (deflated 8%)\n",
      "  adding: data/ICBHI_COPD_extracted/151_2p3_Tc_mc_AKGC417L_events.txt (deflated 21%)\n",
      "  adding: data/ICBHI_COPD_extracted/193_1b2_Ar_mc_AKGC417L_events.txt (deflated 59%)\n",
      "  adding: data/ICBHI_COPD_extracted/117_1b3_Tc_mc_LittC2SE.wav (deflated 7%)\n",
      "  adding: data/ICBHI_COPD_extracted/138_1p2_Tc_mc_AKGC417L.wav (deflated 8%)\n",
      "  adding: data/ICBHI_COPD_extracted/204_2b5_Al_mc_AKGC417L.wav (deflated 7%)\n",
      "  adding: data/ICBHI_COPD_extracted/193_1b2_Pl_mc_AKGC417L.wav (deflated 8%)\n",
      "  adding: data/ICBHI_COPD_extracted/198_1b5_Pr_mc_AKGC417L_events.txt (deflated 41%)\n",
      "  adding: data/ICBHI_COPD_extracted/186_2b2_Al_mc_AKGC417L.wav (deflated 8%)\n",
      "  adding: data/ICBHI_COPD_extracted/172_1b4_Pr_mc_AKGC417L.wav (deflated 8%)\n",
      "  adding: data/ICBHI_COPD_extracted/156_8b3_Lr_mc_AKGC417L.wav (deflated 7%)\n",
      "  adding: data/ICBHI_COPD_extracted/193_1b2_Al_mc_AKGC417L_events.txt (deflated 60%)\n",
      "  adding: data/ICBHI_COPD_extracted/133_3p4_Tc_mc_AKGC417L_events.txt (deflated 40%)\n",
      "  adding: data/ICBHI_COPD_extracted/147_2b3_Al_mc_AKGC417L.wav (deflated 8%)\n",
      "  adding: data/ICBHI_COPD_extracted/106_2b1_Pr_mc_LittC2SE_events.txt (deflated 57%)\n",
      "  adding: data/ICBHI_COPD_extracted/151_2p4_Pr_mc_AKGC417L_events.txt (deflated 13%)\n",
      "  adding: data/ICBHI_COPD_extracted/130_1p4_Lr_mc_AKGC417L_events.txt (deflated 49%)\n",
      "  adding: data/ICBHI_COPD_extracted/198_1b5_Tc_mc_AKGC417L_events.txt (deflated 40%)\n",
      "  adding: data/ICBHI_COPD_extracted/130_1p4_Ll_mc_AKGC417L.wav (deflated 7%)\n",
      "  adding: data/ICBHI_COPD_extracted/192_2b3_Ar_mc_LittC2SE.wav (deflated 8%)\n",
      "  adding: data/ICBHI_COPD_extracted/200_2p4_Tc_mc_AKGC417L.wav (deflated 8%)\n",
      "  adding: data/ICBHI_COPD_extracted/151_2p2_Pl_mc_AKGC417L.wav (deflated 7%)\n",
      "  adding: data/ICBHI_COPD_extracted/151_2p3_Pl_mc_AKGC417L.wav (deflated 7%)\n",
      "  adding: data/ICBHI_COPD_extracted/133_2p4_Al_mc_AKGC417L.wav (deflated 8%)\n",
      "  adding: data/ICBHI_COPD_extracted/198_1b5_Tc_mc_AKGC417L.wav (deflated 8%)\n",
      "  adding: data/ICBHI_COPD_extracted/160_1b4_Tc_mc_AKGC417L.wav (deflated 8%)\n",
      "  adding: data/ICBHI_COPD_extracted/221_2b3_Al_mc_LittC2SE_events.txt (deflated 38%)\n",
      "  adding: data/ICBHI_COPD_extracted/172_1b4_Lr_mc_AKGC417L.wav (deflated 8%)\n",
      "  adding: data/ICBHI_COPD_extracted/151_2p2_Tc_mc_AKGC417L.wav (deflated 8%)\n",
      "  adding: data/ICBHI_COPD_extracted/156_8b3_Lr_mc_AKGC417L_events.txt (stored 0%)\n",
      "  adding: data/ICBHI_COPD_extracted/200_2p2_Al_mc_AKGC417L.wav (deflated 8%)\n",
      "  adding: data/ICBHI_COPD_extracted/160_1b4_Lr_mc_AKGC417L_events.txt (deflated 31%)\n",
      "  adding: data/ICBHI_COPD_extracted/193_1b4_Lr_mc_AKGC417L_events.txt (deflated 59%)\n",
      "  adding: data/ICBHI_COPD_extracted/192_2b2_Ar_mc_LittC2SE_events.txt (deflated 45%)\n",
      "  adding: data/ICBHI_COPD_extracted/147_1b4_Tc_mc_AKGC417L.wav (deflated 8%)\n",
      "  adding: data/ICBHI_COPD_extracted/160_1b2_Tc_mc_AKGC417L.wav (deflated 8%)\n",
      "  adding: data/ICBHI_COPD_extracted/221_2b3_Al_mc_LittC2SE.wav (deflated 8%)\n",
      "  adding: data/ICBHI_COPD_extracted/147_2b3_Ar_mc_AKGC417L_events.txt (deflated 23%)\n",
      "  adding: data/ICBHI_COPD_extracted/200_2p2_Al_mc_AKGC417L_events.txt (deflated 28%)\n",
      "  adding: data/ICBHI_COPD_extracted/133_3p2_Al_mc_AKGC417L.wav (deflated 8%)\n",
      "  adding: data/ICBHI_COPD_extracted/198_1b5_Al_mc_AKGC417L.wav (deflated 8%)\n",
      "  adding: data/ICBHI_COPD_extracted/151_2p4_Tc_mc_AKGC417L.wav (deflated 8%)\n",
      "  adding: data/ICBHI_COPD_extracted/193_1b2_Tc_mc_AKGC417L_events.txt (deflated 56%)\n",
      "  adding: data/ICBHI_COPD_extracted/193_1b2_Pl_mc_AKGC417L_events.txt (deflated 60%)\n",
      "  adding: data/ICBHI_COPD_extracted/160_1b3_Tc_mc_AKGC417L.wav (deflated 8%)\n",
      "  adding: data/ICBHI_COPD_extracted/146_8p3_Lr_mc_AKGC417L_events.txt (deflated 46%)\n",
      "  adding: data/ICBHI_COPD_extracted/170_1b2_Ar_mc_AKGC417L.wav (deflated 7%)\n",
      "  adding: data/ICBHI_COPD_extracted/200_2p4_Tc_mc_AKGC417L_events.txt (deflated 18%)\n",
      "  adding: data/ICBHI_COPD_extracted/178_1b6_Pr_mc_AKGC417L.wav (deflated 8%)\n",
      "  adding: data/ICBHI_COPD_extracted/221_2b1_Pl_mc_LittC2SE_events.txt (deflated 56%)\n",
      "  adding: data/ICBHI_COPD_extracted/160_1b2_Pl_mc_AKGC417L_events.txt (deflated 35%)\n",
      "  adding: data/ICBHI_COPD_extracted/151_3p2_Tc_mc_AKGC417L_events.txt (stored 0%)\n",
      "  adding: data/ICBHI_COPD_extracted/192_2b3_Ar_mc_LittC2SE_events.txt (deflated 48%)\n",
      "  adding: data/ICBHI_COPD_extracted/151_2p2_Tc_mc_AKGC417L_events.txt (deflated 17%)\n",
      "  adding: data/ICBHI_COPD_extracted/186_2b3_Tc_mc_AKGC417L.wav (deflated 8%)\n",
      "  adding: data/ICBHI_COPD_extracted/130_1p3_Tc_mc_AKGC417L.wav (deflated 8%)\n",
      "  adding: data/ICBHI_COPD_extracted/160_1b4_Tc_mc_AKGC417L_events.txt (deflated 31%)\n",
      "  adding: data/ICBHI_COPD_extracted/207_2b4_Tc_mc_AKGC417L.wav (deflated 8%)\n",
      "  adding: data/ICBHI_COPD_extracted/130_1p4_Ll_mc_AKGC417L_events.txt (deflated 62%)\n",
      "  adding: data/ICBHI_COPD_extracted/160_1b3_Ar_mc_AKGC417L_events.txt (deflated 30%)\n",
      "  adding: data/ICBHI_COPD_extracted/147_2b3_Ll_mc_AKGC417L_events.txt (deflated 64%)\n",
      "  adding: data/ICBHI_COPD_extracted/203_1p2_Tc_mc_AKGC417L_events.txt (deflated 14%)\n",
      "  adding: data/ICBHI_COPD_extracted/193_1b2_Al_mc_AKGC417L.wav (deflated 7%)\n",
      "  adding: data/ICBHI_COPD_extracted/141_1b3_Al_mc_LittC2SE.wav (deflated 8%)\n",
      "  adding: data/ICBHI_COPD_extracted/186_2b3_Tc_mc_AKGC417L_events.txt (stored 0%)\n"
     ]
    }
   ],
   "source": [
    "!zip ICBHI_COPD_extracted.zip -r data/ICBHI_COPD_extracted"
   ]
  },
  {
   "cell_type": "code",
   "execution_count": null,
   "metadata": {},
   "outputs": [],
   "source": []
  }
 ],
 "metadata": {
  "kernelspec": {
   "display_name": "Python 3",
   "language": "python",
   "name": "python3"
  },
  "language_info": {
   "codemirror_mode": {
    "name": "ipython",
    "version": 3
   },
   "file_extension": ".py",
   "mimetype": "text/x-python",
   "name": "python",
   "nbconvert_exporter": "python",
   "pygments_lexer": "ipython3",
   "version": "3.6.9"
  }
 },
 "nbformat": 4,
 "nbformat_minor": 4
}
