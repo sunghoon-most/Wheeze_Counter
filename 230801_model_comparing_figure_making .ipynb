{
 "cells": [
  {
   "cell_type": "code",
   "execution_count": 26,
   "metadata": {},
   "outputs": [],
   "source": [
    "import matplotlib.pyplot as plt\n",
    "import numpy as np"
   ]
  },
  {
   "cell_type": "code",
   "execution_count": 33,
   "metadata": {},
   "outputs": [
    {
     "data": {
      "text/html": [
       "<div>\n",
       "<style scoped>\n",
       "    .dataframe tbody tr th:only-of-type {\n",
       "        vertical-align: middle;\n",
       "    }\n",
       "\n",
       "    .dataframe tbody tr th {\n",
       "        vertical-align: top;\n",
       "    }\n",
       "\n",
       "    .dataframe thead th {\n",
       "        text-align: right;\n",
       "    }\n",
       "</style>\n",
       "<table border=\"1\" class=\"dataframe\">\n",
       "  <thead>\n",
       "    <tr style=\"text-align: right;\">\n",
       "      <th></th>\n",
       "      <th>Random Forest Classifier</th>\n",
       "      <th>K-Nearest Neighbors</th>\n",
       "      <th>Multi-layer perceptron</th>\n",
       "      <th>1dCNN + bLSTM</th>\n",
       "    </tr>\n",
       "  </thead>\n",
       "  <tbody>\n",
       "    <tr>\n",
       "      <th>Accuracy</th>\n",
       "      <td>0.840248</td>\n",
       "      <td>0.826087</td>\n",
       "      <td>0.763478</td>\n",
       "      <td>0.904845</td>\n",
       "    </tr>\n",
       "    <tr>\n",
       "      <th>F1-score</th>\n",
       "      <td>0.845090</td>\n",
       "      <td>0.829465</td>\n",
       "      <td>0.775399</td>\n",
       "      <td>0.903949</td>\n",
       "    </tr>\n",
       "    <tr>\n",
       "      <th>ROC-AUC score</th>\n",
       "      <td>0.955598</td>\n",
       "      <td>0.920269</td>\n",
       "      <td>0.931873</td>\n",
       "      <td>0.972517</td>\n",
       "    </tr>\n",
       "  </tbody>\n",
       "</table>\n",
       "</div>"
      ],
      "text/plain": [
       "               Random Forest Classifier  K-Nearest Neighbors  \\\n",
       "Accuracy                       0.840248             0.826087   \n",
       "F1-score                       0.845090             0.829465   \n",
       "ROC-AUC score                  0.955598             0.920269   \n",
       "\n",
       "               Multi-layer perceptron  1dCNN + bLSTM  \n",
       "Accuracy                     0.763478       0.904845  \n",
       "F1-score                     0.775399       0.903949  \n",
       "ROC-AUC score                0.931873       0.972517  "
      ]
     },
     "execution_count": 33,
     "metadata": {},
     "output_type": "execute_result"
    }
   ],
   "source": [
    "import pandas as pd\n",
    "\n",
    "a = [0.8402484472049689, 0.8450899886838606, 0.955597939647134]\n",
    "b = [0.8260869565217391, 0.8294645570249439, 0.9202688934836653]\n",
    "c = [0.7634782608695653, 0.7753987825947355, 0.9318727988695117]\n",
    "d = [0.9048447204968945, 0.9039487974709863, 0.9725174799035443]\n",
    "evaluate_index = ['Accuracy', 'F1-score', 'ROC-AUC score']\n",
    "\n",
    "df = pd.DataFrame({'Random Forest Classifier' : a, 'K-Nearest Neighbors' : b, 'Multi-layer perceptron' : c, '1dCNN + bLSTM' : d}, index = evaluate_index)\n",
    "df"
   ]
  },
  {
   "cell_type": "code",
   "execution_count": 34,
   "metadata": {},
   "outputs": [
    {
     "data": {
      "image/png": "[encoded data removed]",
      "text/plain": [
       "<Figure size 864x432 with 1 Axes>"
      ]
     },
     "metadata": {
      "needs_background": "light"
     },
     "output_type": "display_data"
    }
   ],
   "source": [
    "# 그림 사이즈, 바 굵기 조정\n",
    "fig, ax = plt.subplots(figsize=(12,6))\n",
    "bar_width = 0.2\n",
    "\n",
    "# index 3개\n",
    "index = np.arange(3)\n",
    "\n",
    "# 각 index별 bar를 순서대로 나타내는 과정, 각 그래프는 0.25의 간격을 두고 그려짐\n",
    "b1 = plt.bar(index, df['Random Forest Classifier'], bar_width, alpha=0.4, color='red', label='Random Forest Classifier')\n",
    "\n",
    "b2 = plt.bar(index + bar_width, df['K-Nearest Neighbors'], bar_width, alpha=0.4, color='blue', label='K-Nearest Neighbors')\n",
    "\n",
    "b3 = plt.bar(index + 2 * bar_width, df['Multi-layer perceptron'], bar_width, alpha=0.4, color='green', label='Multi-layer perceptron')\n",
    "\n",
    "b4 = plt.bar(index + 3 * bar_width, df['1dCNN + bLSTM'], bar_width, alpha=0.4, color='black', label='1dCNN + bLSTM')\n",
    "\n",
    "# x축 위치를 정 가운데로 조정하고 x축의 텍스트를 year 정보와 매칭\n",
    "plt.xticks(np.arange(bar_width, 3 + bar_width, 1), evaluate_index)\n",
    "\n",
    "# x축, y축 이름 및 범례 설정\n",
    "plt.ylabel('Normalized value', size = 13)\n",
    "plt.legend()\n",
    "plt.savefig('svg_images/figure S4_model_comparing.svg')"
   ]
  },
  {
   "cell_type": "code",
   "execution_count": null,
   "metadata": {},
   "outputs": [],
   "source": []
  }
 ],
 "metadata": {
  "kernelspec": {
   "display_name": "Python 3",
   "language": "python",
   "name": "python3"
  },
  "language_info": {
   "codemirror_mode": {
    "name": "ipython",
    "version": 3
   },
   "file_extension": ".py",
   "mimetype": "text/x-python",
   "name": "python",
   "nbconvert_exporter": "python",
   "pygments_lexer": "ipython3",
   "version": "3.6.9"
  }
 },
 "nbformat": 4,
 "nbformat_minor": 4
}
