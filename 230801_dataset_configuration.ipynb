{
 "cells": [
  {
   "cell_type": "code",
   "execution_count": 1,
   "metadata": {},
   "outputs": [],
   "source": [
    "import os\n",
    "import gc\n",
    "from time import time\n",
    "\n",
    "import natsort\n",
    "from itertools import count\n",
    "# import torch\n",
    "# from pydub import AudioSegment, silence\n",
    "\n",
    "# Math\n",
    "from scipy.io import wavfile\n",
    "import librosa\n",
    "import numpy as np\n",
    "from scipy import signal\n",
    "from scipy.signal import find_peaks\n",
    "\n",
    "# # Visualization\n",
    "import matplotlib.pyplot as plt\n",
    "from matplotlib.animation import FuncAnimation\n",
    "from matplotlib.lines import Line2D\n",
    "\n",
    "import librosa.display\n",
    "from IPython.display import Audio\n",
    "from IPython.display import HTML\n",
    "\n",
    "import itertools\n",
    "import noisereduce as nr\n",
    "import pandas as pd\n",
    "from sklearn.preprocessing import MinMaxScaler, StandardScaler, MaxAbsScaler, RobustScaler\n",
    "import sklearn\n",
    "\n",
    "# keras module\n",
    "import tensorflow as tf\n",
    "from tensorflow.keras.wrappers.scikit_learn import KerasClassifier\n",
    "from tensorflow import keras\n",
    "from tensorflow.keras.models import load_model\n",
    "from tensorflow.keras import utils\n",
    "from tensorflow.keras import layers\n",
    "from tensorflow.keras import activations\n",
    "from tensorflow.keras.callbacks import EarlyStopping\n",
    "from tensorflow.keras.models import Sequential\n",
    "from tensorflow.keras.layers import Dense, Dropout, Flatten, Conv1D, Conv2D, MaxPooling1D, Embedding, LSTM, Bidirectional, SimpleRNN, GRU\n",
    "\n",
    "from tensorflow.keras.layers import *\n",
    "from tensorflow.keras.models import *\n",
    "\n",
    "# Hyperparameters\n",
    "# sample_rate = 16000\n",
    "freq_lim = 2048"
   ]
  },
  {
   "cell_type": "code",
   "execution_count": 3,
   "metadata": {
    "scrolled": true
   },
   "outputs": [
    {
     "data": {
      "text/plain": [
       "['103_2b2_Ar_mc_LittC2SE.txt',\n",
       " '103_2b2_Ar_mc_LittC2SE.wav',\n",
       " '106_2b1_Pr_mc_LittC2SE.txt',\n",
       " '106_2b1_Pr_mc_LittC2SE.wav',\n",
       " '121_1b1_Tc_sc_Meditron.txt',\n",
       " '121_1b1_Tc_sc_Meditron.wav',\n",
       " '133_2p4_Al_mc_AKGC417L.txt',\n",
       " '133_2p4_Al_mc_AKGC417L.wav',\n",
       " '134_2b3_Ar_mc_LittC2SE.txt',\n",
       " '134_2b3_Ar_mc_LittC2SE.wav',\n",
       " '141_1b2_Lr_mc_LittC2SE.txt',\n",
       " '141_1b2_Lr_mc_LittC2SE.wav',\n",
       " '143_1b1_Al_sc_Meditron.txt',\n",
       " '143_1b1_Al_sc_Meditron.wav',\n",
       " '144_1b1_Al_sc_Meditron.txt',\n",
       " '144_1b1_Al_sc_Meditron.wav',\n",
       " '151_2p2_Pl_mc_AKGC417L.txt',\n",
       " '151_2p2_Pl_mc_AKGC417L.wav',\n",
       " '152_1b1_Al_sc_Meditron.txt',\n",
       " '152_1b1_Al_sc_Meditron.wav',\n",
       " '153_1b1_Al_sc_Meditron.txt',\n",
       " '153_1b1_Al_sc_Meditron.wav',\n",
       " '159_1b1_Pr_sc_Meditron.txt',\n",
       " '159_1b1_Pr_sc_Meditron.wav',\n",
       " '160_1b2_Ar_mc_AKGC417L.txt',\n",
       " '160_1b2_Ar_mc_AKGC417L.wav',\n",
       " '171_1b1_Al_sc_Meditron.txt',\n",
       " '171_1b1_Al_sc_Meditron.wav',\n",
       " '178_1b2_Tc_mc_AKGC417L.txt',\n",
       " '178_1b2_Tc_mc_AKGC417L.wav',\n",
       " '183_1b1_Tc_sc_Meditron.txt',\n",
       " '183_1b1_Tc_sc_Meditron.wav',\n",
       " '184_1b1_Ar_sc_Meditron.txt',\n",
       " '184_1b1_Ar_sc_Meditron.wav',\n",
       " '192_2b1_Ar_mc_LittC2SE.txt',\n",
       " '192_2b1_Ar_mc_LittC2SE.wav',\n",
       " '193_1b2_Al_mc_AKGC417L.txt',\n",
       " '193_1b2_Al_mc_AKGC417L.wav',\n",
       " '193_1b2_Ar_mc_AKGC417L.txt',\n",
       " '193_1b2_Ar_mc_AKGC417L.wav',\n",
       " '193_1b2_Pl_mc_AKGC417L.txt',\n",
       " '193_1b2_Pl_mc_AKGC417L.wav',\n",
       " '193_1b2_Pr_mc_AKGC417L.txt',\n",
       " '193_1b2_Pr_mc_AKGC417L.wav',\n",
       " '193_1b2_Tc_mc_AKGC417L.txt',\n",
       " '193_1b2_Tc_mc_AKGC417L.wav',\n",
       " '193_1b4_Lr_mc_AKGC417L.txt',\n",
       " '193_1b4_Lr_mc_AKGC417L.wav',\n",
       " '194_1b1_Lr_sc_Meditron.txt',\n",
       " '194_1b1_Lr_sc_Meditron.wav',\n",
       " '194_1b1_Pr_sc_Meditron.txt',\n",
       " '194_1b1_Pr_sc_Meditron.wav',\n",
       " '198_1b5_Ar_mc_AKGC417L.txt',\n",
       " '198_1b5_Ar_mc_AKGC417L.wav',\n",
       " '198_1b5_Pr_mc_AKGC417L.txt',\n",
       " '198_1b5_Pr_mc_AKGC417L.wav',\n",
       " '202_1b1_Ar_sc_Meditron.txt',\n",
       " '202_1b1_Ar_sc_Meditron.wav',\n",
       " '203_1p2_Tc_mc_AKGC417L.txt',\n",
       " '203_1p2_Tc_mc_AKGC417L.wav',\n",
       " '204_2b5_Al_mc_AKGC417L.txt',\n",
       " '204_2b5_Al_mc_AKGC417L.wav',\n",
       " '209_1b1_Tc_sc_Meditron.txt',\n",
       " '209_1b1_Tc_sc_Meditron.wav',\n",
       " '214_1b1_Ar_sc_Meditron.txt',\n",
       " '214_1b1_Ar_sc_Meditron.wav',\n",
       " '217_1b1_Tc_sc_Meditron.txt',\n",
       " '217_1b1_Tc_sc_Meditron.wav',\n",
       " '221_2b1_Pl_mc_LittC2SE.txt',\n",
       " '221_2b1_Pl_mc_LittC2SE.wav',\n",
       " '221_2b2_Al_mc_LittC2SE.txt',\n",
       " '221_2b2_Al_mc_LittC2SE.wav',\n",
       " '221_2b2_Pl_mc_LittC2SE.txt',\n",
       " '221_2b2_Pl_mc_LittC2SE.wav',\n",
       " '221_2b3_Al_mc_LittC2SE.txt',\n",
       " '221_2b3_Al_mc_LittC2SE.wav',\n",
       " '224_1b2_Al_sc_Meditron.txt',\n",
       " '224_1b2_Al_sc_Meditron.wav',\n",
       " '225_1b1_Pl_sc_Meditron.txt',\n",
       " '225_1b1_Pl_sc_Meditron.wav']"
      ]
     },
     "execution_count": 3,
     "metadata": {},
     "output_type": "execute_result"
    }
   ],
   "source": [
    "file_path= 'data/ICBHI_extracted_labelled'\n",
    "file_list = os.listdir(file_path)\n",
    "ordered_file_list = natsort.natsorted(file_list)\n",
    "ordered_file_list"
   ]
  },
  {
   "cell_type": "code",
   "execution_count": 8,
   "metadata": {},
   "outputs": [
    {
     "data": {
      "text/plain": [
       "'.txt'"
      ]
     },
     "execution_count": 8,
     "metadata": {},
     "output_type": "execute_result"
    }
   ],
   "source": [
    "ordered_file_list[0][-4:]"
   ]
  },
  {
   "cell_type": "code",
   "execution_count": 9,
   "metadata": {},
   "outputs": [],
   "source": [
    "normal_cycle = 0\n",
    "wheeze_cycle = 0\n",
    "\n",
    "for file in ordered_file_list:\n",
    "    if file[-3:] == 'txt':\n",
    "        label = pd.read_csv(file_path + '/' + file, sep='\\t', header=None)\n",
    "    \n",
    "        for i, val in enumerate(label[2].to_numpy()):\n",
    "            if val == 'normal':\n",
    "                normal_cycle += 1\n",
    "\n",
    "            elif val == 'wheeze':\n",
    "                wheeze_cycle += 1"
   ]
  },
  {
   "cell_type": "code",
   "execution_count": 10,
   "metadata": {},
   "outputs": [
    {
     "name": "stdout",
     "output_type": "stream",
     "text": [
      "287\n",
      "202\n"
     ]
    }
   ],
   "source": [
    "print(normal_cycle)\n",
    "print(wheeze_cycle)"
   ]
  }
 ],
 "metadata": {
  "kernelspec": {
   "display_name": "112-keras-gpu",
   "language": "python",
   "name": "112-keras-gpu"
  },
  "language_info": {
   "codemirror_mode": {
    "name": "ipython",
    "version": 3
   },
   "file_extension": ".py",
   "mimetype": "text/x-python",
   "name": "python",
   "nbconvert_exporter": "python",
   "pygments_lexer": "ipython3",
   "version": "3.6.9"
  }
 },
 "nbformat": 4,
 "nbformat_minor": 4
}
