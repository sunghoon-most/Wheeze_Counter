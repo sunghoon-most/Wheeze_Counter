{
 "cells": [
  {
   "cell_type": "code",
   "execution_count": 23,
   "metadata": {},
   "outputs": [],
   "source": [
    "import os\n",
    "import gc\n",
    "from time import time\n",
    "\n",
    "import natsort\n",
    "from itertools import count\n",
    "# import torch\n",
    "# from pydub import AudioSegment, silence\n",
    "\n",
    "# Math\n",
    "from scipy.io import wavfile\n",
    "import librosa\n",
    "import numpy as np\n",
    "from scipy import signal\n",
    "from scipy.signal import find_peaks\n",
    "\n",
    "# # Visualization\n",
    "import matplotlib.pyplot as plt\n",
    "from matplotlib.animation import FuncAnimation\n",
    "from matplotlib.lines import Line2D\n",
    "\n",
    "import librosa.display\n",
    "from IPython.display import Audio\n",
    "from IPython.display import HTML\n",
    "\n",
    "import itertools\n",
    "import noisereduce as nr\n",
    "import pandas as pd\n",
    "from sklearn.preprocessing import MinMaxScaler, StandardScaler, MaxAbsScaler, RobustScaler\n",
    "import sklearn\n",
    "\n",
    "# keras module\n",
    "import tensorflow as tf\n",
    "from tensorflow.keras.wrappers.scikit_learn import KerasClassifier\n",
    "from tensorflow import keras\n",
    "from tensorflow.keras.models import load_model\n",
    "from tensorflow.keras import utils\n",
    "from tensorflow.keras import layers\n",
    "from tensorflow.keras import activations\n",
    "from tensorflow.keras.callbacks import EarlyStopping\n",
    "from tensorflow.keras.models import Sequential\n",
    "from tensorflow.keras.layers import Dense, Dropout, Flatten, Conv1D, Conv2D, MaxPooling1D, Embedding, LSTM, Bidirectional, SimpleRNN, GRU\n",
    "\n",
    "from tensorflow.keras.layers import *\n",
    "from tensorflow.keras.models import *\n",
    "\n",
    "# Hyperparameters\n",
    "sample_rate = 16000\n",
    "freq_lim = 2048"
   ]
  },
  {
   "cell_type": "code",
   "execution_count": 24,
   "metadata": {},
   "outputs": [],
   "source": [
    "import os\n",
    "\n",
    "from IPython.display import display\n",
    "import numpy as np\n",
    "import matplotlib.pyplot as plt\n",
    "import pandas as pd\n",
    "# import mglearn\n",
    "from os.path import join\n",
    "\n",
    "from sklearn.model_selection import train_test_split\n",
    "from sklearn.preprocessing import MinMaxScaler, label_binarize, OneHotEncoder\n",
    "from sklearn.neighbors import KNeighborsClassifier as KNN\n",
    "from sklearn import ensemble\n",
    "from sklearn.ensemble import RandomForestClassifier as RFC\n",
    "from sklearn.svm import SVC\n",
    "from sklearn.neural_network import MLPClassifier as MLP\n",
    "from sklearn.pipeline import Pipeline\n",
    "from sklearn.model_selection import GridSearchCV, RandomizedSearchCV\n",
    "from sklearn.metrics import make_scorer,accuracy_score,f1_score,roc_auc_score,roc_curve,confusion_matrix,auc\n",
    "from sklearn.metrics import RocCurveDisplay,ConfusionMatrixDisplay\n",
    "# import umap\n",
    "from sklearn.manifold import TSNE"
   ]
  },
  {
   "cell_type": "code",
   "execution_count": 25,
   "metadata": {},
   "outputs": [
    {
     "data": {
      "text/plain": [
       "'2.1.0'"
      ]
     },
     "execution_count": 25,
     "metadata": {},
     "output_type": "execute_result"
    }
   ],
   "source": [
    "tf.__version__"
   ]
  },
  {
   "cell_type": "code",
   "execution_count": 26,
   "metadata": {},
   "outputs": [],
   "source": [
    "from tensorflow.keras.wrappers.scikit_learn import KerasClassifier"
   ]
  },
  {
   "cell_type": "code",
   "execution_count": 27,
   "metadata": {
    "scrolled": true
   },
   "outputs": [
    {
     "data": {
      "text/plain": [
       "[name: \"/device:CPU:0\"\n",
       " device_type: \"CPU\"\n",
       " memory_limit: 268435456\n",
       " locality {\n",
       " }\n",
       " incarnation: 1753004475195486485,\n",
       " name: \"/device:XLA_CPU:0\"\n",
       " device_type: \"XLA_CPU\"\n",
       " memory_limit: 17179869184\n",
       " locality {\n",
       " }\n",
       " incarnation: 17515352883877726814\n",
       " physical_device_desc: \"device: XLA_CPU device\",\n",
       " name: \"/device:XLA_GPU:0\"\n",
       " device_type: \"XLA_GPU\"\n",
       " memory_limit: 17179869184\n",
       " locality {\n",
       " }\n",
       " incarnation: 15888020800781720406\n",
       " physical_device_desc: \"device: XLA_GPU device\",\n",
       " name: \"/device:XLA_GPU:1\"\n",
       " device_type: \"XLA_GPU\"\n",
       " memory_limit: 17179869184\n",
       " locality {\n",
       " }\n",
       " incarnation: 5906821024793799100\n",
       " physical_device_desc: \"device: XLA_GPU device\",\n",
       " name: \"/device:XLA_GPU:2\"\n",
       " device_type: \"XLA_GPU\"\n",
       " memory_limit: 17179869184\n",
       " locality {\n",
       " }\n",
       " incarnation: 3990955294279701745\n",
       " physical_device_desc: \"device: XLA_GPU device\",\n",
       " name: \"/device:XLA_GPU:3\"\n",
       " device_type: \"XLA_GPU\"\n",
       " memory_limit: 17179869184\n",
       " locality {\n",
       " }\n",
       " incarnation: 5682215560354308951\n",
       " physical_device_desc: \"device: XLA_GPU device\",\n",
       " name: \"/device:GPU:0\"\n",
       " device_type: \"GPU\"\n",
       " memory_limit: 23683586458\n",
       " locality {\n",
       "   bus_id: 1\n",
       "   links {\n",
       "   }\n",
       " }\n",
       " incarnation: 3931430465447716022\n",
       " physical_device_desc: \"device: 0, name: NVIDIA TITAN RTX, pci bus id: 0000:3b:00.0, compute capability: 7.5\",\n",
       " name: \"/device:GPU:1\"\n",
       " device_type: \"GPU\"\n",
       " memory_limit: 23794905908\n",
       " locality {\n",
       "   bus_id: 1\n",
       "   links {\n",
       "   }\n",
       " }\n",
       " incarnation: 205142163496260007\n",
       " physical_device_desc: \"device: 1, name: NVIDIA TITAN RTX, pci bus id: 0000:5e:00.0, compute capability: 7.5\",\n",
       " name: \"/device:GPU:2\"\n",
       " device_type: \"GPU\"\n",
       " memory_limit: 23794905908\n",
       " locality {\n",
       "   bus_id: 2\n",
       "   numa_node: 1\n",
       "   links {\n",
       "   }\n",
       " }\n",
       " incarnation: 16047646799099930923\n",
       " physical_device_desc: \"device: 2, name: NVIDIA TITAN RTX, pci bus id: 0000:af:00.0, compute capability: 7.5\",\n",
       " name: \"/device:GPU:3\"\n",
       " device_type: \"GPU\"\n",
       " memory_limit: 23794905908\n",
       " locality {\n",
       "   bus_id: 2\n",
       "   numa_node: 1\n",
       "   links {\n",
       "   }\n",
       " }\n",
       " incarnation: 8290677795595484669\n",
       " physical_device_desc: \"device: 3, name: NVIDIA TITAN RTX, pci bus id: 0000:d8:00.0, compute capability: 7.5\"]"
      ]
     },
     "execution_count": 27,
     "metadata": {},
     "output_type": "execute_result"
    }
   ],
   "source": [
    "from tensorflow.python.client import device_lib\n",
    "device_lib.list_local_devices()"
   ]
  },
  {
   "cell_type": "code",
   "execution_count": 28,
   "metadata": {},
   "outputs": [
    {
     "data": {
      "text/plain": [
       "0"
      ]
     },
     "execution_count": 28,
     "metadata": {},
     "output_type": "execute_result"
    }
   ],
   "source": [
    "for i in range(2):\n",
    "    gc.collect()\n",
    "gc.collect()"
   ]
  },
  {
   "cell_type": "markdown",
   "metadata": {},
   "source": [
    "## Train data import"
   ]
  },
  {
   "cell_type": "code",
   "execution_count": 29,
   "metadata": {},
   "outputs": [
    {
     "data": {
      "text/plain": [
       "['normal_littmann_2cycles.txt',\n",
       " 'normal_littmann_2cycles.wav',\n",
       " 'normal_sim_7cycles.txt',\n",
       " 'normal_sim_7cycles.wav',\n",
       " 'wheeze_clinical_train.txt',\n",
       " 'wheeze_clinical_train.wav',\n",
       " 'wheeze_expiratory_littmann_2cycles.txt',\n",
       " 'wheeze_expiratory_littmann_2cycles.wav',\n",
       " 'wheeze_low_pitch_littmann_2cycles.txt',\n",
       " 'wheeze_low_pitch_littmann_2cycles.wav',\n",
       " 'wheeze_monophonic_littmann_2cycles.txt',\n",
       " 'wheeze_monophonic_littmann_2cycles.wav',\n",
       " 'wheeze_sim_5cycles.txt',\n",
       " 'wheeze_sim_5cycles.wav']"
      ]
     },
     "execution_count": 29,
     "metadata": {},
     "output_type": "execute_result"
    }
   ],
   "source": [
    "file_path= 'data/train'\n",
    "\n",
    "file_list = os.listdir(file_path)\n",
    "ordered_file_list = natsort.natsorted(file_list)\n",
    "\n",
    "ordered_file_list"
   ]
  },
  {
   "cell_type": "code",
   "execution_count": 30,
   "metadata": {},
   "outputs": [],
   "source": [
    "# ordered_file_list = ordered_file_list[1:]"
   ]
  },
  {
   "cell_type": "code",
   "execution_count": 31,
   "metadata": {},
   "outputs": [],
   "source": [
    "# ordered_file_list"
   ]
  },
  {
   "cell_type": "code",
   "execution_count": 32,
   "metadata": {},
   "outputs": [
    {
     "data": {
      "text/plain": [
       "14"
      ]
     },
     "execution_count": 32,
     "metadata": {},
     "output_type": "execute_result"
    }
   ],
   "source": [
    "len(ordered_file_list)"
   ]
  },
  {
   "cell_type": "markdown",
   "metadata": {},
   "source": [
    "## Test data import"
   ]
  },
  {
   "cell_type": "code",
   "execution_count": 33,
   "metadata": {
    "scrolled": true
   },
   "outputs": [
    {
     "data": {
      "text/plain": [
       "['normal_littmann_1cycle.txt',\n",
       " 'normal_littmann_1cycle.wav',\n",
       " 'normal_sim_2cycles.txt',\n",
       " 'normal_sim_2cycles.wav',\n",
       " 'wheeze_clinical_validation.txt',\n",
       " 'wheeze_clinical_validation.wav',\n",
       " 'wheeze_expiratory_littmann_1cycle.txt',\n",
       " 'wheeze_expiratory_littmann_1cycle.wav',\n",
       " 'wheeze_low_pitch_littmann_1cycle.txt',\n",
       " 'wheeze_low_pitch_littmann_1cycle.wav',\n",
       " 'wheeze_monophonic_littmann_1cycle.txt',\n",
       " 'wheeze_monophonic_littmann_1cycle.wav',\n",
       " 'wheeze_sim_2cycles.txt',\n",
       " 'wheeze_sim_2cycles.wav']"
      ]
     },
     "execution_count": 33,
     "metadata": {},
     "output_type": "execute_result"
    }
   ],
   "source": [
    "# Clinical_wheezing_copd_210930\n",
    "test_file_path= 'data/validation'\n",
    "test_file_list = os.listdir(test_file_path)\n",
    "ordered_test_file_list = natsort.natsorted(test_file_list)\n",
    "\n",
    "ordered_test_file_list"
   ]
  },
  {
   "cell_type": "code",
   "execution_count": 34,
   "metadata": {},
   "outputs": [],
   "source": [
    "t1, t1_sr = librosa.load(test_file_path + '/' + ordered_test_file_list[7], sr = sample_rate)\n",
    "t1 = nr.reduce_noise(y=t1, sr=sample_rate)\n",
    "t1 = t1[:60*16000]\n",
    "t1_label = pd.read_csv(test_file_path + '/' + ordered_test_file_list[6], sep='\\t', header=None)\n",
    "\n",
    "\n",
    "t2, t2_sr = librosa.load(test_file_path + '/' + ordered_test_file_list[1], sr = sample_rate)\n",
    "t2 = nr.reduce_noise(y=t2, sr=sample_rate)\n",
    "t2_label = pd.read_csv(test_file_path + '/' + ordered_test_file_list[0], sep='\\t', header=None)\n",
    "\n",
    "\n",
    "t3, t3_sr = librosa.load(test_file_path + '/' + ordered_test_file_list[3], sr = sample_rate)\n",
    "t3 = nr.reduce_noise(y=t3, sr=sample_rate)\n",
    "t3_label = pd.read_csv(test_file_path + '/' + ordered_test_file_list[2], sep='\\t', header=None)\n",
    "\n",
    "\n",
    "t4, t4_sr = librosa.load(test_file_path + '/' + ordered_test_file_list[5], sr = sample_rate)\n",
    "t4 = nr.reduce_noise(y=t4, sr=sample_rate)\n",
    "t4_label = pd.read_csv(test_file_path + '/' + ordered_test_file_list[4], sep='\\t', header=None)"
   ]
  },
  {
   "cell_type": "markdown",
   "metadata": {},
   "source": [
    "# Funcition definition "
   ]
  },
  {
   "cell_type": "code",
   "execution_count": 35,
   "metadata": {},
   "outputs": [],
   "source": [
    "def make_validation_dataset_keras(file_path, ordered_file_list, n_mels, frame_sec, step_sec, label_ratio):\n",
    "\n",
    "\n",
    "    data_list = []\n",
    "    label_list = []\n",
    "\n",
    "    for index, file in enumerate(ordered_file_list):\n",
    "        if file[-3:] == 'wav':\n",
    "\n",
    "            # data load \n",
    "            data, data_sr = librosa.load(file_path + '/' + file, sr = sample_rate)\n",
    "#             data = nr.reduce_noise(data, sr = sample_rate)\n",
    "\n",
    "            # framing condition\n",
    "            frame_length = int(frame_sec * sample_rate)\n",
    "            frame_step = int(step_sec * sample_rate)\n",
    "\n",
    "            # mel spectrogram extraction\n",
    "            melS = librosa.feature.melspectrogram(y = data, sr=sample_rate, n_mels=n_mels,\n",
    "                                                  hop_length=frame_step, win_length=frame_length)\n",
    "            melS = librosa.power_to_db(melS, ref=np.max)\n",
    "#             melS = librosa.power_to_db(melS, ref=np.median)\n",
    "\n",
    "            data_list.append(melS.T)\n",
    "\n",
    "    # X must be extracted first\n",
    "\n",
    "    for index, file in enumerate(ordered_file_list):\n",
    "\n",
    "        if file[-3:] == 'txt':\n",
    "\n",
    "            # normal and wheeze split\n",
    "            normal_event = []\n",
    "            wheeze_event = []\n",
    "\n",
    "            label = pd.read_csv(file_path + '/' + file, sep='\\t', header=None)\n",
    "\n",
    "            sec_to_index_start = label[0]*16000\n",
    "            sec_to_index_end = label[1]*16000\n",
    "            sec_to_index_start = sec_to_index_start.to_numpy().round()\n",
    "            sec_to_index_end = sec_to_index_end.to_numpy().round()\n",
    "\n",
    "            for i, val in enumerate(label[2].to_numpy()):\n",
    "                if val == 1:\n",
    "                    normal_event.append([int(sec_to_index_start[i]//(step_sec*sample_rate)), \n",
    "                                         int(sec_to_index_end[i]//(step_sec*sample_rate))])\n",
    "\n",
    "                elif val == 2:\n",
    "                    wheeze_event.append([int(sec_to_index_start[i]//(step_sec*sample_rate)), \n",
    "                                         int(sec_to_index_end[i]//(step_sec*sample_rate))])\n",
    "\n",
    "            normal_event = np.array(normal_event)\n",
    "            wheeze_event = np.array(wheeze_event)\n",
    "\n",
    "            y = np.zeros(len(data_list[int(index/2)]))\n",
    "\n",
    "            # label ratio decision\n",
    "\n",
    "            for j in normal_event:\n",
    "                start = j[0]\n",
    "                end = j[1]\n",
    "                delta = int((end-start)*label_ratio)\n",
    "                y[end-delta:end] = 1\n",
    "#                 y[end:end+delta] = 1\n",
    "\n",
    "\n",
    "            for k in wheeze_event:\n",
    "                start = k[0]\n",
    "                end = k[1]\n",
    "                delta = int((end-start)*label_ratio)\n",
    "                y[end-delta:end] = 2\n",
    "#                 y[end:end+delta] = 2\n",
    "\n",
    "\n",
    "            label_list.append(y)\n",
    "    \n",
    "    X = np.concatenate(data_list, axis = 0)\n",
    "    X = X.reshape(X.shape[0], X.shape[1])\n",
    "    X = X.reshape(X.shape[0], X.shape[1], 1)\n",
    "    y = np.concatenate(label_list, axis = 0)\n",
    "    y = utils.to_categorical(y)\n",
    "    \n",
    "    return X, y\n",
    "\n",
    "\n",
    "def make_validation_dataset_sklearn(file_path, ordered_file_list, n_mels, frame_sec, step_sec, label_ratio):\n",
    "\n",
    "    data_list = []\n",
    "    label_list = []\n",
    "\n",
    "    for index, file in enumerate(ordered_file_list):\n",
    "        if file[-3:] == 'wav':\n",
    "\n",
    "            # data load \n",
    "            data, data_sr = librosa.load(file_path + '/' + file, sr = sample_rate)\n",
    "#             data = nr.reduce_noise(data, sr = sample_rate)\n",
    "\n",
    "            # framing condition\n",
    "            frame_length = int(frame_sec * sample_rate)\n",
    "            frame_step = int(step_sec * sample_rate)\n",
    "\n",
    "            # mel spectrogram extraction\n",
    "            melS = librosa.feature.melspectrogram(y = data, sr=sample_rate, n_mels=n_mels,\n",
    "                                                  hop_length=frame_step, win_length=frame_length)\n",
    "            melS = librosa.power_to_db(melS, ref=np.max)\n",
    "#             melS = librosa.power_to_db(melS, ref=np.median)\n",
    "\n",
    "            data_list.append(melS.T)\n",
    "\n",
    "    # X must be extracted first\n",
    "\n",
    "    for index, file in enumerate(ordered_file_list):\n",
    "\n",
    "        if file[-3:] == 'txt':\n",
    "\n",
    "            # normal and wheeze split\n",
    "            normal_event = []\n",
    "            wheeze_event = []\n",
    "\n",
    "            label = pd.read_csv(file_path + '/' + file, sep='\\t', header=None)\n",
    "\n",
    "            sec_to_index_start = label[0]*16000\n",
    "            sec_to_index_end = label[1]*16000\n",
    "            sec_to_index_start = sec_to_index_start.to_numpy().round()\n",
    "            sec_to_index_end = sec_to_index_end.to_numpy().round()\n",
    "\n",
    "            for i, val in enumerate(label[2].to_numpy()):\n",
    "                if val == 1:\n",
    "                    normal_event.append([int(sec_to_index_start[i]//(step_sec*sample_rate)), \n",
    "                                         int(sec_to_index_end[i]//(step_sec*sample_rate))])\n",
    "\n",
    "                elif val == 2:\n",
    "                    wheeze_event.append([int(sec_to_index_start[i]//(step_sec*sample_rate)), \n",
    "                                         int(sec_to_index_end[i]//(step_sec*sample_rate))])\n",
    "\n",
    "            normal_event = np.array(normal_event)\n",
    "            wheeze_event = np.array(wheeze_event)\n",
    "\n",
    "            y = np.zeros(len(data_list[int(index/2)]))\n",
    "\n",
    "            # label ratio decision\n",
    "\n",
    "            for j in normal_event:\n",
    "                start = j[0]\n",
    "                end = j[1]\n",
    "                delta = int((end-start)*label_ratio)\n",
    "                y[end-delta:end] = 1\n",
    "#                 y[end:end+delta] = 1\n",
    "\n",
    "\n",
    "            for k in wheeze_event:\n",
    "                start = k[0]\n",
    "                end = k[1]\n",
    "                delta = int((end-start)*label_ratio)\n",
    "                y[end-delta:end] = 2\n",
    "#                 y[end:end+delta] = 2\n",
    "\n",
    "\n",
    "            label_list.append(y)\n",
    "    \n",
    "    X = np.concatenate(data_list, axis = 0)\n",
    "    X = X.reshape(X.shape[0], X.shape[1])\n",
    "#     X = X.reshape(X.shape[0], X.shape[1], 1)\n",
    "    y = np.concatenate(label_list, axis = 0)\n",
    "#     y = utils.to_categorical(y)\n",
    "    \n",
    "    return X, y\n",
    "\n",
    "\n",
    "def make_validation_test_dataset_sklearn(file_path, ordered_file_list, n_mels, frame_sec, step_sec, label_ratio):\n",
    "\n",
    "    data_list = []\n",
    "    label_list = []\n",
    "\n",
    "    for index, file in enumerate(ordered_file_list):\n",
    "        if file[-3:] == 'wav':\n",
    "\n",
    "            # data load \n",
    "            data, data_sr = librosa.load(file_path + '/' + file, sr = sample_rate)\n",
    "#             data = nr.reduce_noise(data, sr = sample_rate)\n",
    "\n",
    "            # framing condition\n",
    "            frame_length = int(frame_sec * sample_rate)\n",
    "            frame_step = int(step_sec * sample_rate)\n",
    "\n",
    "            # mel spectrogram extraction\n",
    "            melS = librosa.feature.melspectrogram(y = data, sr=sample_rate, n_mels=n_mels,\n",
    "                                                  hop_length=frame_step, win_length=frame_length)\n",
    "            melS = librosa.power_to_db(melS, ref=np.max)\n",
    "#             melS = librosa.power_to_db(melS, ref=np.median)\n",
    "\n",
    "            data_list.append(melS.T)\n",
    "\n",
    "    # X must be extracted first\n",
    "\n",
    "    for index, file in enumerate(ordered_file_list):\n",
    "\n",
    "        if file[-3:] == 'txt':\n",
    "\n",
    "            # normal and wheeze split\n",
    "            normal_event = []\n",
    "            wheeze_event = []\n",
    "\n",
    "            label = pd.read_csv(file_path + '/' + file, sep='\\t', header=None)\n",
    "\n",
    "            sec_to_index_start = label[0]*16000\n",
    "            sec_to_index_end = label[1]*16000\n",
    "            sec_to_index_start = sec_to_index_start.to_numpy().round()\n",
    "            sec_to_index_end = sec_to_index_end.to_numpy().round()\n",
    "\n",
    "            for i, val in enumerate(label[2].to_numpy()):\n",
    "                if val == 'n':\n",
    "                    normal_event.append([int(sec_to_index_start[i]//(step_sec*sample_rate)), \n",
    "                                         int(sec_to_index_end[i]//(step_sec*sample_rate))])\n",
    "\n",
    "                elif val == 'w':\n",
    "                    wheeze_event.append([int(sec_to_index_start[i]//(step_sec*sample_rate)), \n",
    "                                         int(sec_to_index_end[i]//(step_sec*sample_rate))])\n",
    "\n",
    "            normal_event = np.array(normal_event)\n",
    "            wheeze_event = np.array(wheeze_event)\n",
    "\n",
    "            y = np.zeros(len(data_list[int(index/2)]))\n",
    "\n",
    "            # label ratio decision\n",
    "\n",
    "            for j in normal_event:\n",
    "                start = j[0]\n",
    "                end = j[1]\n",
    "                delta = int((end-start)*label_ratio)\n",
    "                y[end-delta:end] = 1\n",
    "#                 y[end:end+delta] = 1\n",
    "\n",
    "\n",
    "            for k in wheeze_event:\n",
    "                start = k[0]\n",
    "                end = k[1]\n",
    "                delta = int((end-start)*label_ratio)\n",
    "                y[end-delta:end] = 2\n",
    "#                 y[end:end+delta] = 2\n",
    "\n",
    "\n",
    "            label_list.append(y)\n",
    "    \n",
    "    X = np.concatenate(data_list, axis = 0)\n",
    "    X = X.reshape(X.shape[0], X.shape[1])\n",
    "#     X = X.reshape(X.shape[0], X.shape[1], 1)\n",
    "    y = np.concatenate(label_list, axis = 0)\n",
    "#     y = utils.to_categorical(y)\n",
    "    \n",
    "    return X, y\n",
    "\n",
    "\n",
    "def make_validation_dataset(file_path, ordered_file_list, n_mels, frame_sec, step_sec, label_ratio):\n",
    "\n",
    "\n",
    "    data_list = []\n",
    "    label_list = []\n",
    "\n",
    "    for index, file in enumerate(ordered_file_list):\n",
    "        if file[-3:] == 'wav':\n",
    "\n",
    "            # data load \n",
    "            data, data_sr = librosa.load(file_path + '/' + file, sr = sample_rate)\n",
    "#             data = nr.reduce_noise(data, sr = sample_rate)\n",
    "\n",
    "            # framing condition\n",
    "            frame_length = int(frame_sec * sample_rate)\n",
    "            frame_step = int(step_sec * sample_rate)\n",
    "\n",
    "            # mel spectrogram extraction\n",
    "            melS = librosa.feature.melspectrogram(y = data, sr=sample_rate, n_mels=n_mels,\n",
    "                                                  hop_length=frame_step, win_length=frame_length)\n",
    "            melS = librosa.power_to_db(melS, ref=np.max)\n",
    "#             melS = librosa.power_to_db(melS, ref=np.median)\n",
    "\n",
    "            data_list.append(melS.T)\n",
    "\n",
    "    # X must be extracted first\n",
    "\n",
    "    for index, file in enumerate(ordered_file_list):\n",
    "\n",
    "        if file[-3:] == 'txt':\n",
    "\n",
    "            # normal and wheeze split\n",
    "            normal_event = []\n",
    "            wheeze_event = []\n",
    "\n",
    "            label = pd.read_csv(file_path + '/' + file, sep='\\t', header=None)\n",
    "\n",
    "            sec_to_index_start = label[0]*16000\n",
    "            sec_to_index_end = label[1]*16000\n",
    "            sec_to_index_start = sec_to_index_start.to_numpy().round()\n",
    "            sec_to_index_end = sec_to_index_end.to_numpy().round()\n",
    "\n",
    "            for i, val in enumerate(label[2].to_numpy()):\n",
    "                if val == 1:\n",
    "                    normal_event.append([int(sec_to_index_start[i]//(step_sec*sample_rate)), \n",
    "                                         int(sec_to_index_end[i]//(step_sec*sample_rate))])\n",
    "\n",
    "                elif val == 2:\n",
    "                    wheeze_event.append([int(sec_to_index_start[i]//(step_sec*sample_rate)), \n",
    "                                         int(sec_to_index_end[i]//(step_sec*sample_rate))])\n",
    "\n",
    "            normal_event = np.array(normal_event)\n",
    "            wheeze_event = np.array(wheeze_event)\n",
    "\n",
    "            y = np.zeros(len(data_list[int(index/2)]))\n",
    "\n",
    "            # label ratio decision\n",
    "\n",
    "            for j in normal_event:\n",
    "                start = j[0]\n",
    "                end = j[1]\n",
    "                delta = int((end-start)*label_ratio)\n",
    "                y[end-delta:end] = 1\n",
    "#                 y[end:end+delta] = 1\n",
    "\n",
    "\n",
    "            for k in wheeze_event:\n",
    "                start = k[0]\n",
    "                end = k[1]\n",
    "                delta = int((end-start)*label_ratio)\n",
    "                y[end-delta:end] = 2\n",
    "#                 y[end:end+delta] = 2\n",
    "\n",
    "\n",
    "            label_list.append(y)\n",
    "    \n",
    "    X = np.concatenate(data_list, axis = 0)\n",
    "    X = X.reshape(X.shape[0], X.shape[1])\n",
    "#     X = X.reshape(X.shape[0], X.shape[1], 1)\n",
    "    y = np.concatenate(label_list, axis = 0)\n",
    "#     y = utils.to_categorical(y)\n",
    "    \n",
    "    return X, y\n",
    "\n",
    "\n",
    "def make_train_dataset_keras(file_path, ordered_file_list, n_mels, frame_sec, step_sec, label_ratio):\n",
    "    \n",
    "    data_list = []\n",
    "    label_list = []\n",
    "    \n",
    "    # calculated values\n",
    "    frame_length = int(frame_sec * sample_rate)\n",
    "    frame_step = int(step_sec * sample_rate)\n",
    "#     pitch_var = [-1, 1]\n",
    "    pitch_var = [-3.5, -2, 2, 3.5]\n",
    "    augmented_number = len(pitch_var)\n",
    "\n",
    "    for index, file in enumerate(ordered_file_list):\n",
    "        \n",
    "        if file[-3:] == 'wav':\n",
    "\n",
    "            # data load \n",
    "            data, data_sr = librosa.load(file_path + '/' + file, sr = sample_rate)\n",
    "#             data = nr.reduce_noise(data, sr = sample_rate)\n",
    "            \n",
    "            for pitch in pitch_var:\n",
    "                \n",
    "                ps_data = librosa.effects.pitch_shift(data, sr = sample_rate, n_steps = pitch)\n",
    "\n",
    "                # mel spectrogram extraction\n",
    "                melS = librosa.feature.melspectrogram(y = ps_data, sr=sample_rate, n_mels=n_mels,\n",
    "                                                      hop_length=frame_step, win_length=frame_length)\n",
    "                melS = librosa.power_to_db(melS, ref=np.max)\n",
    "\n",
    "                data_list.append(melS.T)\n",
    "                \n",
    "            # normal and wheeze split\n",
    "            normal_event = []\n",
    "            wheeze_event = []\n",
    "                \n",
    "            label = pd.read_csv(file_path + '/' + file[:-3] + 'txt', sep='\\t', header=None)\n",
    "            \n",
    "            sec_to_index_start = label[0]*16000\n",
    "            sec_to_index_end = label[1]*16000\n",
    "            sec_to_index_start = sec_to_index_start.to_numpy().round()\n",
    "            sec_to_index_end = sec_to_index_end.to_numpy().round()\n",
    "\n",
    "            for i, val in enumerate(label[2].to_numpy()):\n",
    "                if val == 1:\n",
    "                    normal_event.append([int(sec_to_index_start[i]//(step_sec*sample_rate)),\n",
    "                                         int(sec_to_index_end[i]//(step_sec*sample_rate))])\n",
    "\n",
    "                elif val == 2:\n",
    "                    wheeze_event.append([int(sec_to_index_start[i]//(step_sec*sample_rate)),\n",
    "                                         int(sec_to_index_end[i]//(step_sec*sample_rate))])\n",
    "\n",
    "            normal_event = np.array(normal_event)\n",
    "            wheeze_event = np.array(wheeze_event)\n",
    "            \n",
    "            y = np.zeros(len(data_list[-1]))\n",
    " \n",
    "            # label ratio decision\n",
    "            for j in normal_event:\n",
    "                start = j[0]\n",
    "                end = j[1]\n",
    "                delta = int((end-start)*label_ratio)\n",
    "                y[end-delta:end] = 1\n",
    "\n",
    "            for k in wheeze_event:\n",
    "                start = k[0]\n",
    "                end = k[1]\n",
    "                delta = int((end-start)*label_ratio)\n",
    "                y[end-delta:end] = 2\n",
    "                \n",
    "            for number in range(augmented_number):\n",
    "                label_list.append(y)\n",
    "                \n",
    "    X = np.concatenate(data_list, axis = 0)\n",
    "    X = X.reshape(X.shape[0], X.shape[1], 1)\n",
    "    y = np.concatenate(label_list, axis = 0)\n",
    "    y = utils.to_categorical(y)\n",
    "    \n",
    "    return X, y\n",
    "\n",
    "\n",
    "def make_train_dataset_sklearn(file_path, ordered_file_list, n_mels, frame_sec, step_sec, label_ratio):\n",
    "    \n",
    "    data_list = []\n",
    "    label_list = []\n",
    "    \n",
    "    # calculated values\n",
    "    frame_length = int(frame_sec * sample_rate)\n",
    "    frame_step = int(step_sec * sample_rate)\n",
    "#     pitch_var = [-1, 1]\n",
    "    pitch_var = [-3.5, -2, 2, 3.5]\n",
    "    augmented_number = len(pitch_var)\n",
    "\n",
    "    for index, file in enumerate(ordered_file_list):\n",
    "        \n",
    "        if file[-3:] == 'wav':\n",
    "\n",
    "            # data load \n",
    "            data, data_sr = librosa.load(file_path + '/' + file, sr = sample_rate)\n",
    "#             data = nr.reduce_noise(data, sr = sample_rate)\n",
    "            \n",
    "            for pitch in pitch_var:\n",
    "                \n",
    "                ps_data = librosa.effects.pitch_shift(data, sr = sample_rate, n_steps = pitch)\n",
    "\n",
    "                # mel spectrogram extraction\n",
    "                melS = librosa.feature.melspectrogram(y = ps_data, sr=sample_rate, n_mels=n_mels,\n",
    "                                                      hop_length=frame_step, win_length=frame_length)\n",
    "                melS = librosa.power_to_db(melS, ref=np.max)\n",
    "\n",
    "                data_list.append(melS.T)\n",
    "                \n",
    "            # normal and wheeze split\n",
    "            normal_event = []\n",
    "            wheeze_event = []\n",
    "                \n",
    "            label = pd.read_csv(file_path + '/' + file[:-3] + 'txt', sep='\\t', header=None)\n",
    "            \n",
    "            sec_to_index_start = label[0]*16000\n",
    "            sec_to_index_end = label[1]*16000\n",
    "            sec_to_index_start = sec_to_index_start.to_numpy().round()\n",
    "            sec_to_index_end = sec_to_index_end.to_numpy().round()\n",
    "\n",
    "            for i, val in enumerate(label[2].to_numpy()):\n",
    "                if val == 1:\n",
    "                    normal_event.append([int(sec_to_index_start[i]//(step_sec*sample_rate)),\n",
    "                                         int(sec_to_index_end[i]//(step_sec*sample_rate))])\n",
    "\n",
    "                elif val == 2:\n",
    "                    wheeze_event.append([int(sec_to_index_start[i]//(step_sec*sample_rate)),\n",
    "                                         int(sec_to_index_end[i]//(step_sec*sample_rate))])\n",
    "\n",
    "            normal_event = np.array(normal_event)\n",
    "            wheeze_event = np.array(wheeze_event)\n",
    "            \n",
    "            y = np.zeros(len(data_list[-1]))\n",
    " \n",
    "            # label ratio decision\n",
    "            for j in normal_event:\n",
    "                start = j[0]\n",
    "                end = j[1]\n",
    "                delta = int((end-start)*label_ratio)\n",
    "                y[end-delta:end] = 1\n",
    "\n",
    "            for k in wheeze_event:\n",
    "                start = k[0]\n",
    "                end = k[1]\n",
    "                delta = int((end-start)*label_ratio)\n",
    "                y[end-delta:end] = 2\n",
    "                \n",
    "            for number in range(augmented_number):\n",
    "                label_list.append(y)\n",
    "                \n",
    "    X = np.concatenate(data_list, axis = 0)\n",
    "#     X = X.reshape(X.shape[0], X.shape[1], 1)\n",
    "    y = np.concatenate(label_list, axis = 0)\n",
    "#     y = utils.to_categorical(y)\n",
    "    \n",
    "    return X, y\n",
    "\n",
    "\n",
    "def make_train_dataset(file_path, ordered_file_list, n_mels, frame_sec, step_sec, label_ratio):\n",
    "    \n",
    "    data_list = []\n",
    "    label_list = []\n",
    "    \n",
    "    # calculated values\n",
    "    frame_length = int(frame_sec * sample_rate)\n",
    "    frame_step = int(step_sec * sample_rate)\n",
    "#     pitch_var = [-1, 1]\n",
    "    pitch_var = [-3.5, -2, 2, 3.5]\n",
    "    augmented_number = len(pitch_var)\n",
    "\n",
    "    for index, file in enumerate(ordered_file_list):\n",
    "        \n",
    "        if file[-3:] == 'wav':\n",
    "\n",
    "            # data load \n",
    "            data, data_sr = librosa.load(file_path + '/' + file, sr = sample_rate)\n",
    "#             data = nr.reduce_noise(data, sr = sample_rate)\n",
    "            \n",
    "            for pitch in pitch_var:\n",
    "                \n",
    "                ps_data = librosa.effects.pitch_shift(data, sr = sample_rate, n_steps = pitch)\n",
    "\n",
    "                # mel spectrogram extraction\n",
    "                melS = librosa.feature.melspectrogram(y = ps_data, sr=sample_rate, n_mels=n_mels,\n",
    "                                                      hop_length=frame_step, win_length=frame_length)\n",
    "                melS = librosa.power_to_db(melS, ref=np.max)\n",
    "\n",
    "                data_list.append(melS.T)\n",
    "                \n",
    "            # normal and wheeze split\n",
    "            normal_event = []\n",
    "            wheeze_event = []\n",
    "                \n",
    "            label = pd.read_csv(file_path + '/' + file[:-3] + 'txt', sep='\\t', header=None)\n",
    "            \n",
    "            sec_to_index_start = label[0]*16000\n",
    "            sec_to_index_end = label[1]*16000\n",
    "            sec_to_index_start = sec_to_index_start.to_numpy().round()\n",
    "            sec_to_index_end = sec_to_index_end.to_numpy().round()\n",
    "\n",
    "            for i, val in enumerate(label[2].to_numpy()):\n",
    "                if val == 1:\n",
    "                    normal_event.append([int(sec_to_index_start[i]//(step_sec*sample_rate)),\n",
    "                                         int(sec_to_index_end[i]//(step_sec*sample_rate))])\n",
    "\n",
    "                elif val == 2:\n",
    "                    wheeze_event.append([int(sec_to_index_start[i]//(step_sec*sample_rate)),\n",
    "                                         int(sec_to_index_end[i]//(step_sec*sample_rate))])\n",
    "\n",
    "            normal_event = np.array(normal_event)\n",
    "            wheeze_event = np.array(wheeze_event)\n",
    "            \n",
    "            y = np.zeros(len(data_list[-1]))\n",
    " \n",
    "            # label ratio decision\n",
    "            for j in normal_event:\n",
    "                start = j[0]\n",
    "                end = j[1]\n",
    "                delta = int((end-start)*label_ratio)\n",
    "                y[end-delta:end] = 1\n",
    "\n",
    "            for k in wheeze_event:\n",
    "                start = k[0]\n",
    "                end = k[1]\n",
    "                delta = int((end-start)*label_ratio)\n",
    "                y[end-delta:end] = 2\n",
    "                \n",
    "            for number in range(augmented_number):\n",
    "                label_list.append(y)\n",
    "                \n",
    "    X = np.concatenate(data_list, axis = 0)\n",
    "    X = X.reshape(X.shape[0], X.shape[1])\n",
    "#     X = X.reshape(X.shape[0], X.shape[1], 1)\n",
    "    y = np.concatenate(label_list, axis = 0)\n",
    "#     y = utils.to_categorical(y)\n",
    "    \n",
    "    return X, y\n",
    "\n",
    "\n",
    "\n",
    "def make_test_dataset(test_signal, test_label, n_mels, frame_sec, step_sec):\n",
    "    \n",
    "    # test signal must be noise filtered\n",
    "\n",
    "    # framing condition\n",
    "    frame_length = int(frame_sec * sample_rate)\n",
    "    frame_step = int(step_sec * sample_rate)\n",
    "    \n",
    "#     # noise reduce\n",
    "#     test_signal = nr.reduce_noise(test_signal, sr = sample_rate)\n",
    "\n",
    "    # mel spectrogram extraction\n",
    "    melS = librosa.feature.melspectrogram(y = test_signal, sr=sample_rate, \n",
    "                                          n_mels=n_mels, hop_length=frame_step, win_length=frame_length)\n",
    "    melS = librosa.power_to_db(melS, ref=np.max)\n",
    "#     melS = librosa.power_to_db(melS, ref=np.median)\n",
    "\n",
    "    X_test = melS.T\n",
    "    \n",
    "    sec_to_index = test_label[0]*16000\n",
    "    event_index = sec_to_index//(step_sec*sample_rate)\n",
    "\n",
    "    y_test = np.zeros(len(X_test))\n",
    "\n",
    "    for i in event_index:\n",
    "        y_test[int(i)] = 2\n",
    "        \n",
    "    return X_test, y_test\n",
    "\n",
    "\n",
    "def make_test_dataset_keras(test_signal, test_label, n_mels, frame_sec, step_sec):\n",
    "    \n",
    "    # test signal must be noise filtered\n",
    "\n",
    "    # framing condition\n",
    "    frame_length = int(frame_sec * sample_rate)\n",
    "    frame_step = int(step_sec * sample_rate)\n",
    "    \n",
    "    # noise reduce\n",
    "    test_signal = nr.reduce_noise(test_signal, sr = sample_rate)\n",
    "\n",
    "    # mel spectrogram extraction\n",
    "    melS = librosa.feature.melspectrogram(y = test_signal, sr=sample_rate, \n",
    "                                          n_mels=n_mels, hop_length=frame_step, win_length=frame_length)\n",
    "    melS = librosa.power_to_db(melS, ref=np.max)\n",
    "#     melS = librosa.power_to_db(melS, ref=np.median)\n",
    "\n",
    "    X_test = melS.T\n",
    "    X_test = X_test.reshape(X_test.shape[0], X_test.shape[1],1)\n",
    "    \n",
    "    sec_to_index = test_label[0]*16000\n",
    "    event_index = sec_to_index//(step_sec*sample_rate)\n",
    "\n",
    "    y_test = np.zeros(len(X_test))\n",
    "\n",
    "    for i in event_index:\n",
    "        y_test[int(i)] = 2\n",
    "        \n",
    "    return X_test, y_test\n",
    "\n",
    "\n",
    "def wheeze_per_resp_acc(y_pred, y_test):\n",
    "    \n",
    "    peaks, _ = find_peaks(y_pred)\n",
    "\n",
    "    after_peaks = peaks[1:]\n",
    "    before_peaks = peaks[:-1]\n",
    "\n",
    "    term = after_peaks - before_peaks\n",
    "\n",
    "    start = 0\n",
    "    pred_resp_count = 0\n",
    "    pred_normal_count = 0\n",
    "    pred_wheeze_count = 0\n",
    "\n",
    "    for index, val in enumerate(term):\n",
    "        if val >= 100:\n",
    "            pred_resp_count += 1\n",
    "            thres = y_pred[peaks[start:index+1]].mean()\n",
    "            if thres > 1.0:\n",
    "                pred_wheeze_count += 1\n",
    "            elif thres == 1.0 : \n",
    "                pred_normal_count += 1\n",
    "            start = index+1\n",
    "    \n",
    "    print('prediction')\n",
    "    print(pred_wheeze_count, '/', pred_resp_count)\n",
    "    \n",
    "    peaks, _ = find_peaks(y_test)\n",
    "\n",
    "    after_peaks = peaks[1:]\n",
    "    before_peaks = peaks[:-1]\n",
    "\n",
    "    term = after_peaks - before_peaks\n",
    "\n",
    "    start = 0\n",
    "    test_resp_count = 0\n",
    "    test_normal_count = 0\n",
    "    test_wheeze_count = 0\n",
    "\n",
    "    for index, val in enumerate(term):\n",
    "        if val >= 100:\n",
    "            test_resp_count += 1\n",
    "            thres = y_test[peaks[start:index+1]].mean()\n",
    "            if thres > 1.0:\n",
    "                test_wheeze_count += 1\n",
    "            elif thres == 1.0 : \n",
    "                test_normal_count += 1\n",
    "            start = index+1\n",
    "             \n",
    "    print('test')\n",
    "    print(test_wheeze_count, '/', test_resp_count)\n",
    "    \n",
    "    return pred_wheeze_count, pred_resp_count"
   ]
  },
  {
   "cell_type": "code",
   "execution_count": 36,
   "metadata": {},
   "outputs": [],
   "source": [
    "def algorithm_pipeline(X_train_data, X_test_data, y_train_data, y_test_data, \n",
    "                       model, param_grid, cv=5, scoring_fit='roc_auc',\n",
    "                       do_probabilities = False):\n",
    "    gs = GridSearchCV(\n",
    "        estimator=model,\n",
    "        param_grid=param_grid, \n",
    "#         cv=cv, \n",
    "        n_jobs=1, \n",
    "#         scoring=scoring_fit,\n",
    "#         verbose=2\n",
    "    )\n",
    "    \n",
    "    gs.fit(X_train_data, y_train_data)\n",
    "    \n",
    "    if do_probabilities:\n",
    "        pred = gs.predict_proba(X_test_data)\n",
    "    else:\n",
    "        pred = gs.predict(X_test_data)\n",
    "    \n",
    "    return gs, pred"
   ]
  },
  {
   "cell_type": "markdown",
   "metadata": {},
   "source": [
    "## fixed parameter results"
   ]
  },
  {
   "cell_type": "code",
   "execution_count": 38,
   "metadata": {},
   "outputs": [],
   "source": [
    "n_mels = 128\n",
    "frame_sec = 0.025\n",
    "step_sec = 0.01\n",
    "label_ratio = 1\n",
    "\n",
    "# X, y = make_train_dataset_keras(file_path, ordered_file_list, n_mels, frame_sec, step_sec, label_ratio)\n",
    "# X_val, y_val = make_validation_dataset_keras(val_file_path, val_ordered_file_list, n_mels, frame_sec, step_sec, label_ratio)\n",
    "X_train, y_train = make_train_dataset_sklearn(file_path, ordered_file_list, n_mels, frame_sec, step_sec, label_ratio)\n",
    "# X_test, y_test = make_validation_dataset_sklearn(val_file_path, val_ordered_file_list, n_mels, frame_sec, step_sec, label_ratio)\n",
    "#%% Split data\n",
    "# X_train, X_test, y_train, y_test = train_test_split(X, y, shuffle=False)\n",
    "# n_timesteps, n_features, n_outputs = X.shape[1], X.shape[2], y.shape[1]"
   ]
  },
  {
   "cell_type": "code",
   "execution_count": 39,
   "metadata": {},
   "outputs": [
    {
     "name": "stdout",
     "output_type": "stream",
     "text": [
      "32084\n"
     ]
    }
   ],
   "source": [
    "print(len(X_train))"
   ]
  },
  {
   "cell_type": "code",
   "execution_count": 57,
   "metadata": {},
   "outputs": [],
   "source": [
    "t_x, t_y = make_test_dataset_keras(t1, t1_label, n_mels, frame_sec, step_sec)\n",
    "t2_x, t2_y = make_test_dataset_keras(t2, t2_label, n_mels, frame_sec, step_sec)\n",
    "t3_x, t3_y = make_test_dataset_keras(t3, t3_label, n_mels, frame_sec, step_sec)\n",
    "t4_x, t4_y = make_test_dataset_keras(t4, t4_label, n_mels, frame_sec, step_sec)"
   ]
  },
  {
   "cell_type": "markdown",
   "metadata": {},
   "source": [
    "## SVC "
   ]
  },
  {
   "cell_type": "code",
   "execution_count": 181,
   "metadata": {},
   "outputs": [],
   "source": [
    "import numpy as np\n",
    "from sklearn.pipeline import make_pipeline\n",
    "from sklearn.preprocessing import StandardScaler\n",
    "from sklearn.svm import SVC"
   ]
  },
  {
   "cell_type": "code",
   "execution_count": 108,
   "metadata": {},
   "outputs": [],
   "source": [
    "clf = make_pipeline(StandardScaler(), SVC(gamma='auto', probability=True))\n",
    "SVC = clf.fit(X_train, y_train)"
   ]
  },
  {
   "cell_type": "code",
   "execution_count": 125,
   "metadata": {},
   "outputs": [
    {
     "data": {
      "text/plain": [
       "['saved_pipes/220725_SVC_ex_set.joblib']"
      ]
     },
     "execution_count": 125,
     "metadata": {},
     "output_type": "execute_result"
    }
   ],
   "source": [
    "import joblib\n",
    "joblib.dump(SVC, 'saved_pipes/220725_SVC_ex_set.joblib')"
   ]
  },
  {
   "cell_type": "code",
   "execution_count": 182,
   "metadata": {},
   "outputs": [],
   "source": [
    "model = joblib.load('saved_pipes/220725_SVC_ex_set.joblib')"
   ]
  },
  {
   "cell_type": "code",
   "execution_count": 185,
   "metadata": {},
   "outputs": [],
   "source": [
    "y_pred=model.predict(X_test)\n",
    "y_prob = model.predict_proba(X_test)"
   ]
  },
  {
   "cell_type": "code",
   "execution_count": 186,
   "metadata": {},
   "outputs": [
    {
     "name": "stdout",
     "output_type": "stream",
     "text": [
      "acc: 0.4009937888198758\n",
      "f1: 0.38373668649201653\n",
      "roc_auc: 0.7262530590475359\n",
      "[[0.18950793 0.00488003 0.80561204]\n",
      " [0.06913997 0.58178752 0.34907251]\n",
      " [0.11408016 0.0606372  0.82528263]]\n"
     ]
    }
   ],
   "source": [
    "acc =accuracy_score(y_test,y_pred)\n",
    "f1=f1_score(y_test,y_pred,average='weighted')\n",
    "\n",
    "y_true = utils.to_categorical(y_test)\n",
    "\n",
    "roc_auc = roc_auc_score(y_true, y_prob, multi_class='ovr')\n",
    "cm = confusion_matrix(y_test, y_pred, normalize='true')\n",
    "\n",
    "print('acc:', acc)\n",
    "print('f1:', f1)\n",
    "print('roc_auc:', roc_auc)\n",
    "print(cm)"
   ]
  },
  {
   "cell_type": "code",
   "execution_count": 187,
   "metadata": {},
   "outputs": [],
   "source": [
    "y_prob_0 = y_prob[:,0]\n",
    "y_prob_1 = y_prob[:,1]\n",
    "y_prob_2 = y_prob[:,2]\n",
    "\n",
    "y_true_0 = y_true[:,0]\n",
    "y_true_1 = y_true[:,1]\n",
    "y_true_2 = y_true[:,2]"
   ]
  },
  {
   "cell_type": "code",
   "execution_count": 204,
   "metadata": {},
   "outputs": [
    {
     "data": {
      "image/png": "[encoded data removed]",
      "text/plain": [
       "<Figure size 432x144 with 1 Axes>"
      ]
     },
     "metadata": {
      "needs_background": "light"
     },
     "output_type": "display_data"
    },
    {
     "data": {
      "image/png": "[encoded data removed]",
      "text/plain": [
       "<Figure size 432x144 with 1 Axes>"
      ]
     },
     "metadata": {
      "needs_background": "light"
     },
     "output_type": "display_data"
    },
    {
     "data": {
      "image/png": "[encoded data removed]",
      "text/plain": [
       "<Figure size 432x144 with 1 Axes>"
      ]
     },
     "metadata": {
      "needs_background": "light"
     },
     "output_type": "display_data"
    }
   ],
   "source": [
    "view_start = 1500\n",
    "view_end = 2500\n",
    "\n",
    "plt.figure(figsize=(6,2))\n",
    "# plt.figure()\n",
    "plt.plot(y_true_0, label='break_ref', color='black')\n",
    "plt.plot(y_prob_0, label='break', color='g')\n",
    "plt.ylim(-0.1,1.1)\n",
    "plt.xlim(view_start,view_end)\n",
    "plt.legend()\n",
    "plt.savefig('svg_images/figure6-1_break.svg')\n",
    "\n",
    "plt.figure(figsize=(6,2))\n",
    "plt.plot(y_true_1, label='normal_ref', color='black')\n",
    "plt.plot(y_prob_1, label='normal', color='b')\n",
    "plt.ylim(-0.1,1.1)\n",
    "plt.xlim(view_start,view_end)\n",
    "plt.legend()\n",
    "plt.savefig('svg_images/figure6-1_normal.svg')\n",
    "\n",
    "plt.figure(figsize=(6,2))\n",
    "plt.plot(y_true_2, label='wheeze_ref', color='black')\n",
    "plt.plot(y_prob_2, label='wheeze', color='r')\n",
    "plt.ylim(-0.1,1.1)\n",
    "plt.xlim(view_start,view_end)\n",
    "plt.legend()\n",
    "plt.savefig('svg_images/figure6-1_wheeze.svg')"
   ]
  },
  {
   "cell_type": "markdown",
   "metadata": {},
   "source": [
    "## Test with clinical "
   ]
  },
  {
   "cell_type": "code",
   "execution_count": 206,
   "metadata": {},
   "outputs": [
    {
     "data": {
      "text/plain": [
       "['1_clinical(s1_1)_JJY_extrcted_ISH.txt',\n",
       " '1_clinical(s1_1)_JJY_extrcted_ISH.wav']"
      ]
     },
     "execution_count": 206,
     "metadata": {},
     "output_type": "execute_result"
    }
   ],
   "source": [
    "# Clinical_wheezing_copd_210930\n",
    "test_file_path= 'data/raw data/mamoori/test/s1_1'\n",
    "test_file_list = os.listdir(test_file_path)\n",
    "ordered_test_file_list = natsort.natsorted(test_file_list)\n",
    "\n",
    "ordered_test_file_list"
   ]
  },
  {
   "cell_type": "code",
   "execution_count": 207,
   "metadata": {},
   "outputs": [],
   "source": [
    "n_mels = 128\n",
    "frame_sec = 0.025\n",
    "step_sec = 0.01\n",
    "label_ratio = 1\n",
    "\n",
    "X_test, y_test =make_validation_test_dataset_sklearn(test_file_path, ordered_test_file_list, n_mels, frame_sec, step_sec, label_ratio)"
   ]
  },
  {
   "cell_type": "code",
   "execution_count": 208,
   "metadata": {},
   "outputs": [],
   "source": [
    "model = joblib.load('saved_pipes/220725_SVC_ex_set.joblib')"
   ]
  },
  {
   "cell_type": "code",
   "execution_count": 209,
   "metadata": {},
   "outputs": [],
   "source": [
    "y_pred = model.predict(X_test)\n",
    "y_prob = model.predict_proba(X_test)\n",
    "\n",
    "y_true = utils.to_categorical(y_test)"
   ]
  },
  {
   "cell_type": "code",
   "execution_count": 210,
   "metadata": {},
   "outputs": [
    {
     "data": {
      "text/plain": [
       "(13251, 3)"
      ]
     },
     "execution_count": 210,
     "metadata": {},
     "output_type": "execute_result"
    }
   ],
   "source": [
    "y_prob.shape"
   ]
  },
  {
   "cell_type": "code",
   "execution_count": 211,
   "metadata": {},
   "outputs": [
    {
     "data": {
      "text/plain": [
       "(13251, 3)"
      ]
     },
     "execution_count": 211,
     "metadata": {},
     "output_type": "execute_result"
    }
   ],
   "source": [
    "y_true.shape"
   ]
  },
  {
   "cell_type": "code",
   "execution_count": 212,
   "metadata": {},
   "outputs": [
    {
     "name": "stdout",
     "output_type": "stream",
     "text": [
      "acc: 0.11984001207456041\n",
      "f1: 0.02564942909554578\n",
      "roc_auc: 0.41870319666819933\n",
      "[[0. 0. 1.]\n",
      " [0. 0. 1.]\n",
      " [0. 0. 1.]]\n"
     ]
    }
   ],
   "source": [
    "acc =accuracy_score(y_test,y_pred)\n",
    "f1=f1_score(y_test,y_pred,average='weighted')\n",
    "\n",
    "roc_auc = roc_auc_score(y_true, y_prob, multi_class='ovr')\n",
    "cm = confusion_matrix(y_test, y_pred, normalize='true')\n",
    "\n",
    "print('acc:', acc)\n",
    "print('f1:', f1)\n",
    "print('roc_auc:', roc_auc)\n",
    "print(cm)"
   ]
  },
  {
   "cell_type": "code",
   "execution_count": 213,
   "metadata": {},
   "outputs": [],
   "source": [
    "y_prob_0 = y_prob[:,0]\n",
    "y_prob_1 = y_prob[:,1]\n",
    "y_prob_2 = y_prob[:,2]\n",
    "\n",
    "y_true_0 = y_true[:,0]\n",
    "y_true_1 = y_true[:,1]\n",
    "y_true_2 = y_true[:,2]"
   ]
  },
  {
   "cell_type": "code",
   "execution_count": 214,
   "metadata": {},
   "outputs": [
    {
     "data": {
      "text/plain": [
       "<matplotlib.legend.Legend at 0x7f830066a2e0>"
      ]
     },
     "execution_count": 214,
     "metadata": {},
     "output_type": "execute_result"
    },
    {
     "data": {
      "image/png": "[encoded data removed]",
      "text/plain": [
       "<Figure size 1152x288 with 1 Axes>"
      ]
     },
     "metadata": {
      "needs_background": "light"
     },
     "output_type": "display_data"
    },
    {
     "data": {
      "image/png": "[encoded data removed]",
      "text/plain": [
       "<Figure size 1152x288 with 1 Axes>"
      ]
     },
     "metadata": {
      "needs_background": "light"
     },
     "output_type": "display_data"
    },
    {
     "data": {
      "image/png": "[encoded data removed]",
      "text/plain": [
       "<Figure size 1152x288 with 1 Axes>"
      ]
     },
     "metadata": {
      "needs_background": "light"
     },
     "output_type": "display_data"
    }
   ],
   "source": [
    "# view_start = 0\n",
    "# view_end = 2000\n",
    "\n",
    "plt.figure(figsize=(16,4))\n",
    "plt.plot(y_true_0, label='break_ref', color='black')\n",
    "plt.plot(y_prob_0, label='break', color='g')\n",
    "plt.ylim(-0.1,1.1)\n",
    "# plt.xlim(view_start,view_end)\n",
    "plt.legend()\n",
    "\n",
    "plt.figure(figsize=(16,4))\n",
    "plt.plot(y_true_1, label='normal_ref', color='black')\n",
    "plt.plot(y_prob_1, label='normal', color='b')\n",
    "plt.ylim(-0.1,1.1)\n",
    "# plt.xlim(view_start,view_end)\n",
    "plt.legend()\n",
    "\n",
    "plt.figure(figsize=(16,4))\n",
    "plt.plot(y_true_2, label='wheeze_ref', color='black')\n",
    "plt.plot(y_prob_2, label='wheeze', color='r')\n",
    "plt.ylim(-0.1,1.1)\n",
    "# plt.xlim(view_start,view_end)\n",
    "plt.legend()"
   ]
  }
 ],
 "metadata": {
  "kernelspec": {
   "display_name": "Python 3",
   "language": "python",
   "name": "python3"
  },
  "language_info": {
   "codemirror_mode": {
    "name": "ipython",
    "version": 3
   },
   "file_extension": ".py",
   "mimetype": "text/x-python",
   "name": "python",
   "nbconvert_exporter": "python",
   "pygments_lexer": "ipython3",
   "version": "3.6.9"
  }
 },
 "nbformat": 4,
 "nbformat_minor": 5
}
