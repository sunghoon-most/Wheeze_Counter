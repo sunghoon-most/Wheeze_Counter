{
 "cells": [
  {
   "cell_type": "code",
   "execution_count": 1,
   "metadata": {},
   "outputs": [],
   "source": [
    "import os\n",
    "import gc\n",
    "from time import time\n",
    "\n",
    "import natsort\n",
    "from itertools import count\n",
    "# import torch\n",
    "# from pydub import AudioSegment, silence\n",
    "\n",
    "# Math\n",
    "from scipy.io import wavfile\n",
    "import librosa\n",
    "import numpy as np\n",
    "from scipy import signal\n",
    "from scipy.signal import find_peaks\n",
    "\n",
    "# # Visualization\n",
    "import matplotlib.pyplot as plt\n",
    "from matplotlib.animation import FuncAnimation\n",
    "from matplotlib.lines import Line2D\n",
    "\n",
    "import librosa.display\n",
    "from IPython.display import Audio\n",
    "from IPython.display import HTML\n",
    "\n",
    "import itertools\n",
    "import noisereduce as nr\n",
    "import pandas as pd\n",
    "from sklearn.preprocessing import MinMaxScaler, StandardScaler, MaxAbsScaler, RobustScaler\n",
    "import sklearn\n",
    "\n",
    "# keras module\n",
    "import tensorflow as tf\n",
    "from tensorflow.keras.wrappers.scikit_learn import KerasClassifier\n",
    "from tensorflow import keras\n",
    "from tensorflow.keras.models import load_model\n",
    "from tensorflow.keras import utils\n",
    "from tensorflow.keras import layers\n",
    "from tensorflow.keras import activations\n",
    "from tensorflow.keras.callbacks import EarlyStopping\n",
    "from tensorflow.keras.models import Sequential\n",
    "from tensorflow.keras.layers import Dense, Dropout, Flatten, Conv1D, Conv2D, MaxPooling1D, Embedding, LSTM, Bidirectional, SimpleRNN, GRU\n",
    "\n",
    "from tensorflow.keras.layers import *\n",
    "from tensorflow.keras.models import *\n",
    "\n",
    "# Hyperparameters\n",
    "# sample_rate = 16000\n",
    "freq_lim = 2048"
   ]
  },
  {
   "cell_type": "code",
   "execution_count": 2,
   "metadata": {},
   "outputs": [],
   "source": [
    "import os\n",
    "\n",
    "from IPython.display import display\n",
    "import numpy as np\n",
    "import matplotlib.pyplot as plt\n",
    "import pandas as pd\n",
    "# import mglearn\n",
    "from os.path import join\n",
    "\n",
    "from sklearn.model_selection import train_test_split\n",
    "from sklearn.preprocessing import MinMaxScaler, label_binarize, OneHotEncoder\n",
    "from sklearn.neighbors import KNeighborsClassifier as KNN\n",
    "from sklearn import ensemble\n",
    "from sklearn.ensemble import RandomForestClassifier as RFC\n",
    "from sklearn.svm import SVC\n",
    "from sklearn.neural_network import MLPClassifier as MLP\n",
    "from sklearn.pipeline import Pipeline\n",
    "from sklearn.model_selection import GridSearchCV, RandomizedSearchCV\n",
    "from sklearn.metrics import make_scorer,accuracy_score,f1_score,roc_auc_score,roc_curve,confusion_matrix,auc\n",
    "from sklearn.metrics import RocCurveDisplay,ConfusionMatrixDisplay\n",
    "# import umap\n",
    "from sklearn.manifold import TSNE"
   ]
  },
  {
   "cell_type": "code",
   "execution_count": 3,
   "metadata": {},
   "outputs": [
    {
     "data": {
      "text/plain": [
       "'2.1.0'"
      ]
     },
     "execution_count": 3,
     "metadata": {},
     "output_type": "execute_result"
    }
   ],
   "source": [
    "tf.__version__"
   ]
  },
  {
   "cell_type": "code",
   "execution_count": 4,
   "metadata": {},
   "outputs": [],
   "source": [
    "from tensorflow.keras.wrappers.scikit_learn import KerasClassifier"
   ]
  },
  {
   "cell_type": "code",
   "execution_count": 5,
   "metadata": {},
   "outputs": [
    {
     "data": {
      "text/plain": [
       "[name: \"/device:CPU:0\"\n",
       " device_type: \"CPU\"\n",
       " memory_limit: 268435456\n",
       " locality {\n",
       " }\n",
       " incarnation: 2243978406703953505,\n",
       " name: \"/device:XLA_CPU:0\"\n",
       " device_type: \"XLA_CPU\"\n",
       " memory_limit: 17179869184\n",
       " locality {\n",
       " }\n",
       " incarnation: 1806852802119244479\n",
       " physical_device_desc: \"device: XLA_CPU device\",\n",
       " name: \"/device:XLA_GPU:0\"\n",
       " device_type: \"XLA_GPU\"\n",
       " memory_limit: 17179869184\n",
       " locality {\n",
       " }\n",
       " incarnation: 12201022640890952342\n",
       " physical_device_desc: \"device: XLA_GPU device\",\n",
       " name: \"/device:XLA_GPU:1\"\n",
       " device_type: \"XLA_GPU\"\n",
       " memory_limit: 17179869184\n",
       " locality {\n",
       " }\n",
       " incarnation: 3923527720988639927\n",
       " physical_device_desc: \"device: XLA_GPU device\",\n",
       " name: \"/device:XLA_GPU:2\"\n",
       " device_type: \"XLA_GPU\"\n",
       " memory_limit: 17179869184\n",
       " locality {\n",
       " }\n",
       " incarnation: 8433502640300873451\n",
       " physical_device_desc: \"device: XLA_GPU device\",\n",
       " name: \"/device:XLA_GPU:3\"\n",
       " device_type: \"XLA_GPU\"\n",
       " memory_limit: 17179869184\n",
       " locality {\n",
       " }\n",
       " incarnation: 56683598549657858\n",
       " physical_device_desc: \"device: XLA_GPU device\",\n",
       " name: \"/device:GPU:0\"\n",
       " device_type: \"GPU\"\n",
       " memory_limit: 98828288\n",
       " locality {\n",
       "   bus_id: 1\n",
       "   links {\n",
       "   }\n",
       " }\n",
       " incarnation: 8318994152826354224\n",
       " physical_device_desc: \"device: 0, name: NVIDIA TITAN RTX, pci bus id: 0000:3b:00.0, compute capability: 7.5\",\n",
       " name: \"/device:GPU:1\"\n",
       " device_type: \"GPU\"\n",
       " memory_limit: 23474146509\n",
       " locality {\n",
       "   bus_id: 1\n",
       "   links {\n",
       "   }\n",
       " }\n",
       " incarnation: 3910093611156884335\n",
       " physical_device_desc: \"device: 1, name: NVIDIA TITAN RTX, pci bus id: 0000:5e:00.0, compute capability: 7.5\",\n",
       " name: \"/device:GPU:2\"\n",
       " device_type: \"GPU\"\n",
       " memory_limit: 23474146509\n",
       " locality {\n",
       "   bus_id: 2\n",
       "   numa_node: 1\n",
       "   links {\n",
       "   }\n",
       " }\n",
       " incarnation: 17634779529449630871\n",
       " physical_device_desc: \"device: 2, name: NVIDIA TITAN RTX, pci bus id: 0000:af:00.0, compute capability: 7.5\",\n",
       " name: \"/device:GPU:3\"\n",
       " device_type: \"GPU\"\n",
       " memory_limit: 23474146509\n",
       " locality {\n",
       "   bus_id: 2\n",
       "   numa_node: 1\n",
       "   links {\n",
       "   }\n",
       " }\n",
       " incarnation: 13870815821772295728\n",
       " physical_device_desc: \"device: 3, name: NVIDIA TITAN RTX, pci bus id: 0000:d8:00.0, compute capability: 7.5\"]"
      ]
     },
     "execution_count": 5,
     "metadata": {},
     "output_type": "execute_result"
    }
   ],
   "source": [
    "from tensorflow.python.client import device_lib\n",
    "device_lib.list_local_devices()"
   ]
  },
  {
   "cell_type": "code",
   "execution_count": 6,
   "metadata": {},
   "outputs": [
    {
     "data": {
      "text/plain": [
       "0"
      ]
     },
     "execution_count": 6,
     "metadata": {},
     "output_type": "execute_result"
    }
   ],
   "source": [
    "for i in range(2):\n",
    "    gc.collect()\n",
    "gc.collect()"
   ]
  },
  {
   "cell_type": "markdown",
   "metadata": {},
   "source": [
    "# Funcition definition "
   ]
  },
  {
   "cell_type": "code",
   "execution_count": 7,
   "metadata": {},
   "outputs": [],
   "source": [
    "def make_train_dataset_keras(file_path, ordered_file_list, n_mels, frame_sec, step_sec, label_ratio):\n",
    "    \n",
    "    data_list = []\n",
    "    label_list = []\n",
    "    \n",
    "    pitch_var = [-3.5, -2, 2, 3.5]\n",
    "    augmented_number = len(pitch_var)\n",
    "\n",
    "    for index, file in enumerate(ordered_file_list):\n",
    "        \n",
    "        if file[-3:] == 'wav':\n",
    "\n",
    "            # data load \n",
    "            sample_rate = librosa.get_samplerate(file_path + '/' + file)\n",
    "            # calculated values\n",
    "            frame_length = int(frame_sec * sample_rate)\n",
    "            frame_step = int(step_sec * sample_rate)\n",
    "            data, data_sr = librosa.load(file_path + '/' + file, sr = sample_rate)\n",
    "            \n",
    "            for pitch in pitch_var:\n",
    "                \n",
    "                ps_data = librosa.effects.pitch_shift(data, sr = sample_rate, n_steps = pitch)\n",
    "\n",
    "                # mel spectrogram extraction\n",
    "                melS = librosa.feature.melspectrogram(y = ps_data, sr=sample_rate, n_mels=n_mels,\n",
    "                                                      hop_length=frame_step, win_length=frame_length)\n",
    "                melS = librosa.power_to_db(melS, ref=np.max)\n",
    "\n",
    "                data_list.append(melS.T)\n",
    "                \n",
    "            # normal and wheeze split\n",
    "            normal_event = []\n",
    "            wheeze_event = []\n",
    "                \n",
    "            label = pd.read_csv(file_path + '/' + file[:-3] + 'txt', sep='\\t', header=None)\n",
    "            \n",
    "            sec_to_index_start = label[0]*16000\n",
    "            sec_to_index_end = label[1]*16000\n",
    "            sec_to_index_start = sec_to_index_start.to_numpy().round()\n",
    "            sec_to_index_end = sec_to_index_end.to_numpy().round()\n",
    "\n",
    "            for i, val in enumerate(label[2].to_numpy()):\n",
    "                if val == 'normal':\n",
    "                    normal_event.append([int(sec_to_index_start[i]//(step_sec*sample_rate)),\n",
    "                                         int(sec_to_index_end[i]//(step_sec*sample_rate))])\n",
    "\n",
    "                elif val == 'wheeze':\n",
    "                    wheeze_event.append([int(sec_to_index_start[i]//(step_sec*sample_rate)),\n",
    "                                         int(sec_to_index_end[i]//(step_sec*sample_rate))])\n",
    "\n",
    "            normal_event = np.array(normal_event)\n",
    "            wheeze_event = np.array(wheeze_event)\n",
    "            \n",
    "            y = np.zeros(len(data_list[-1]))\n",
    " \n",
    "            # label ratio decision\n",
    "            for j in normal_event:\n",
    "                start = j[0]\n",
    "                end = j[1]\n",
    "                delta = int((end-start)*label_ratio)\n",
    "                y[end-delta:end] = 1\n",
    "\n",
    "            for k in wheeze_event:\n",
    "                start = k[0]\n",
    "                end = k[1]\n",
    "                delta = int((end-start)*label_ratio)\n",
    "                y[end-delta:end] = 2\n",
    "                \n",
    "            for number in range(augmented_number):\n",
    "                label_list.append(y)\n",
    "                \n",
    "    X = np.concatenate(data_list, axis = 0)\n",
    "    X = X.reshape(X.shape[0], X.shape[1], 1)\n",
    "    y = np.concatenate(label_list, axis = 0)\n",
    "    y = utils.to_categorical(y)\n",
    "    \n",
    "    return X, y\n",
    "\n",
    "\n",
    "def make_validation_dataset_keras(file_path, ordered_file_list, n_mels, frame_sec, step_sec, label_ratio):\n",
    "\n",
    "\n",
    "    data_list = []\n",
    "    label_list = []\n",
    "\n",
    "    for index, file in enumerate(ordered_file_list):\n",
    "        if file[-3:] == 'wav':\n",
    "\n",
    "            # data load \n",
    "            sample_rate = librosa.get_samplerate(file_path + '/' + file)\n",
    "            data, data_sr = librosa.load(file_path + '/' + file, sr = sample_rate)\n",
    "#             data = nr.reduce_noise(data, sr = sample_rate)\n",
    "\n",
    "            # framing condition\n",
    "            frame_length = int(frame_sec * sample_rate)\n",
    "            frame_step = int(step_sec * sample_rate)\n",
    "\n",
    "            # mel spectrogram extraction\n",
    "            melS = librosa.feature.melspectrogram(y = data, sr=sample_rate, n_mels=n_mels,\n",
    "                                                  hop_length=frame_step, win_length=frame_length)\n",
    "            melS = librosa.power_to_db(melS, ref=np.max)\n",
    "#             melS = librosa.power_to_db(melS, ref=np.median)\n",
    "\n",
    "            data_list.append(melS.T)\n",
    "\n",
    "    # X must be extracted first\n",
    "\n",
    "    for index, file in enumerate(ordered_file_list):\n",
    "\n",
    "        if file[-3:] == 'txt':\n",
    "\n",
    "            # normal and wheeze split\n",
    "            normal_event = []\n",
    "            wheeze_event = []\n",
    "\n",
    "            label = pd.read_csv(file_path + '/' + file, sep='\\t', header=None)\n",
    "\n",
    "            sec_to_index_start = label[0]*16000\n",
    "            sec_to_index_end = label[1]*16000\n",
    "            sec_to_index_start = sec_to_index_start.to_numpy().round()\n",
    "            sec_to_index_end = sec_to_index_end.to_numpy().round()\n",
    "\n",
    "            for i, val in enumerate(label[2].to_numpy()):\n",
    "                if val == 1:\n",
    "                    normal_event.append([int(sec_to_index_start[i]//(step_sec*sample_rate)), \n",
    "                                         int(sec_to_index_end[i]//(step_sec*sample_rate))])\n",
    "\n",
    "                elif val == 2:\n",
    "                    wheeze_event.append([int(sec_to_index_start[i]//(step_sec*sample_rate)), \n",
    "                                         int(sec_to_index_end[i]//(step_sec*sample_rate))])\n",
    "\n",
    "            normal_event = np.array(normal_event)\n",
    "            wheeze_event = np.array(wheeze_event)\n",
    "\n",
    "            y = np.zeros(len(data_list[int(index/2)]))\n",
    "\n",
    "            # label ratio decision\n",
    "\n",
    "            for j in normal_event:\n",
    "                start = j[0]\n",
    "                end = j[1]\n",
    "                delta = int((end-start)*label_ratio)\n",
    "                y[end-delta:end] = 1\n",
    "#                 y[end:end+delta] = 1\n",
    "\n",
    "\n",
    "            for k in wheeze_event:\n",
    "                start = k[0]\n",
    "                end = k[1]\n",
    "                delta = int((end-start)*label_ratio)\n",
    "                y[end-delta:end] = 2\n",
    "#                 y[end:end+delta] = 2\n",
    "\n",
    "\n",
    "            label_list.append(y)\n",
    "    \n",
    "    X = np.concatenate(data_list, axis = 0)\n",
    "    X = X.reshape(X.shape[0], X.shape[1])\n",
    "    X = X.reshape(X.shape[0], X.shape[1], 1)\n",
    "    y = np.concatenate(label_list, axis = 0)\n",
    "    y = utils.to_categorical(y)\n",
    "    \n",
    "    return X, y\n",
    "\n",
    "\n",
    "def make_test_dataset_keras(test_signal, test_label, n_mels, frame_sec, step_sec):\n",
    "    \n",
    "    # test signal must be noise filtered\n",
    "\n",
    "    # framing condition\n",
    "    frame_length = int(frame_sec * sample_rate)\n",
    "    frame_step = int(step_sec * sample_rate)\n",
    "    \n",
    "    # noise reduce\n",
    "    test_signal = nr.reduce_noise(test_signal, sr = sample_rate)\n",
    "\n",
    "    # mel spectrogram extraction\n",
    "    melS = librosa.feature.melspectrogram(y = test_signal, sr=sample_rate, \n",
    "                                          n_mels=n_mels, hop_length=frame_step, win_length=frame_length)\n",
    "    melS = librosa.power_to_db(melS, ref=np.max)\n",
    "#     melS = librosa.power_to_db(melS, ref=np.median)\n",
    "\n",
    "    X_test = melS.T\n",
    "    X_test = X_test.reshape(X_test.shape[0], X_test.shape[1],1)\n",
    "    \n",
    "    sec_to_index = test_label[0]*16000\n",
    "    event_index = sec_to_index//(step_sec*sample_rate)\n",
    "\n",
    "    y_test = np.zeros(len(X_test))\n",
    "\n",
    "    for i in event_index:\n",
    "        y_test[int(i)] = 2\n",
    "        \n",
    "    return X_test, y_test\n",
    "\n",
    "\n",
    "def wheeze_per_resp_acc(y_pred, y_test):\n",
    "    \n",
    "    peaks, _ = find_peaks(y_pred)\n",
    "\n",
    "    after_peaks = peaks[1:]\n",
    "    before_peaks = peaks[:-1]\n",
    "\n",
    "    term = after_peaks - before_peaks\n",
    "\n",
    "    start = 0\n",
    "    pred_resp_count = 0\n",
    "    pred_normal_count = 0\n",
    "    pred_wheeze_count = 0\n",
    "\n",
    "    for index, val in enumerate(term):\n",
    "        if val >= 100:\n",
    "            pred_resp_count += 1\n",
    "            thres = y_pred[peaks[start:index+1]].mean()\n",
    "            if thres > 1.0:\n",
    "                pred_wheeze_count += 1\n",
    "            elif thres == 1.0 : \n",
    "                pred_normal_count += 1\n",
    "            start = index+1\n",
    "    \n",
    "    print('prediction')\n",
    "    print(pred_wheeze_count, '/', pred_resp_count)\n",
    "    \n",
    "    peaks, _ = find_peaks(y_test)\n",
    "\n",
    "    after_peaks = peaks[1:]\n",
    "    before_peaks = peaks[:-1]\n",
    "\n",
    "    term = after_peaks - before_peaks\n",
    "\n",
    "    start = 0\n",
    "    test_resp_count = 0\n",
    "    test_normal_count = 0\n",
    "    test_wheeze_count = 0\n",
    "\n",
    "    for index, val in enumerate(term):\n",
    "        if val >= 100:\n",
    "            test_resp_count += 1\n",
    "            thres = y_test[peaks[start:index+1]].mean()\n",
    "            if thres > 1.0:\n",
    "                test_wheeze_count += 1\n",
    "            elif thres == 1.0 : \n",
    "                test_normal_count += 1\n",
    "            start = index+1\n",
    "             \n",
    "    print('test')\n",
    "    print(test_wheeze_count, '/', test_resp_count)\n",
    "    \n",
    "    return pred_wheeze_count, pred_resp_count"
   ]
  },
  {
   "cell_type": "code",
   "execution_count": 8,
   "metadata": {},
   "outputs": [],
   "source": [
    "def algorithm_pipeline(X_train_data, X_test_data, y_train_data, y_test_data, \n",
    "                       model, param_grid, cv=5, scoring_fit='roc_auc',\n",
    "                       do_probabilities = False):\n",
    "    gs = GridSearchCV(\n",
    "        estimator=model,\n",
    "        param_grid=param_grid, \n",
    "#         cv=cv, \n",
    "        n_jobs=1, \n",
    "#         scoring=scoring_fit,\n",
    "#         verbose=2\n",
    "    )\n",
    "    \n",
    "    gs.fit(X_train_data, y_train_data)\n",
    "    \n",
    "    if do_probabilities:\n",
    "        pred = gs.predict_proba(X_test_data)\n",
    "    else:\n",
    "        pred = gs.predict(X_test_data)\n",
    "    \n",
    "    return gs, pred"
   ]
  },
  {
   "cell_type": "markdown",
   "metadata": {},
   "source": [
    "## fixed parameter results"
   ]
  },
  {
   "cell_type": "code",
   "execution_count": 9,
   "metadata": {
    "scrolled": true
   },
   "outputs": [
    {
     "data": {
      "text/plain": [
       "['103_2b2_Ar_mc_LittC2SE.txt',\n",
       " '103_2b2_Ar_mc_LittC2SE.wav',\n",
       " '106_2b1_Pr_mc_LittC2SE.txt',\n",
       " '106_2b1_Pr_mc_LittC2SE.wav',\n",
       " '121_1b1_Tc_sc_Meditron.txt',\n",
       " '121_1b1_Tc_sc_Meditron.wav',\n",
       " '133_2p4_Al_mc_AKGC417L.txt',\n",
       " '133_2p4_Al_mc_AKGC417L.wav',\n",
       " '134_2b3_Ar_mc_LittC2SE.txt',\n",
       " '134_2b3_Ar_mc_LittC2SE.wav',\n",
       " '141_1b2_Lr_mc_LittC2SE.txt',\n",
       " '141_1b2_Lr_mc_LittC2SE.wav',\n",
       " '143_1b1_Al_sc_Meditron.txt',\n",
       " '143_1b1_Al_sc_Meditron.wav',\n",
       " '144_1b1_Al_sc_Meditron.txt',\n",
       " '144_1b1_Al_sc_Meditron.wav',\n",
       " '151_2p2_Pl_mc_AKGC417L.txt',\n",
       " '151_2p2_Pl_mc_AKGC417L.wav',\n",
       " '152_1b1_Al_sc_Meditron.txt',\n",
       " '152_1b1_Al_sc_Meditron.wav',\n",
       " '153_1b1_Al_sc_Meditron.txt',\n",
       " '153_1b1_Al_sc_Meditron.wav',\n",
       " '159_1b1_Pr_sc_Meditron.txt',\n",
       " '159_1b1_Pr_sc_Meditron.wav',\n",
       " '160_1b2_Ar_mc_AKGC417L.txt',\n",
       " '160_1b2_Ar_mc_AKGC417L.wav',\n",
       " '171_1b1_Al_sc_Meditron.txt',\n",
       " '171_1b1_Al_sc_Meditron.wav',\n",
       " '178_1b2_Tc_mc_AKGC417L.txt',\n",
       " '178_1b2_Tc_mc_AKGC417L.wav',\n",
       " '183_1b1_Tc_sc_Meditron.txt',\n",
       " '183_1b1_Tc_sc_Meditron.wav',\n",
       " '184_1b1_Ar_sc_Meditron.txt',\n",
       " '184_1b1_Ar_sc_Meditron.wav',\n",
       " '192_2b1_Ar_mc_LittC2SE.txt',\n",
       " '192_2b1_Ar_mc_LittC2SE.wav',\n",
       " '193_1b2_Al_mc_AKGC417L.txt',\n",
       " '193_1b2_Al_mc_AKGC417L.wav',\n",
       " '193_1b2_Ar_mc_AKGC417L.txt',\n",
       " '193_1b2_Ar_mc_AKGC417L.wav',\n",
       " '193_1b2_Pl_mc_AKGC417L.txt',\n",
       " '193_1b2_Pl_mc_AKGC417L.wav',\n",
       " '193_1b2_Pr_mc_AKGC417L.txt',\n",
       " '193_1b2_Pr_mc_AKGC417L.wav',\n",
       " '193_1b2_Tc_mc_AKGC417L.txt',\n",
       " '193_1b2_Tc_mc_AKGC417L.wav',\n",
       " '193_1b4_Lr_mc_AKGC417L.txt',\n",
       " '193_1b4_Lr_mc_AKGC417L.wav',\n",
       " '194_1b1_Lr_sc_Meditron.txt',\n",
       " '194_1b1_Lr_sc_Meditron.wav',\n",
       " '194_1b1_Pr_sc_Meditron.txt',\n",
       " '194_1b1_Pr_sc_Meditron.wav',\n",
       " '198_1b5_Ar_mc_AKGC417L.txt',\n",
       " '198_1b5_Ar_mc_AKGC417L.wav',\n",
       " '198_1b5_Pr_mc_AKGC417L.txt',\n",
       " '198_1b5_Pr_mc_AKGC417L.wav',\n",
       " '202_1b1_Ar_sc_Meditron.txt',\n",
       " '202_1b1_Ar_sc_Meditron.wav',\n",
       " '203_1p2_Tc_mc_AKGC417L.txt',\n",
       " '203_1p2_Tc_mc_AKGC417L.wav',\n",
       " '204_2b5_Al_mc_AKGC417L.txt',\n",
       " '204_2b5_Al_mc_AKGC417L.wav',\n",
       " '209_1b1_Tc_sc_Meditron.txt',\n",
       " '209_1b1_Tc_sc_Meditron.wav',\n",
       " '214_1b1_Ar_sc_Meditron.txt',\n",
       " '214_1b1_Ar_sc_Meditron.wav',\n",
       " '217_1b1_Tc_sc_Meditron.txt',\n",
       " '217_1b1_Tc_sc_Meditron.wav',\n",
       " '221_2b1_Pl_mc_LittC2SE.txt',\n",
       " '221_2b1_Pl_mc_LittC2SE.wav',\n",
       " '221_2b2_Al_mc_LittC2SE.txt',\n",
       " '221_2b2_Al_mc_LittC2SE.wav',\n",
       " '221_2b2_Pl_mc_LittC2SE.txt',\n",
       " '221_2b2_Pl_mc_LittC2SE.wav',\n",
       " '221_2b3_Al_mc_LittC2SE.txt',\n",
       " '221_2b3_Al_mc_LittC2SE.wav',\n",
       " '224_1b2_Al_sc_Meditron.txt',\n",
       " '224_1b2_Al_sc_Meditron.wav',\n",
       " '225_1b1_Pl_sc_Meditron.txt',\n",
       " '225_1b1_Pl_sc_Meditron.wav',\n",
       " 'normal_littmann_2cycles.txt',\n",
       " 'normal_littmann_2cycles.wav',\n",
       " 'normal_sim_7cycles.txt',\n",
       " 'normal_sim_7cycles.wav',\n",
       " 'wheeze_clinical_train.txt',\n",
       " 'wheeze_clinical_train.wav',\n",
       " 'wheeze_expiratory_littmann_2cycles.txt',\n",
       " 'wheeze_expiratory_littmann_2cycles.wav',\n",
       " 'wheeze_low_pitch_littmann_2cycles.txt',\n",
       " 'wheeze_low_pitch_littmann_2cycles.wav',\n",
       " 'wheeze_monophonic_littmann_2cycles.txt',\n",
       " 'wheeze_monophonic_littmann_2cycles.wav',\n",
       " 'wheeze_sim_5cycles.txt',\n",
       " 'wheeze_sim_5cycles.wav']"
      ]
     },
     "execution_count": 9,
     "metadata": {},
     "output_type": "execute_result"
    }
   ],
   "source": [
    "file_path= 'data/train_with_ICBHI'\n",
    "file_list = os.listdir(file_path)\n",
    "ordered_file_list = natsort.natsorted(file_list)\n",
    "ordered_file_list"
   ]
  },
  {
   "cell_type": "code",
   "execution_count": 10,
   "metadata": {},
   "outputs": [],
   "source": [
    "# ordered_file_list = ordered_file_list[1:]\n",
    "# ordered_file_list"
   ]
  },
  {
   "cell_type": "code",
   "execution_count": 11,
   "metadata": {},
   "outputs": [
    {
     "data": {
      "text/plain": [
       "['normal_littmann_1cycle.txt',\n",
       " 'normal_littmann_1cycle.wav',\n",
       " 'normal_sim_2cycles.txt',\n",
       " 'normal_sim_2cycles.wav',\n",
       " 'wheeze_clinical_validation.txt',\n",
       " 'wheeze_clinical_validation.wav',\n",
       " 'wheeze_expiratory_littmann_1cycle.txt',\n",
       " 'wheeze_expiratory_littmann_1cycle.wav',\n",
       " 'wheeze_low_pitch_littmann_1cycle.txt',\n",
       " 'wheeze_low_pitch_littmann_1cycle.wav',\n",
       " 'wheeze_monophonic_littmann_1cycle.txt',\n",
       " 'wheeze_monophonic_littmann_1cycle.wav',\n",
       " 'wheeze_sim_2cycles.txt',\n",
       " 'wheeze_sim_2cycles.wav']"
      ]
     },
     "execution_count": 11,
     "metadata": {},
     "output_type": "execute_result"
    }
   ],
   "source": [
    "val_file_path= 'data/validation'\n",
    "\n",
    "val_file_list = os.listdir(val_file_path)\n",
    "val_ordered_file_list = natsort.natsorted(val_file_list)\n",
    "\n",
    "val_ordered_file_list"
   ]
  },
  {
   "cell_type": "code",
   "execution_count": 12,
   "metadata": {},
   "outputs": [],
   "source": [
    "# val_ordered_file_list = val_ordered_file_list[1:]\n",
    "# val_ordered_file_list"
   ]
  },
  {
   "cell_type": "code",
   "execution_count": 13,
   "metadata": {},
   "outputs": [],
   "source": [
    "n_mels = 128\n",
    "frame_sec = 0.025\n",
    "step_sec = 0.01\n",
    "label_ratio = 1\n",
    "\n",
    "X, y = make_train_dataset_keras(file_path, ordered_file_list, n_mels, frame_sec, step_sec, label_ratio)\n",
    "X_test, y_test = make_validation_dataset_keras(val_file_path, val_ordered_file_list, n_mels, frame_sec, step_sec, label_ratio)\n",
    "#%% Split data\n",
    "# X_train, X_test, y_train, y_test = train_test_split(X, y, shuffle=False)\n",
    "n_timesteps, n_features, n_outputs = X.shape[1], X.shape[2], y.shape[1]"
   ]
  },
  {
   "cell_type": "code",
   "execution_count": 14,
   "metadata": {},
   "outputs": [],
   "source": [
    "callback = tf.keras.callbacks.EarlyStopping(monitor='loss', patience=10, restore_best_weights=True)"
   ]
  },
  {
   "cell_type": "code",
   "execution_count": 15,
   "metadata": {},
   "outputs": [
    {
     "data": {
      "text/plain": [
       "(332720, 128, 1)"
      ]
     },
     "execution_count": 15,
     "metadata": {},
     "output_type": "execute_result"
    }
   ],
   "source": [
    "X.shape"
   ]
  },
  {
   "cell_type": "code",
   "execution_count": 22,
   "metadata": {},
   "outputs": [
    {
     "data": {
      "text/plain": [
       "0"
      ]
     },
     "execution_count": 22,
     "metadata": {},
     "output_type": "execute_result"
    }
   ],
   "source": [
    "np.argmax(y[0])"
   ]
  },
  {
   "cell_type": "code",
   "execution_count": 23,
   "metadata": {},
   "outputs": [],
   "source": [
    "break_number = 0\n",
    "normal_number = 0\n",
    "wheeze_number = 0\n",
    "\n",
    "for label in y:\n",
    "    if np.argmax(label) == 0:\n",
    "        break_number += 1\n",
    "        \n",
    "    elif np.argmax(label) == 1:\n",
    "        normal_number += 1\n",
    "\n",
    "    elif np.argmax(label) == 2:\n",
    "        wheeze_number += 1\n",
    "        \n",
    "    else:\n",
    "        'Other labelling, Error!'"
   ]
  },
  {
   "cell_type": "code",
   "execution_count": 25,
   "metadata": {},
   "outputs": [
    {
     "name": "stdout",
     "output_type": "stream",
     "text": [
      "255296\n",
      "44496\n",
      "32928\n",
      "332720\n"
     ]
    }
   ],
   "source": [
    "print(break_number)\n",
    "print(normal_number)\n",
    "print(wheeze_number)\n",
    "print(break_number + normal_number + wheeze_number)"
   ]
  },
  {
   "cell_type": "code",
   "execution_count": 16,
   "metadata": {},
   "outputs": [],
   "source": [
    "from sklearn.model_selection import train_test_split, cross_val_score, KFold\n",
    "\n",
    "kfold = KFold(n_splits=10, shuffle=True, random_state=0)"
   ]
  },
  {
   "cell_type": "markdown",
   "metadata": {},
   "source": [
    "## 1d cnn + bi-directional LSTM "
   ]
  },
  {
   "cell_type": "code",
   "execution_count": 26,
   "metadata": {},
   "outputs": [
    {
     "data": {
      "text/plain": [
       "0"
      ]
     },
     "execution_count": 26,
     "metadata": {},
     "output_type": "execute_result"
    }
   ],
   "source": [
    "for i in range(2):\n",
    "    gc.collect()\n",
    "gc.collect()"
   ]
  },
  {
   "cell_type": "code",
   "execution_count": 27,
   "metadata": {
    "scrolled": true
   },
   "outputs": [
    {
     "name": "stdout",
     "output_type": "stream",
     "text": [
      "(128, 1)\n",
      "  32/4025 [..............................] - ETA: 1:33"
     ]
    },
    {
     "ename": "UnknownError",
     "evalue": " Failed to get convolution algorithm. This is probably because cuDNN failed to initialize, so try looking to see if a warning log message was printed above.\n\t [[node sequential/conv1d/conv1d (defined at <ipython-input-27-e6f447f190cf>:32) ]] [Op:__inference_distributed_function_34963]\n\nFunction call stack:\ndistributed_function\n",
     "output_type": "error",
     "traceback": [
      "\u001b[0;31m\u001b[0m",
      "\u001b[0;31mUnknownError\u001b[0mTraceback (most recent call last)",
      "\u001b[0;32m<ipython-input-27-e6f447f190cf>\u001b[0m in \u001b[0;36m<module>\u001b[0;34m\u001b[0m\n\u001b[1;32m     32\u001b[0m         \u001b[0mhist\u001b[0m \u001b[0;34m=\u001b[0m \u001b[0mmodel\u001b[0m\u001b[0;34m.\u001b[0m\u001b[0mfit\u001b[0m\u001b[0;34m(\u001b[0m\u001b[0mtrain_x\u001b[0m\u001b[0;34m,\u001b[0m \u001b[0mtrain_y\u001b[0m\u001b[0;34m,\u001b[0m \u001b[0mvalidation_data\u001b[0m \u001b[0;34m=\u001b[0m \u001b[0;34m(\u001b[0m\u001b[0mval_x\u001b[0m\u001b[0;34m,\u001b[0m \u001b[0mval_y\u001b[0m\u001b[0;34m)\u001b[0m\u001b[0;34m,\u001b[0m \u001b[0mepochs\u001b[0m\u001b[0;34m=\u001b[0m\u001b[0mepochs\u001b[0m\u001b[0;34m,\u001b[0m \u001b[0mverbose\u001b[0m\u001b[0;34m=\u001b[0m\u001b[0;36m0\u001b[0m\u001b[0;34m,\u001b[0m \u001b[0mcallbacks\u001b[0m\u001b[0;34m=\u001b[0m\u001b[0;34m[\u001b[0m\u001b[0mcallback\u001b[0m\u001b[0;34m]\u001b[0m\u001b[0;34m)\u001b[0m\u001b[0;34m\u001b[0m\u001b[0;34m\u001b[0m\u001b[0m\n\u001b[1;32m     33\u001b[0m \u001b[0;34m\u001b[0m\u001b[0m\n\u001b[0;32m---> 34\u001b[0;31m     \u001b[0mscore\u001b[0m\u001b[0;34m,\u001b[0m \u001b[0macc\u001b[0m \u001b[0;34m=\u001b[0m \u001b[0mmodel\u001b[0m\u001b[0;34m.\u001b[0m\u001b[0mevaluate\u001b[0m\u001b[0;34m(\u001b[0m\u001b[0mX_test\u001b[0m\u001b[0;34m,\u001b[0m \u001b[0my_test\u001b[0m\u001b[0;34m)\u001b[0m\u001b[0;34m\u001b[0m\u001b[0;34m\u001b[0m\u001b[0m\n\u001b[0m\u001b[1;32m     35\u001b[0m \u001b[0;34m\u001b[0m\u001b[0m\n\u001b[1;32m     36\u001b[0m     \u001b[0mcv_model\u001b[0m\u001b[0;34m.\u001b[0m\u001b[0mappend\u001b[0m\u001b[0;34m(\u001b[0m\u001b[0mmodel\u001b[0m\u001b[0;34m)\u001b[0m\u001b[0;34m\u001b[0m\u001b[0;34m\u001b[0m\u001b[0m\n",
      "\u001b[0;32m/usr/local/lib/python3.6/dist-packages/tensorflow_core/python/keras/engine/training.py\u001b[0m in \u001b[0;36mevaluate\u001b[0;34m(self, x, y, batch_size, verbose, sample_weight, steps, callbacks, max_queue_size, workers, use_multiprocessing)\u001b[0m\n\u001b[1;32m    928\u001b[0m         \u001b[0mmax_queue_size\u001b[0m\u001b[0;34m=\u001b[0m\u001b[0mmax_queue_size\u001b[0m\u001b[0;34m,\u001b[0m\u001b[0;34m\u001b[0m\u001b[0;34m\u001b[0m\u001b[0m\n\u001b[1;32m    929\u001b[0m         \u001b[0mworkers\u001b[0m\u001b[0;34m=\u001b[0m\u001b[0mworkers\u001b[0m\u001b[0;34m,\u001b[0m\u001b[0;34m\u001b[0m\u001b[0;34m\u001b[0m\u001b[0m\n\u001b[0;32m--> 930\u001b[0;31m         use_multiprocessing=use_multiprocessing)\n\u001b[0m\u001b[1;32m    931\u001b[0m \u001b[0;34m\u001b[0m\u001b[0m\n\u001b[1;32m    932\u001b[0m   def predict(self,\n",
      "\u001b[0;32m/usr/local/lib/python3.6/dist-packages/tensorflow_core/python/keras/engine/training_v2.py\u001b[0m in \u001b[0;36mevaluate\u001b[0;34m(self, model, x, y, batch_size, verbose, sample_weight, steps, callbacks, max_queue_size, workers, use_multiprocessing, **kwargs)\u001b[0m\n\u001b[1;32m    488\u001b[0m         \u001b[0msample_weight\u001b[0m\u001b[0;34m=\u001b[0m\u001b[0msample_weight\u001b[0m\u001b[0;34m,\u001b[0m \u001b[0msteps\u001b[0m\u001b[0;34m=\u001b[0m\u001b[0msteps\u001b[0m\u001b[0;34m,\u001b[0m \u001b[0mcallbacks\u001b[0m\u001b[0;34m=\u001b[0m\u001b[0mcallbacks\u001b[0m\u001b[0;34m,\u001b[0m\u001b[0;34m\u001b[0m\u001b[0;34m\u001b[0m\u001b[0m\n\u001b[1;32m    489\u001b[0m         \u001b[0mmax_queue_size\u001b[0m\u001b[0;34m=\u001b[0m\u001b[0mmax_queue_size\u001b[0m\u001b[0;34m,\u001b[0m \u001b[0mworkers\u001b[0m\u001b[0;34m=\u001b[0m\u001b[0mworkers\u001b[0m\u001b[0;34m,\u001b[0m\u001b[0;34m\u001b[0m\u001b[0;34m\u001b[0m\u001b[0m\n\u001b[0;32m--> 490\u001b[0;31m         use_multiprocessing=use_multiprocessing, **kwargs)\n\u001b[0m\u001b[1;32m    491\u001b[0m \u001b[0;34m\u001b[0m\u001b[0m\n\u001b[1;32m    492\u001b[0m   def predict(self, model, x, batch_size=None, verbose=0, steps=None,\n",
      "\u001b[0;32m/usr/local/lib/python3.6/dist-packages/tensorflow_core/python/keras/engine/training_v2.py\u001b[0m in \u001b[0;36m_model_iteration\u001b[0;34m(self, model, mode, x, y, batch_size, verbose, sample_weight, steps, callbacks, max_queue_size, workers, use_multiprocessing, **kwargs)\u001b[0m\n\u001b[1;32m    473\u001b[0m               \u001b[0mmode\u001b[0m\u001b[0;34m=\u001b[0m\u001b[0mmode\u001b[0m\u001b[0;34m,\u001b[0m\u001b[0;34m\u001b[0m\u001b[0;34m\u001b[0m\u001b[0m\n\u001b[1;32m    474\u001b[0m               \u001b[0mtraining_context\u001b[0m\u001b[0;34m=\u001b[0m\u001b[0mtraining_context\u001b[0m\u001b[0;34m,\u001b[0m\u001b[0;34m\u001b[0m\u001b[0;34m\u001b[0m\u001b[0m\n\u001b[0;32m--> 475\u001b[0;31m               total_epochs=1)\n\u001b[0m\u001b[1;32m    476\u001b[0m           \u001b[0mcbks\u001b[0m\u001b[0;34m.\u001b[0m\u001b[0mmake_logs\u001b[0m\u001b[0;34m(\u001b[0m\u001b[0mmodel\u001b[0m\u001b[0;34m,\u001b[0m \u001b[0mepoch_logs\u001b[0m\u001b[0;34m,\u001b[0m \u001b[0mresult\u001b[0m\u001b[0;34m,\u001b[0m \u001b[0mmode\u001b[0m\u001b[0;34m)\u001b[0m\u001b[0;34m\u001b[0m\u001b[0;34m\u001b[0m\u001b[0m\n\u001b[1;32m    477\u001b[0m \u001b[0;34m\u001b[0m\u001b[0m\n",
      "\u001b[0;32m/usr/local/lib/python3.6/dist-packages/tensorflow_core/python/keras/engine/training_v2.py\u001b[0m in \u001b[0;36mrun_one_epoch\u001b[0;34m(model, iterator, execution_function, dataset_size, batch_size, strategy, steps_per_epoch, num_samples, mode, training_context, total_epochs)\u001b[0m\n\u001b[1;32m    126\u001b[0m         step=step, mode=mode, size=current_batch_size) as batch_logs:\n\u001b[1;32m    127\u001b[0m       \u001b[0;32mtry\u001b[0m\u001b[0;34m:\u001b[0m\u001b[0;34m\u001b[0m\u001b[0;34m\u001b[0m\u001b[0m\n\u001b[0;32m--> 128\u001b[0;31m         \u001b[0mbatch_outs\u001b[0m \u001b[0;34m=\u001b[0m \u001b[0mexecution_function\u001b[0m\u001b[0;34m(\u001b[0m\u001b[0miterator\u001b[0m\u001b[0;34m)\u001b[0m\u001b[0;34m\u001b[0m\u001b[0;34m\u001b[0m\u001b[0m\n\u001b[0m\u001b[1;32m    129\u001b[0m       \u001b[0;32mexcept\u001b[0m \u001b[0;34m(\u001b[0m\u001b[0mStopIteration\u001b[0m\u001b[0;34m,\u001b[0m \u001b[0merrors\u001b[0m\u001b[0;34m.\u001b[0m\u001b[0mOutOfRangeError\u001b[0m\u001b[0;34m)\u001b[0m\u001b[0;34m:\u001b[0m\u001b[0;34m\u001b[0m\u001b[0;34m\u001b[0m\u001b[0m\n\u001b[1;32m    130\u001b[0m         \u001b[0;31m# TODO(kaftan): File bug about tf function and errors.OutOfRangeError?\u001b[0m\u001b[0;34m\u001b[0m\u001b[0;34m\u001b[0m\u001b[0;34m\u001b[0m\u001b[0m\n",
      "\u001b[0;32m/usr/local/lib/python3.6/dist-packages/tensorflow_core/python/keras/engine/training_v2_utils.py\u001b[0m in \u001b[0;36mexecution_function\u001b[0;34m(input_fn)\u001b[0m\n\u001b[1;32m     96\u001b[0m     \u001b[0;31m# `numpy` translates Tensors to values in Eager mode.\u001b[0m\u001b[0;34m\u001b[0m\u001b[0;34m\u001b[0m\u001b[0;34m\u001b[0m\u001b[0m\n\u001b[1;32m     97\u001b[0m     return nest.map_structure(_non_none_constant_value,\n\u001b[0;32m---> 98\u001b[0;31m                               distributed_function(input_fn))\n\u001b[0m\u001b[1;32m     99\u001b[0m \u001b[0;34m\u001b[0m\u001b[0m\n\u001b[1;32m    100\u001b[0m   \u001b[0;32mreturn\u001b[0m \u001b[0mexecution_function\u001b[0m\u001b[0;34m\u001b[0m\u001b[0;34m\u001b[0m\u001b[0m\n",
      "\u001b[0;32m/usr/local/lib/python3.6/dist-packages/tensorflow_core/python/eager/def_function.py\u001b[0m in \u001b[0;36m__call__\u001b[0;34m(self, *args, **kwds)\u001b[0m\n\u001b[1;32m    566\u001b[0m         \u001b[0mxla_context\u001b[0m\u001b[0;34m.\u001b[0m\u001b[0mExit\u001b[0m\u001b[0;34m(\u001b[0m\u001b[0;34m)\u001b[0m\u001b[0;34m\u001b[0m\u001b[0;34m\u001b[0m\u001b[0m\n\u001b[1;32m    567\u001b[0m     \u001b[0;32melse\u001b[0m\u001b[0;34m:\u001b[0m\u001b[0;34m\u001b[0m\u001b[0;34m\u001b[0m\u001b[0m\n\u001b[0;32m--> 568\u001b[0;31m       \u001b[0mresult\u001b[0m \u001b[0;34m=\u001b[0m \u001b[0mself\u001b[0m\u001b[0;34m.\u001b[0m\u001b[0m_call\u001b[0m\u001b[0;34m(\u001b[0m\u001b[0;34m*\u001b[0m\u001b[0margs\u001b[0m\u001b[0;34m,\u001b[0m \u001b[0;34m**\u001b[0m\u001b[0mkwds\u001b[0m\u001b[0;34m)\u001b[0m\u001b[0;34m\u001b[0m\u001b[0;34m\u001b[0m\u001b[0m\n\u001b[0m\u001b[1;32m    569\u001b[0m \u001b[0;34m\u001b[0m\u001b[0m\n\u001b[1;32m    570\u001b[0m     \u001b[0;32mif\u001b[0m \u001b[0mtracing_count\u001b[0m \u001b[0;34m==\u001b[0m \u001b[0mself\u001b[0m\u001b[0;34m.\u001b[0m\u001b[0m_get_tracing_count\u001b[0m\u001b[0;34m(\u001b[0m\u001b[0;34m)\u001b[0m\u001b[0;34m:\u001b[0m\u001b[0;34m\u001b[0m\u001b[0;34m\u001b[0m\u001b[0m\n",
      "\u001b[0;32m/usr/local/lib/python3.6/dist-packages/tensorflow_core/python/eager/def_function.py\u001b[0m in \u001b[0;36m_call\u001b[0;34m(self, *args, **kwds)\u001b[0m\n\u001b[1;32m    604\u001b[0m       \u001b[0;31m# In this case we have not created variables on the first call. So we can\u001b[0m\u001b[0;34m\u001b[0m\u001b[0;34m\u001b[0m\u001b[0;34m\u001b[0m\u001b[0m\n\u001b[1;32m    605\u001b[0m       \u001b[0;31m# run the first trace but we should fail if variables are created.\u001b[0m\u001b[0;34m\u001b[0m\u001b[0;34m\u001b[0m\u001b[0;34m\u001b[0m\u001b[0m\n\u001b[0;32m--> 606\u001b[0;31m       \u001b[0mresults\u001b[0m \u001b[0;34m=\u001b[0m \u001b[0mself\u001b[0m\u001b[0;34m.\u001b[0m\u001b[0m_stateful_fn\u001b[0m\u001b[0;34m(\u001b[0m\u001b[0;34m*\u001b[0m\u001b[0margs\u001b[0m\u001b[0;34m,\u001b[0m \u001b[0;34m**\u001b[0m\u001b[0mkwds\u001b[0m\u001b[0;34m)\u001b[0m\u001b[0;34m\u001b[0m\u001b[0;34m\u001b[0m\u001b[0m\n\u001b[0m\u001b[1;32m    607\u001b[0m       \u001b[0;32mif\u001b[0m \u001b[0mself\u001b[0m\u001b[0;34m.\u001b[0m\u001b[0m_created_variables\u001b[0m\u001b[0;34m:\u001b[0m\u001b[0;34m\u001b[0m\u001b[0;34m\u001b[0m\u001b[0m\n\u001b[1;32m    608\u001b[0m         raise ValueError(\"Creating variables on a non-first call to a function\"\n",
      "\u001b[0;32m/usr/local/lib/python3.6/dist-packages/tensorflow_core/python/eager/function.py\u001b[0m in \u001b[0;36m__call__\u001b[0;34m(self, *args, **kwargs)\u001b[0m\n\u001b[1;32m   2361\u001b[0m     \u001b[0;32mwith\u001b[0m \u001b[0mself\u001b[0m\u001b[0;34m.\u001b[0m\u001b[0m_lock\u001b[0m\u001b[0;34m:\u001b[0m\u001b[0;34m\u001b[0m\u001b[0;34m\u001b[0m\u001b[0m\n\u001b[1;32m   2362\u001b[0m       \u001b[0mgraph_function\u001b[0m\u001b[0;34m,\u001b[0m \u001b[0margs\u001b[0m\u001b[0;34m,\u001b[0m \u001b[0mkwargs\u001b[0m \u001b[0;34m=\u001b[0m \u001b[0mself\u001b[0m\u001b[0;34m.\u001b[0m\u001b[0m_maybe_define_function\u001b[0m\u001b[0;34m(\u001b[0m\u001b[0margs\u001b[0m\u001b[0;34m,\u001b[0m \u001b[0mkwargs\u001b[0m\u001b[0;34m)\u001b[0m\u001b[0;34m\u001b[0m\u001b[0;34m\u001b[0m\u001b[0m\n\u001b[0;32m-> 2363\u001b[0;31m     \u001b[0;32mreturn\u001b[0m \u001b[0mgraph_function\u001b[0m\u001b[0;34m.\u001b[0m\u001b[0m_filtered_call\u001b[0m\u001b[0;34m(\u001b[0m\u001b[0margs\u001b[0m\u001b[0;34m,\u001b[0m \u001b[0mkwargs\u001b[0m\u001b[0;34m)\u001b[0m  \u001b[0;31m# pylint: disable=protected-access\u001b[0m\u001b[0;34m\u001b[0m\u001b[0;34m\u001b[0m\u001b[0m\n\u001b[0m\u001b[1;32m   2364\u001b[0m \u001b[0;34m\u001b[0m\u001b[0m\n\u001b[1;32m   2365\u001b[0m   \u001b[0;34m@\u001b[0m\u001b[0mproperty\u001b[0m\u001b[0;34m\u001b[0m\u001b[0;34m\u001b[0m\u001b[0m\n",
      "\u001b[0;32m/usr/local/lib/python3.6/dist-packages/tensorflow_core/python/eager/function.py\u001b[0m in \u001b[0;36m_filtered_call\u001b[0;34m(self, args, kwargs)\u001b[0m\n\u001b[1;32m   1609\u001b[0m          if isinstance(t, (ops.Tensor,\n\u001b[1;32m   1610\u001b[0m                            resource_variable_ops.BaseResourceVariable))),\n\u001b[0;32m-> 1611\u001b[0;31m         self.captured_inputs)\n\u001b[0m\u001b[1;32m   1612\u001b[0m \u001b[0;34m\u001b[0m\u001b[0m\n\u001b[1;32m   1613\u001b[0m   \u001b[0;32mdef\u001b[0m \u001b[0m_call_flat\u001b[0m\u001b[0;34m(\u001b[0m\u001b[0mself\u001b[0m\u001b[0;34m,\u001b[0m \u001b[0margs\u001b[0m\u001b[0;34m,\u001b[0m \u001b[0mcaptured_inputs\u001b[0m\u001b[0;34m,\u001b[0m \u001b[0mcancellation_manager\u001b[0m\u001b[0;34m=\u001b[0m\u001b[0;32mNone\u001b[0m\u001b[0;34m)\u001b[0m\u001b[0;34m:\u001b[0m\u001b[0;34m\u001b[0m\u001b[0;34m\u001b[0m\u001b[0m\n",
      "\u001b[0;32m/usr/local/lib/python3.6/dist-packages/tensorflow_core/python/eager/function.py\u001b[0m in \u001b[0;36m_call_flat\u001b[0;34m(self, args, captured_inputs, cancellation_manager)\u001b[0m\n\u001b[1;32m   1690\u001b[0m       \u001b[0;31m# No tape is watching; skip to running the function.\u001b[0m\u001b[0;34m\u001b[0m\u001b[0;34m\u001b[0m\u001b[0;34m\u001b[0m\u001b[0m\n\u001b[1;32m   1691\u001b[0m       return self._build_call_outputs(self._inference_function.call(\n\u001b[0;32m-> 1692\u001b[0;31m           ctx, args, cancellation_manager=cancellation_manager))\n\u001b[0m\u001b[1;32m   1693\u001b[0m     forward_backward = self._select_forward_and_backward_functions(\n\u001b[1;32m   1694\u001b[0m         \u001b[0margs\u001b[0m\u001b[0;34m,\u001b[0m\u001b[0;34m\u001b[0m\u001b[0;34m\u001b[0m\u001b[0m\n",
      "\u001b[0;32m/usr/local/lib/python3.6/dist-packages/tensorflow_core/python/eager/function.py\u001b[0m in \u001b[0;36mcall\u001b[0;34m(self, ctx, args, cancellation_manager)\u001b[0m\n\u001b[1;32m    543\u001b[0m               \u001b[0minputs\u001b[0m\u001b[0;34m=\u001b[0m\u001b[0margs\u001b[0m\u001b[0;34m,\u001b[0m\u001b[0;34m\u001b[0m\u001b[0;34m\u001b[0m\u001b[0m\n\u001b[1;32m    544\u001b[0m               \u001b[0mattrs\u001b[0m\u001b[0;34m=\u001b[0m\u001b[0;34m(\u001b[0m\u001b[0;34m\"executor_type\"\u001b[0m\u001b[0;34m,\u001b[0m \u001b[0mexecutor_type\u001b[0m\u001b[0;34m,\u001b[0m \u001b[0;34m\"config_proto\"\u001b[0m\u001b[0;34m,\u001b[0m \u001b[0mconfig\u001b[0m\u001b[0;34m)\u001b[0m\u001b[0;34m,\u001b[0m\u001b[0;34m\u001b[0m\u001b[0;34m\u001b[0m\u001b[0m\n\u001b[0;32m--> 545\u001b[0;31m               ctx=ctx)\n\u001b[0m\u001b[1;32m    546\u001b[0m         \u001b[0;32melse\u001b[0m\u001b[0;34m:\u001b[0m\u001b[0;34m\u001b[0m\u001b[0;34m\u001b[0m\u001b[0m\n\u001b[1;32m    547\u001b[0m           outputs = execute.execute_with_cancellation(\n",
      "\u001b[0;32m/usr/local/lib/python3.6/dist-packages/tensorflow_core/python/eager/execute.py\u001b[0m in \u001b[0;36mquick_execute\u001b[0;34m(op_name, num_outputs, inputs, attrs, ctx, name)\u001b[0m\n\u001b[1;32m     65\u001b[0m     \u001b[0;32melse\u001b[0m\u001b[0;34m:\u001b[0m\u001b[0;34m\u001b[0m\u001b[0;34m\u001b[0m\u001b[0m\n\u001b[1;32m     66\u001b[0m       \u001b[0mmessage\u001b[0m \u001b[0;34m=\u001b[0m \u001b[0me\u001b[0m\u001b[0;34m.\u001b[0m\u001b[0mmessage\u001b[0m\u001b[0;34m\u001b[0m\u001b[0;34m\u001b[0m\u001b[0m\n\u001b[0;32m---> 67\u001b[0;31m     \u001b[0msix\u001b[0m\u001b[0;34m.\u001b[0m\u001b[0mraise_from\u001b[0m\u001b[0;34m(\u001b[0m\u001b[0mcore\u001b[0m\u001b[0;34m.\u001b[0m\u001b[0m_status_to_exception\u001b[0m\u001b[0;34m(\u001b[0m\u001b[0me\u001b[0m\u001b[0;34m.\u001b[0m\u001b[0mcode\u001b[0m\u001b[0;34m,\u001b[0m \u001b[0mmessage\u001b[0m\u001b[0;34m)\u001b[0m\u001b[0;34m,\u001b[0m \u001b[0;32mNone\u001b[0m\u001b[0;34m)\u001b[0m\u001b[0;34m\u001b[0m\u001b[0;34m\u001b[0m\u001b[0m\n\u001b[0m\u001b[1;32m     68\u001b[0m   \u001b[0;32mexcept\u001b[0m \u001b[0mTypeError\u001b[0m \u001b[0;32mas\u001b[0m \u001b[0me\u001b[0m\u001b[0;34m:\u001b[0m\u001b[0;34m\u001b[0m\u001b[0;34m\u001b[0m\u001b[0m\n\u001b[1;32m     69\u001b[0m     keras_symbolic_tensors = [\n",
      "\u001b[0;32m/usr/local/lib/python3.6/dist-packages/six.py\u001b[0m in \u001b[0;36mraise_from\u001b[0;34m(value, from_value)\u001b[0m\n",
      "\u001b[0;31mUnknownError\u001b[0m:  Failed to get convolution algorithm. This is probably because cuDNN failed to initialize, so try looking to see if a warning log message was printed above.\n\t [[node sequential/conv1d/conv1d (defined at <ipython-input-27-e6f447f190cf>:32) ]] [Op:__inference_distributed_function_34963]\n\nFunction call stack:\ndistributed_function\n"
     ]
    }
   ],
   "source": [
    "cv_model = []\n",
    "cv_score = []\n",
    "cv_acc = []\n",
    "fold_number = 0\n",
    "\n",
    "epochs = 200\n",
    "learning_rate = 0.001\n",
    "print((n_timesteps,n_features))\n",
    "\n",
    "for train_index, val_index in kfold.split(X):\n",
    "    \n",
    "    fold_number += 1\n",
    "    \n",
    "    model = Sequential()\n",
    "    model.add(Conv1D(filters=32, kernel_size=16, activation='relu', input_shape=(n_timesteps,n_features)))\n",
    "    model.add(Conv1D(filters=32, kernel_size=16, activation='relu'))\n",
    "    model.add(MaxPooling1D(pool_size=2))\n",
    "    model.add(Dropout(0.2))\n",
    "    model.add(Bidirectional(LSTM(256)))\n",
    "    model.add(Dense(128, activation='relu'))\n",
    "    model.add(Dropout(0.2))\n",
    "    model.add(Dense(3, activation='softmax'))\n",
    "    \n",
    "    model.compile(loss='categorical_crossentropy', \n",
    "                  optimizer=keras.optimizers.Adam(learning_rate = learning_rate), metrics=['accuracy'])\n",
    "\n",
    "    \n",
    "    train_x, val_x = X[train_index], X[val_index]\n",
    "    train_y, val_y = y[train_index], y[val_index]\n",
    "    \n",
    "    with tf.device('/device:GPU:2'):\n",
    "        hist = model.fit(train_x, train_y, validation_data = (val_x, val_y), epochs=epochs, verbose=0, callbacks=[callback])\n",
    "    \n",
    "    score, acc = model.evaluate(X_test, y_test)\n",
    "    \n",
    "    cv_model.append(model)\n",
    "    cv_score.append(score)\n",
    "    cv_acc.append(acc)\n",
    "    \n",
    "    print(\"fold number:\", fold_number, 'score:', score, 'acc:', acc) "
   ]
  },
  {
   "cell_type": "code",
   "execution_count": 21,
   "metadata": {},
   "outputs": [
    {
     "name": "stdout",
     "output_type": "stream",
     "text": [
      "9 3\n"
     ]
    }
   ],
   "source": [
    "print(np.argmax(cv_score), np.argmax(cv_acc))"
   ]
  },
  {
   "cell_type": "code",
   "execution_count": 24,
   "metadata": {},
   "outputs": [
    {
     "name": "stdout",
     "output_type": "stream",
     "text": [
      "[0.32544938033411963, 0.29250400875666127, 0.30816646019864524, 0.2832925660343644, 0.27753075668530436, 0.2937719948839697, 0.3621678033637704, 0.2829067104666129, 0.33110857728105153, 1.5770624274607772]\n",
      "[0.8832298, 0.88720495, 0.88496894, 0.9048447, 0.89068323, 0.89192545, 0.9016149, 0.90086955, 0.88819873, 0.6121739]\n"
     ]
    }
   ],
   "source": [
    "print(cv_score)\n",
    "print(cv_acc)"
   ]
  },
  {
   "cell_type": "code",
   "execution_count": 37,
   "metadata": {},
   "outputs": [
    {
     "name": "stdout",
     "output_type": "stream",
     "text": [
      "9\n",
      "4025/4025 [==============================] - 1s 124us/sample - loss: 1.5771 - accuracy: 0.6122\n",
      "[1.5770624274607772, 0.6121739]\n",
      "acc: 0.6121739130434782\n",
      "f1: 0.4666076149043031\n",
      "roc_auc: 0.5397421557011415\n",
      "[[1.        0.        0.       ]\n",
      " [0.9915683 0.0084317 0.       ]\n",
      " [0.9938335 0.0061665 0.       ]]\n"
     ]
    }
   ],
   "source": [
    "best_index = np.argmax(cv_score)\n",
    "print(best_index)\n",
    "print(cv_model[best_index].evaluate(X_test, y_test))\n",
    "\n",
    "y_pred = cv_model[best_index].predict(X_test)\n",
    "\n",
    "acc =accuracy_score(y_test.argmax(axis=1),y_pred.argmax(axis=1))\n",
    "f1=f1_score(y_test.argmax(axis=1),y_pred.argmax(axis=1),average='weighted')\n",
    "\n",
    "roc_auc = roc_auc_score(y_test, y_pred, multi_class='ovr')\n",
    "cm = confusion_matrix(y_test.argmax(axis=1), y_pred.argmax(axis=1), normalize='true')\n",
    "\n",
    "print('acc:', acc)\n",
    "print('f1:', f1)\n",
    "print('roc_auc:', roc_auc)\n",
    "print(cm)"
   ]
  },
  {
   "cell_type": "code",
   "execution_count": 38,
   "metadata": {},
   "outputs": [
    {
     "name": "stdout",
     "output_type": "stream",
     "text": [
      "3\n",
      "4025/4025 [==============================] - 1s 125us/sample - loss: 0.2833 - accuracy: 0.9048\n",
      "[0.2832925660343644, 0.9048447]\n",
      "acc: 0.9048447204968945\n",
      "f1: 0.9039487974709863\n",
      "roc_auc: 0.9725174799035443\n",
      "[[0.9548597  0.00284669 0.04229362]\n",
      " [0.11804384 0.84317032 0.03878583]\n",
      " [0.12024666 0.06372045 0.81603289]]\n"
     ]
    }
   ],
   "source": [
    "best_index = np.argmax(cv_acc)\n",
    "print(best_index)\n",
    "print(cv_model[best_index].evaluate(X_test, y_test))\n",
    "\n",
    "y_pred = cv_model[best_index].predict(X_test)\n",
    "\n",
    "acc =accuracy_score(y_test.argmax(axis=1),y_pred.argmax(axis=1))\n",
    "f1=f1_score(y_test.argmax(axis=1),y_pred.argmax(axis=1),average='weighted')\n",
    "\n",
    "roc_auc = roc_auc_score(y_test, y_pred, multi_class='ovr')\n",
    "cm = confusion_matrix(y_test.argmax(axis=1), y_pred.argmax(axis=1), normalize='true')\n",
    "\n",
    "print('acc:', acc)\n",
    "print('f1:', f1)\n",
    "print('roc_auc:', roc_auc)\n",
    "print(cm)"
   ]
  },
  {
   "cell_type": "code",
   "execution_count": 39,
   "metadata": {},
   "outputs": [
    {
     "name": "stdout",
     "output_type": "stream",
     "text": [
      "WARNING:tensorflow:From /usr/local/lib/python3.6/dist-packages/tensorflow_core/python/ops/resource_variable_ops.py:1786: calling BaseResourceVariable.__init__ (from tensorflow.python.ops.resource_variable_ops) with constraint is deprecated and will be removed in a future version.\n",
      "Instructions for updating:\n",
      "If using Keras pass *_constraint arguments to layers.\n",
      "INFO:tensorflow:Assets written to: saved_model/230730_1dCNN_bLSTM_larger_dataset_with_ICBHI_ref_npmax_k_fold_10_train_with_9_best_acc/assets\n"
     ]
    }
   ],
   "source": [
    "cv_model[best_index].save('saved_model/230730_1dCNN_bLSTM_larger_dataset_with_ICBHI_ref_npmax_k_fold_10_train_with_9_best_acc_shuffle_True')\n",
    "cv_model[best_index].save('saved_model/230730_1dCNN_bLSTM_larger_dataset_with_ICBHI_ref_npmax_k_fold_10_train_with_9_best_acc_shuffle_True.h5')"
   ]
  },
  {
   "cell_type": "markdown",
   "metadata": {},
   "source": [
    "## Test for wheeze counter "
   ]
  },
  {
   "cell_type": "code",
   "execution_count": 40,
   "metadata": {},
   "outputs": [],
   "source": [
    "n_mels = 128\n",
    "frame_sec = 0.025\n",
    "step_sec = 0.01\n",
    "label_ratio = 1"
   ]
  },
  {
   "cell_type": "code",
   "execution_count": 14,
   "metadata": {},
   "outputs": [
    {
     "data": {
      "text/plain": [
       "['1_clinical(s1_1)_JJY_extrcted.txt',\n",
       " '1_clinical(s1_1)_JJY_extrcted.wav',\n",
       " '2_clinical(202109301404_1_f)JJY final_extracted.txt',\n",
       " '2_clinical(202109301404_1_f)JJY final_extracted.wav',\n",
       " '2_clinical(202109301404_1_f)JJY final_extracted_2.txt',\n",
       " '2_clinical(202109301404_1_f)JJY final_extracted_2.wav',\n",
       " 'extracted_clinical.txt',\n",
       " 'extracted_clinical.wav',\n",
       " 'infant_wheeze_test3-4.txt',\n",
       " 'infant_wheeze_test3-4.wav']"
      ]
     },
     "execution_count": 14,
     "metadata": {},
     "output_type": "execute_result"
    }
   ],
   "source": [
    "test_file_path= 'data/test'\n",
    "test_file_list = os.listdir(test_file_path)\n",
    "ordered_test_file_list = natsort.natsorted(test_file_list)\n",
    "ordered_test_file_list"
   ]
  },
  {
   "cell_type": "code",
   "execution_count": 15,
   "metadata": {},
   "outputs": [],
   "source": [
    "index = 1\n",
    "sample_rate = librosa.get_samplerate(test_file_path + '/' + ordered_test_file_list[index])\n",
    "t1, t1_sr = librosa.load(test_file_path + '/' + ordered_test_file_list[index], sr = sample_rate)\n",
    "t1_label = pd.read_csv(test_file_path + '/' + ordered_test_file_list[index-1], sep='\\t', header=None)\n",
    "\n",
    "index = 3\n",
    "sample_rate = librosa.get_samplerate(test_file_path + '/' + ordered_test_file_list[index])\n",
    "t2, t2_sr = librosa.load(test_file_path + '/' + ordered_test_file_list[index], sr = sample_rate)\n",
    "t2_label = pd.read_csv(test_file_path + '/' + ordered_test_file_list[index-1], sep='\\t', header=None)\n",
    "\n",
    "index = 5\n",
    "sample_rate = librosa.get_samplerate(test_file_path + '/' + ordered_test_file_list[index])\n",
    "t3, t3_sr = librosa.load(test_file_path + '/' + ordered_test_file_list[index], sr = sample_rate)\n",
    "t3_label = pd.read_csv(test_file_path + '/' + ordered_test_file_list[index-1], sep='\\t', header=None)\n",
    "\n",
    "index = 7\n",
    "sample_rate = librosa.get_samplerate(test_file_path + '/' + ordered_test_file_list[index])\n",
    "t4, t4_sr = librosa.load(test_file_path + '/' + ordered_test_file_list[index], sr = sample_rate)\n",
    "t4_label = pd.read_csv(test_file_path + '/' + ordered_test_file_list[index-1], sep='\\t', header=None)\n",
    "\n",
    "index = 9\n",
    "sample_rate = librosa.get_samplerate(test_file_path + '/' + ordered_test_file_list[index])\n",
    "t5, t5_sr = librosa.load(test_file_path + '/' + ordered_test_file_list[index], sr = sample_rate)\n",
    "t5_label = pd.read_csv(test_file_path + '/' + ordered_test_file_list[index-1], sep='\\t', header=None)"
   ]
  },
  {
   "cell_type": "code",
   "execution_count": 16,
   "metadata": {},
   "outputs": [
    {
     "data": {
      "application/vnd.jupyter.widget-view+json": {
       "model_id": "0f5ee67f2c354b6db48145ce49687dbc",
       "version_major": 2,
       "version_minor": 0
      },
      "text/plain": [
       "HBox(children=(HTML(value=''), FloatProgress(value=0.0, max=4.0), HTML(value='')))"
      ]
     },
     "metadata": {},
     "output_type": "display_data"
    },
    {
     "name": "stdout",
     "output_type": "stream",
     "text": [
      "\n"
     ]
    },
    {
     "data": {
      "application/vnd.jupyter.widget-view+json": {
       "model_id": "8a69c4d740bd4765be40dc345f134665",
       "version_major": 2,
       "version_minor": 0
      },
      "text/plain": [
       "HBox(children=(HTML(value=''), FloatProgress(value=0.0, max=4.0), HTML(value='')))"
      ]
     },
     "metadata": {},
     "output_type": "display_data"
    },
    {
     "name": "stdout",
     "output_type": "stream",
     "text": [
      "\n"
     ]
    },
    {
     "data": {
      "application/vnd.jupyter.widget-view+json": {
       "model_id": "148e4911f3f04e21a88c7c7cfcdb48cf",
       "version_major": 2,
       "version_minor": 0
      },
      "text/plain": [
       "HBox(children=(HTML(value=''), FloatProgress(value=0.0, max=4.0), HTML(value='')))"
      ]
     },
     "metadata": {},
     "output_type": "display_data"
    },
    {
     "name": "stdout",
     "output_type": "stream",
     "text": [
      "\n"
     ]
    },
    {
     "data": {
      "application/vnd.jupyter.widget-view+json": {
       "model_id": "a5c55c329bbb4cd682e2306ecfb644a4",
       "version_major": 2,
       "version_minor": 0
      },
      "text/plain": [
       "HBox(children=(HTML(value=''), FloatProgress(value=0.0, max=2.0), HTML(value='')))"
      ]
     },
     "metadata": {},
     "output_type": "display_data"
    },
    {
     "name": "stdout",
     "output_type": "stream",
     "text": [
      "\n"
     ]
    },
    {
     "data": {
      "application/vnd.jupyter.widget-view+json": {
       "model_id": "ca54550763a54900aa5756bf30a44c86",
       "version_major": 2,
       "version_minor": 0
      },
      "text/plain": [
       "HBox(children=(HTML(value=''), FloatProgress(value=0.0, max=2.0), HTML(value='')))"
      ]
     },
     "metadata": {},
     "output_type": "display_data"
    },
    {
     "name": "stdout",
     "output_type": "stream",
     "text": [
      "\n"
     ]
    }
   ],
   "source": [
    "t1_x, t1_y = make_test_dataset_keras(t1, t1_label, n_mels, frame_sec, step_sec)\n",
    "t2_x, t2_y = make_test_dataset_keras(t2, t2_label, n_mels, frame_sec, step_sec)\n",
    "t3_x, t3_y = make_test_dataset_keras(t3, t3_label, n_mels, frame_sec, step_sec)\n",
    "t4_x, t4_y = make_test_dataset_keras(t4[:60*16000], t4_label, n_mels, frame_sec, step_sec)\n",
    "t5_x, t5_y = make_test_dataset_keras(t5, t5_label, n_mels, frame_sec, step_sec)"
   ]
  },
  {
   "cell_type": "code",
   "execution_count": 17,
   "metadata": {},
   "outputs": [],
   "source": [
    "# # 압축파일 풀기\n",
    "# !unzip saved_model/230729_1dCNN_LSTM.zip -d saved_model/230729_1dCNN_LSTM"
   ]
  },
  {
   "cell_type": "code",
   "execution_count": 22,
   "metadata": {},
   "outputs": [],
   "source": [
    "# 1dCNN bLSTM\n",
    "model = load_model('saved_model/230730_1dCNN_bLSTM_larger_dataset_with_ICBHI_ref_npmax')"
   ]
  },
  {
   "cell_type": "code",
   "execution_count": 23,
   "metadata": {},
   "outputs": [],
   "source": [
    "y_pred = model_loaded.predict(t1_x)\n",
    "predict=[]\n",
    "for i in  y_pred:\n",
    "    predict.append(np.argmax(i))\n",
    "\n",
    "predict = np.array(predict)\n",
    "# y_pred=tf.keras.utils.to_categorical(predict)"
   ]
  },
  {
   "cell_type": "code",
   "execution_count": 24,
   "metadata": {},
   "outputs": [
    {
     "name": "stdout",
     "output_type": "stream",
     "text": [
      "acc: 0.9891328956305184\n",
      "f1: 0.9919849367591291\n",
      "roc_auc: 0.49583869259287283\n",
      "[[13107    18    92]\n",
      " [    0     0     0]\n",
      " [   34     0     0]]\n"
     ]
    }
   ],
   "source": [
    "acc = accuracy_score(t1_y, predict)\n",
    "f1 = f1_score(t1_y, predict, average='weighted')\n",
    "roc_auc = roc_auc_score(t1_y, predict)\n",
    "cm = confusion_matrix(t1_y, predict)\n",
    "\n",
    "print('acc:', acc)\n",
    "print('f1:', f1)\n",
    "print('roc_auc:', roc_auc)\n",
    "print(cm)"
   ]
  },
  {
   "cell_type": "code",
   "execution_count": 25,
   "metadata": {},
   "outputs": [],
   "source": [
    "y_pred = model.predict(t1_x)\n",
    "predict=[]\n",
    "for i in  y_pred:\n",
    "    predict.append(np.argmax(i))\n",
    "\n",
    "predict = np.array(predict)\n",
    "# y_pred=tf.keras.utils.to_categorical(predict)"
   ]
  },
  {
   "cell_type": "code",
   "execution_count": 26,
   "metadata": {},
   "outputs": [
    {
     "name": "stdout",
     "output_type": "stream",
     "text": [
      "acc: 0.9891328956305184\n",
      "f1: 0.9919849367591291\n",
      "roc_auc: 0.49583869259287283\n",
      "[[13107    18    92]\n",
      " [    0     0     0]\n",
      " [   34     0     0]]\n"
     ]
    }
   ],
   "source": [
    "acc = accuracy_score(t1_y, predict)\n",
    "f1 = f1_score(t1_y, predict, average='weighted')\n",
    "roc_auc = roc_auc_score(t1_y, predict)\n",
    "cm = confusion_matrix(t1_y, predict)\n",
    "\n",
    "print('acc:', acc)\n",
    "print('f1:', f1)\n",
    "print('roc_auc:', roc_auc)\n",
    "print(cm)"
   ]
  },
  {
   "cell_type": "code",
   "execution_count": 94,
   "metadata": {},
   "outputs": [
    {
     "name": "stdout",
     "output_type": "stream",
     "text": [
      "prediction\n",
      "24 / 30\n",
      "test\n",
      "33 / 33\n"
     ]
    },
    {
     "data": {
      "text/plain": [
       "<matplotlib.legend.Legend at 0x7ff0346ee358>"
      ]
     },
     "execution_count": 94,
     "metadata": {},
     "output_type": "execute_result"
    },
    {
     "data": {
      "image/png": "[encoded data removed]",
      "text/plain": [
       "<Figure size 1152x288 with 1 Axes>"
      ]
     },
     "metadata": {
      "needs_background": "light"
     },
     "output_type": "display_data"
    }
   ],
   "source": [
    "wheeze_per_resp_acc(predict, t1_y)\n",
    "\n",
    "plt.figure(figsize=(16,4))\n",
    "plt.plot(t1_y, label = 'true')\n",
    "plt.plot(predict, label = 'predict')\n",
    "# plt.xlim(1500, 2000)\n",
    "\n",
    "plt.legend()"
   ]
  },
  {
   "cell_type": "code",
   "execution_count": 95,
   "metadata": {},
   "outputs": [
    {
     "name": "stdout",
     "output_type": "stream",
     "text": [
      "acc: 0.991980206467025\n",
      "f1: 0.9925750207076683\n",
      "roc_auc: 0.49768855406215223\n",
      "[[11627     5    49]\n",
      " [    0     0     0]\n",
      " [   40     0     0]]\n"
     ]
    }
   ],
   "source": [
    "y_pred = model.predict(t2_x)\n",
    "\n",
    "predict=[]\n",
    "for i in  y_pred:\n",
    "    predict.append(np.argmax(i))\n",
    "\n",
    "predict = np.array(predict)\n",
    "\n",
    "acc = accuracy_score(t2_y, predict)\n",
    "f1 = f1_score(t2_y, predict, average='weighted')\n",
    "roc_auc = roc_auc_score(t2_y, predict)\n",
    "cm = confusion_matrix(t2_y, predict)\n",
    "\n",
    "print('acc:', acc)\n",
    "print('f1:', f1)\n",
    "print('roc_auc:', roc_auc)\n",
    "print(cm)"
   ]
  },
  {
   "cell_type": "code",
   "execution_count": 96,
   "metadata": {},
   "outputs": [
    {
     "name": "stdout",
     "output_type": "stream",
     "text": [
      "prediction\n",
      "21 / 22\n",
      "test\n",
      "39 / 39\n"
     ]
    },
    {
     "data": {
      "text/plain": [
       "<matplotlib.legend.Legend at 0x7ff03468ab38>"
      ]
     },
     "execution_count": 96,
     "metadata": {},
     "output_type": "execute_result"
    },
    {
     "data": {
      "image/png": "[encoded data removed]",
      "text/plain": [
       "<Figure size 1152x288 with 1 Axes>"
      ]
     },
     "metadata": {
      "needs_background": "light"
     },
     "output_type": "display_data"
    }
   ],
   "source": [
    "wheeze_per_resp_acc(predict, t2_y)\n",
    "\n",
    "plt.figure(figsize=(16,4))\n",
    "plt.plot(t2_y, label = 'true')\n",
    "plt.plot(predict, label = 'predict')\n",
    "\n",
    "plt.legend()\n",
    "\n",
    "# plt.xlim(0,1000)"
   ]
  },
  {
   "cell_type": "code",
   "execution_count": 97,
   "metadata": {},
   "outputs": [
    {
     "name": "stdout",
     "output_type": "stream",
     "text": [
      "acc: 0.9695005401811685\n",
      "f1: 0.9812116850051822\n",
      "roc_auc: 0.5228922940496916\n",
      "[[11663     8   321]\n",
      " [    0     0     0]\n",
      " [   38     0     3]]\n"
     ]
    }
   ],
   "source": [
    "y_pred = model.predict(t3_x)\n",
    "\n",
    "predict=[]\n",
    "for i in  y_pred:\n",
    "    predict.append(np.argmax(i))\n",
    "\n",
    "predict = np.array(predict)\n",
    "\n",
    "acc = accuracy_score(t3_y, predict)\n",
    "f1 = f1_score(t3_y, predict, average='weighted')\n",
    "roc_auc = roc_auc_score(t3_y, predict)\n",
    "cm = confusion_matrix(t3_y, predict)\n",
    "\n",
    "print('acc:', acc)\n",
    "print('f1:', f1)\n",
    "print('roc_auc:', roc_auc)\n",
    "print(cm)"
   ]
  },
  {
   "cell_type": "code",
   "execution_count": 98,
   "metadata": {},
   "outputs": [
    {
     "name": "stdout",
     "output_type": "stream",
     "text": [
      "prediction\n",
      "38 / 38\n",
      "test\n",
      "40 / 40\n"
     ]
    },
    {
     "data": {
      "text/plain": [
       "<matplotlib.legend.Legend at 0x7ff0346a9390>"
      ]
     },
     "execution_count": 98,
     "metadata": {},
     "output_type": "execute_result"
    },
    {
     "data": {
      "image/png": "[encoded data removed]",
      "text/plain": [
       "<Figure size 1152x288 with 1 Axes>"
      ]
     },
     "metadata": {
      "needs_background": "light"
     },
     "output_type": "display_data"
    }
   ],
   "source": [
    "wheeze_per_resp_acc(predict, t3_y)\n",
    "\n",
    "plt.figure(figsize=(16,4))\n",
    "plt.plot(t3_y, label = 'true')\n",
    "plt.plot(predict, label = 'predict')\n",
    "\n",
    "plt.legend()"
   ]
  },
  {
   "cell_type": "code",
   "execution_count": 99,
   "metadata": {},
   "outputs": [
    {
     "name": "stdout",
     "output_type": "stream",
     "text": [
      "acc: 0.9685052491251458\n",
      "f1: 0.9797373848341228\n",
      "roc_auc: 0.48635983263598326\n",
      "[[5812   15  148]\n",
      " [   0    0    0]\n",
      " [  26    0    0]]\n"
     ]
    }
   ],
   "source": [
    "y_pred = model.predict(t4_x)\n",
    "\n",
    "predict=[]\n",
    "for i in  y_pred:\n",
    "    predict.append(np.argmax(i))\n",
    "\n",
    "predict = np.array(predict)\n",
    "\n",
    "acc = accuracy_score(t4_y, predict)\n",
    "f1 = f1_score(t4_y, predict, average='weighted')\n",
    "roc_auc = roc_auc_score(t4_y, predict)\n",
    "cm = confusion_matrix(t4_y, predict)\n",
    "\n",
    "print('acc:', acc)\n",
    "print('f1:', f1)\n",
    "print('roc_auc:', roc_auc)\n",
    "print(cm)"
   ]
  },
  {
   "cell_type": "code",
   "execution_count": 100,
   "metadata": {},
   "outputs": [
    {
     "name": "stdout",
     "output_type": "stream",
     "text": [
      "prediction\n",
      "19 / 19\n",
      "test\n",
      "19 / 19\n"
     ]
    },
    {
     "data": {
      "text/plain": [
       "<matplotlib.legend.Legend at 0x7ff034559a20>"
      ]
     },
     "execution_count": 100,
     "metadata": {},
     "output_type": "execute_result"
    },
    {
     "data": {
      "image/png": "[encoded data removed]",
      "text/plain": [
       "<Figure size 1152x288 with 1 Axes>"
      ]
     },
     "metadata": {
      "needs_background": "light"
     },
     "output_type": "display_data"
    }
   ],
   "source": [
    "wheeze_per_resp_acc(predict, t4_y)\n",
    "\n",
    "plt.figure(figsize=(16,4))\n",
    "plt.plot(t4_y, label = 'true')\n",
    "plt.plot(predict, label = 'predict')\n",
    "\n",
    "plt.legend()"
   ]
  },
  {
   "cell_type": "code",
   "execution_count": 44,
   "metadata": {},
   "outputs": [],
   "source": [
    "n_mels = 128\n",
    "frame_sec = 0.025\n",
    "step_sec = 0.01\n",
    "label_ratio = 1\n",
    "\n",
    "X_test, y_test = make_validation_dataset_keras(val_file_path, val_ordered_file_list, n_mels, frame_sec, step_sec, label_ratio)"
   ]
  },
  {
   "cell_type": "code",
   "execution_count": 45,
   "metadata": {},
   "outputs": [],
   "source": [
    "y_pred = model.predict(X_test)"
   ]
  },
  {
   "cell_type": "code",
   "execution_count": 46,
   "metadata": {},
   "outputs": [
    {
     "name": "stdout",
     "output_type": "stream",
     "text": [
      "acc: 0.8675776397515528\n",
      "f1: 0.8716075069265067\n",
      "roc_auc: 0.9708689022613854\n",
      "[[0.86376576 0.00447336 0.13176088]\n",
      " [0.07082631 0.8381113  0.09106239]\n",
      " [0.05858171 0.04624872 0.89516958]]\n"
     ]
    }
   ],
   "source": [
    "acc =accuracy_score(y_test.argmax(axis=1),y_pred.argmax(axis=1))\n",
    "f1=f1_score(y_test.argmax(axis=1),y_pred.argmax(axis=1),average='weighted')\n",
    "\n",
    "roc_auc = roc_auc_score(y_test, y_pred, multi_class='ovr')\n",
    "cm = confusion_matrix(y_test.argmax(axis=1), y_pred.argmax(axis=1), normalize='true')\n",
    "\n",
    "print('acc:', acc)\n",
    "print('f1:', f1)\n",
    "print('roc_auc:', roc_auc)\n",
    "print(cm)"
   ]
  },
  {
   "cell_type": "code",
   "execution_count": 41,
   "metadata": {},
   "outputs": [],
   "source": [
    "y_pred_0 = y_pred[:,0]\n",
    "y_pred_1 = y_pred[:,1]\n",
    "y_pred_2 = y_pred[:,2]\n",
    "\n",
    "y_test_0 = y_test[:,0]\n",
    "y_test_1 = y_test[:,1]\n",
    "y_test_2 = y_test[:,2]"
   ]
  },
  {
   "cell_type": "code",
   "execution_count": 49,
   "metadata": {},
   "outputs": [
    {
     "data": {
      "text/plain": [
       "<matplotlib.legend.Legend at 0x7fb2f0389cc0>"
      ]
     },
     "execution_count": 49,
     "metadata": {},
     "output_type": "execute_result"
    },
    {
     "data": {
      "image/png": "[encoded data removed]",
      "text/plain": [
       "<Figure size 432x144 with 1 Axes>"
      ]
     },
     "metadata": {
      "needs_background": "light"
     },
     "output_type": "display_data"
    },
    {
     "data": {
      "image/png": "[encoded data removed]",
      "text/plain": [
       "<Figure size 432x144 with 1 Axes>"
      ]
     },
     "metadata": {
      "needs_background": "light"
     },
     "output_type": "display_data"
    },
    {
     "data": {
      "image/png": "[encoded data removed]",
      "text/plain": [
       "<Figure size 432x144 with 1 Axes>"
      ]
     },
     "metadata": {
      "needs_background": "light"
     },
     "output_type": "display_data"
    }
   ],
   "source": [
    "view_start = 1550\n",
    "view_end = 2500\n",
    "\n",
    "# x = np.arange(len(y_test_0))\n",
    "\n",
    "plt.figure(figsize=(6,2))\n",
    "plt.plot(y_test_0, label='break_ref', color='black')\n",
    "plt.plot(y_pred_0, label='break', color='g')\n",
    "plt.ylim(-0.1,1.1)\n",
    "plt.xlim(view_start,view_end)\n",
    "plt.legend()\n",
    "# plt.savefig('svg_images/figure6-2_break.svg')\n",
    "\n",
    "plt.figure(figsize=(6,2))\n",
    "plt.plot(y_test_1, label='normal_ref', color='black')\n",
    "plt.plot(y_pred_1, label='normal', color='b')\n",
    "plt.ylim(-0.1,1.1)\n",
    "plt.xlim(view_start,view_end)\n",
    "plt.legend()\n",
    "# plt.savefig('svg_images/figure6-2_normal.svg')\n",
    "\n",
    "plt.figure(figsize=(6,2))\n",
    "plt.plot(y_test_2, label='wheeze_ref', color='black')\n",
    "plt.plot(y_pred_2, label='wheeze', color='r')\n",
    "plt.ylim(-0.1,1.1)\n",
    "plt.xlim(view_start,view_end)\n",
    "plt.legend()\n",
    "# plt.savefig('svg_images/figure6-2_wheeze.svg')"
   ]
  }
 ],
 "metadata": {
  "kernelspec": {
   "display_name": "112-keras-gpu",
   "language": "python",
   "name": "112-keras-gpu"
  },
  "language_info": {
   "codemirror_mode": {
    "name": "ipython",
    "version": 3
   },
   "file_extension": ".py",
   "mimetype": "text/x-python",
   "name": "python",
   "nbconvert_exporter": "python",
   "pygments_lexer": "ipython3",
   "version": "3.6.9"
  }
 },
 "nbformat": 4,
 "nbformat_minor": 5
}
