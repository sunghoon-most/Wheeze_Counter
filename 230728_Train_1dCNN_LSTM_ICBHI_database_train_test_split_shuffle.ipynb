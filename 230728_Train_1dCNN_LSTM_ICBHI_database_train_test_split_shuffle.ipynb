{
 "cells": [
  {
   "cell_type": "code",
   "execution_count": 3,
   "metadata": {},
   "outputs": [],
   "source": [
    "import os\n",
    "import gc\n",
    "from time import time\n",
    "\n",
    "import natsort\n",
    "from itertools import count\n",
    "# import torch\n",
    "# from pydub import AudioSegment, silence\n",
    "\n",
    "# Math\n",
    "from scipy.io import wavfile\n",
    "import librosa\n",
    "import numpy as np\n",
    "from scipy import signal\n",
    "from scipy.signal import find_peaks\n",
    "\n",
    "# # Visualization\n",
    "import matplotlib.pyplot as plt\n",
    "from matplotlib.animation import FuncAnimation\n",
    "from matplotlib.lines import Line2D\n",
    "\n",
    "import librosa.display\n",
    "from IPython.display import Audio\n",
    "from IPython.display import HTML\n",
    "\n",
    "import itertools\n",
    "import noisereduce as nr\n",
    "import pandas as pd\n",
    "from sklearn.preprocessing import MinMaxScaler, StandardScaler, MaxAbsScaler, RobustScaler\n",
    "import sklearn\n",
    "\n",
    "# keras module\n",
    "import tensorflow as tf\n",
    "from tensorflow.keras.wrappers.scikit_learn import KerasClassifier\n",
    "from tensorflow import keras\n",
    "from tensorflow.keras.models import load_model\n",
    "from tensorflow.keras import utils\n",
    "from tensorflow.keras import layers\n",
    "from tensorflow.keras import activations\n",
    "from tensorflow.keras.callbacks import EarlyStopping\n",
    "from tensorflow.keras.models import Sequential\n",
    "from tensorflow.keras.layers import Dense, Dropout, Flatten, Conv1D, Conv2D, MaxPooling1D, Embedding, LSTM, Bidirectional, SimpleRNN, GRU\n",
    "\n",
    "from tensorflow.keras.layers import *\n",
    "from tensorflow.keras.models import *\n",
    "\n",
    "# Hyperparameters\n",
    "# sample_rate = 16000\n",
    "freq_lim = 2048"
   ]
  },
  {
   "cell_type": "code",
   "execution_count": 4,
   "metadata": {},
   "outputs": [],
   "source": [
    "import os\n",
    "\n",
    "from IPython.display import display\n",
    "import numpy as np\n",
    "import matplotlib.pyplot as plt\n",
    "import pandas as pd\n",
    "# import mglearn\n",
    "from os.path import join\n",
    "\n",
    "from sklearn.model_selection import train_test_split\n",
    "from sklearn.preprocessing import MinMaxScaler, label_binarize, OneHotEncoder\n",
    "from sklearn.neighbors import KNeighborsClassifier as KNN\n",
    "from sklearn import ensemble\n",
    "from sklearn.ensemble import RandomForestClassifier as RFC\n",
    "from sklearn.svm import SVC\n",
    "from sklearn.neural_network import MLPClassifier as MLP\n",
    "from sklearn.pipeline import Pipeline\n",
    "from sklearn.model_selection import GridSearchCV, RandomizedSearchCV\n",
    "from sklearn.metrics import make_scorer,accuracy_score,f1_score,roc_auc_score,roc_curve,confusion_matrix,auc\n",
    "from sklearn.metrics import RocCurveDisplay,ConfusionMatrixDisplay\n",
    "# import umap\n",
    "from sklearn.manifold import TSNE"
   ]
  },
  {
   "cell_type": "code",
   "execution_count": 5,
   "metadata": {},
   "outputs": [
    {
     "data": {
      "text/plain": [
       "'2.1.0'"
      ]
     },
     "execution_count": 5,
     "metadata": {},
     "output_type": "execute_result"
    }
   ],
   "source": [
    "tf.__version__"
   ]
  },
  {
   "cell_type": "code",
   "execution_count": 6,
   "metadata": {},
   "outputs": [],
   "source": [
    "from tensorflow.keras.wrappers.scikit_learn import KerasClassifier"
   ]
  },
  {
   "cell_type": "code",
   "execution_count": 7,
   "metadata": {},
   "outputs": [
    {
     "data": {
      "text/plain": [
       "[name: \"/device:CPU:0\"\n",
       " device_type: \"CPU\"\n",
       " memory_limit: 268435456\n",
       " locality {\n",
       " }\n",
       " incarnation: 13757260024065678153,\n",
       " name: \"/device:XLA_CPU:0\"\n",
       " device_type: \"XLA_CPU\"\n",
       " memory_limit: 17179869184\n",
       " locality {\n",
       " }\n",
       " incarnation: 15974294318200199286\n",
       " physical_device_desc: \"device: XLA_CPU device\",\n",
       " name: \"/device:XLA_GPU:0\"\n",
       " device_type: \"XLA_GPU\"\n",
       " memory_limit: 17179869184\n",
       " locality {\n",
       " }\n",
       " incarnation: 16963739223086477307\n",
       " physical_device_desc: \"device: XLA_GPU device\",\n",
       " name: \"/device:XLA_GPU:1\"\n",
       " device_type: \"XLA_GPU\"\n",
       " memory_limit: 17179869184\n",
       " locality {\n",
       " }\n",
       " incarnation: 3783788088334550579\n",
       " physical_device_desc: \"device: XLA_GPU device\",\n",
       " name: \"/device:XLA_GPU:2\"\n",
       " device_type: \"XLA_GPU\"\n",
       " memory_limit: 17179869184\n",
       " locality {\n",
       " }\n",
       " incarnation: 1558177091334433922\n",
       " physical_device_desc: \"device: XLA_GPU device\",\n",
       " name: \"/device:XLA_GPU:3\"\n",
       " device_type: \"XLA_GPU\"\n",
       " memory_limit: 17179869184\n",
       " locality {\n",
       " }\n",
       " incarnation: 2723102490191684349\n",
       " physical_device_desc: \"device: XLA_GPU device\",\n",
       " name: \"/device:GPU:0\"\n",
       " device_type: \"GPU\"\n",
       " memory_limit: 465829888\n",
       " locality {\n",
       "   bus_id: 1\n",
       "   links {\n",
       "   }\n",
       " }\n",
       " incarnation: 16437039694602819945\n",
       " physical_device_desc: \"device: 0, name: NVIDIA TITAN RTX, pci bus id: 0000:3b:00.0, compute capability: 7.5\",\n",
       " name: \"/device:GPU:1\"\n",
       " device_type: \"GPU\"\n",
       " memory_limit: 23794905908\n",
       " locality {\n",
       "   bus_id: 1\n",
       "   links {\n",
       "   }\n",
       " }\n",
       " incarnation: 18106653440840385730\n",
       " physical_device_desc: \"device: 1, name: NVIDIA TITAN RTX, pci bus id: 0000:5e:00.0, compute capability: 7.5\",\n",
       " name: \"/device:GPU:2\"\n",
       " device_type: \"GPU\"\n",
       " memory_limit: 23794905908\n",
       " locality {\n",
       "   bus_id: 2\n",
       "   numa_node: 1\n",
       "   links {\n",
       "   }\n",
       " }\n",
       " incarnation: 13778289600905179510\n",
       " physical_device_desc: \"device: 2, name: NVIDIA TITAN RTX, pci bus id: 0000:af:00.0, compute capability: 7.5\",\n",
       " name: \"/device:GPU:3\"\n",
       " device_type: \"GPU\"\n",
       " memory_limit: 23794905908\n",
       " locality {\n",
       "   bus_id: 2\n",
       "   numa_node: 1\n",
       "   links {\n",
       "   }\n",
       " }\n",
       " incarnation: 3052266885582498542\n",
       " physical_device_desc: \"device: 3, name: NVIDIA TITAN RTX, pci bus id: 0000:d8:00.0, compute capability: 7.5\"]"
      ]
     },
     "execution_count": 7,
     "metadata": {},
     "output_type": "execute_result"
    }
   ],
   "source": [
    "from tensorflow.python.client import device_lib\n",
    "device_lib.list_local_devices()"
   ]
  },
  {
   "cell_type": "code",
   "execution_count": 8,
   "metadata": {},
   "outputs": [
    {
     "data": {
      "text/plain": [
       "0"
      ]
     },
     "execution_count": 8,
     "metadata": {},
     "output_type": "execute_result"
    }
   ],
   "source": [
    "for i in range(2):\n",
    "    gc.collect()\n",
    "gc.collect()"
   ]
  },
  {
   "cell_type": "markdown",
   "metadata": {},
   "source": [
    "# Funcition definition "
   ]
  },
  {
   "cell_type": "code",
   "execution_count": 9,
   "metadata": {},
   "outputs": [],
   "source": [
    "def make_train_dataset_keras(file_path, ordered_file_list, n_mels, frame_sec, step_sec, label_ratio):\n",
    "    \n",
    "    data_list = []\n",
    "    label_list = []\n",
    "    \n",
    "    pitch_var = [-3.5, -2, 2, 3.5]\n",
    "    augmented_number = len(pitch_var)\n",
    "\n",
    "    for index, file in enumerate(ordered_file_list):\n",
    "        \n",
    "        if file[-3:] == 'wav':\n",
    "\n",
    "            # data load \n",
    "            sample_rate = librosa.get_samplerate(file_path + '/' + file)\n",
    "            # calculated values\n",
    "            frame_length = int(frame_sec * sample_rate)\n",
    "            frame_step = int(step_sec * sample_rate)\n",
    "            data, data_sr = librosa.load(file_path + '/' + file, sr = sample_rate)\n",
    "            \n",
    "            for pitch in pitch_var:\n",
    "                \n",
    "                ps_data = librosa.effects.pitch_shift(data, sr = sample_rate, n_steps = pitch)\n",
    "\n",
    "                # mel spectrogram extraction\n",
    "                melS = librosa.feature.melspectrogram(y = ps_data, sr=sample_rate, n_mels=n_mels,\n",
    "                                                      hop_length=frame_step, win_length=frame_length)\n",
    "                melS = librosa.power_to_db(melS, ref=np.max)\n",
    "\n",
    "                data_list.append(melS.T)\n",
    "                \n",
    "            # normal and wheeze split\n",
    "            normal_event = []\n",
    "            wheeze_event = []\n",
    "                \n",
    "            label = pd.read_csv(file_path + '/' + file[:-3] + 'txt', sep='\\t', header=None)\n",
    "            \n",
    "            sec_to_index_start = label[0]*16000\n",
    "            sec_to_index_end = label[1]*16000\n",
    "            sec_to_index_start = sec_to_index_start.to_numpy().round()\n",
    "            sec_to_index_end = sec_to_index_end.to_numpy().round()\n",
    "\n",
    "            for i, val in enumerate(label[2].to_numpy()):\n",
    "                if val == 'normal':\n",
    "                    normal_event.append([int(sec_to_index_start[i]//(step_sec*sample_rate)),\n",
    "                                         int(sec_to_index_end[i]//(step_sec*sample_rate))])\n",
    "\n",
    "                elif val == 'wheeze':\n",
    "                    wheeze_event.append([int(sec_to_index_start[i]//(step_sec*sample_rate)),\n",
    "                                         int(sec_to_index_end[i]//(step_sec*sample_rate))])\n",
    "\n",
    "            normal_event = np.array(normal_event)\n",
    "            wheeze_event = np.array(wheeze_event)\n",
    "            \n",
    "            y = np.zeros(len(data_list[-1]))\n",
    " \n",
    "            # label ratio decision\n",
    "            for j in normal_event:\n",
    "                start = j[0]\n",
    "                end = j[1]\n",
    "                delta = int((end-start)*label_ratio)\n",
    "                y[end-delta:end] = 1\n",
    "\n",
    "            for k in wheeze_event:\n",
    "                start = k[0]\n",
    "                end = k[1]\n",
    "                delta = int((end-start)*label_ratio)\n",
    "                y[end-delta:end] = 2\n",
    "                \n",
    "            for number in range(augmented_number):\n",
    "                label_list.append(y)\n",
    "                \n",
    "    X = np.concatenate(data_list, axis = 0)\n",
    "    X = X.reshape(X.shape[0], X.shape[1], 1)\n",
    "    y = np.concatenate(label_list, axis = 0)\n",
    "    y = utils.to_categorical(y)\n",
    "    \n",
    "    return X, y\n",
    "\n",
    "\n",
    "def make_validation_dataset_keras(file_path, ordered_file_list, n_mels, frame_sec, step_sec, label_ratio):\n",
    "\n",
    "\n",
    "    data_list = []\n",
    "    label_list = []\n",
    "\n",
    "    for index, file in enumerate(ordered_file_list):\n",
    "        if file[-3:] == 'wav':\n",
    "\n",
    "            # data load \n",
    "            sample_rate = librosa.get_samplerate(file_path + '/' + file)\n",
    "            data, data_sr = librosa.load(file_path + '/' + file, sr = sample_rate)\n",
    "#             data = nr.reduce_noise(data, sr = sample_rate)\n",
    "\n",
    "            # framing condition\n",
    "            frame_length = int(frame_sec * sample_rate)\n",
    "            frame_step = int(step_sec * sample_rate)\n",
    "\n",
    "            # mel spectrogram extraction\n",
    "            melS = librosa.feature.melspectrogram(y = data, sr=sample_rate, n_mels=n_mels,\n",
    "                                                  hop_length=frame_step, win_length=frame_length)\n",
    "            melS = librosa.power_to_db(melS, ref=np.max)\n",
    "#             melS = librosa.power_to_db(melS, ref=np.median)\n",
    "\n",
    "            data_list.append(melS.T)\n",
    "\n",
    "    # X must be extracted first\n",
    "\n",
    "    for index, file in enumerate(ordered_file_list):\n",
    "\n",
    "        if file[-3:] == 'txt':\n",
    "\n",
    "            # normal and wheeze split\n",
    "            normal_event = []\n",
    "            wheeze_event = []\n",
    "\n",
    "            label = pd.read_csv(file_path + '/' + file, sep='\\t', header=None)\n",
    "\n",
    "            sec_to_index_start = label[0]*16000\n",
    "            sec_to_index_end = label[1]*16000\n",
    "            sec_to_index_start = sec_to_index_start.to_numpy().round()\n",
    "            sec_to_index_end = sec_to_index_end.to_numpy().round()\n",
    "\n",
    "            for i, val in enumerate(label[2].to_numpy()):\n",
    "                if val == 1:\n",
    "                    normal_event.append([int(sec_to_index_start[i]//(step_sec*sample_rate)), \n",
    "                                         int(sec_to_index_end[i]//(step_sec*sample_rate))])\n",
    "\n",
    "                elif val == 2:\n",
    "                    wheeze_event.append([int(sec_to_index_start[i]//(step_sec*sample_rate)), \n",
    "                                         int(sec_to_index_end[i]//(step_sec*sample_rate))])\n",
    "\n",
    "            normal_event = np.array(normal_event)\n",
    "            wheeze_event = np.array(wheeze_event)\n",
    "\n",
    "            y = np.zeros(len(data_list[int(index/2)]))\n",
    "\n",
    "            # label ratio decision\n",
    "\n",
    "            for j in normal_event:\n",
    "                start = j[0]\n",
    "                end = j[1]\n",
    "                delta = int((end-start)*label_ratio)\n",
    "                y[end-delta:end] = 1\n",
    "#                 y[end:end+delta] = 1\n",
    "\n",
    "\n",
    "            for k in wheeze_event:\n",
    "                start = k[0]\n",
    "                end = k[1]\n",
    "                delta = int((end-start)*label_ratio)\n",
    "                y[end-delta:end] = 2\n",
    "#                 y[end:end+delta] = 2\n",
    "\n",
    "\n",
    "            label_list.append(y)\n",
    "    \n",
    "    X = np.concatenate(data_list, axis = 0)\n",
    "    X = X.reshape(X.shape[0], X.shape[1])\n",
    "    X = X.reshape(X.shape[0], X.shape[1], 1)\n",
    "    y = np.concatenate(label_list, axis = 0)\n",
    "    y = utils.to_categorical(y)\n",
    "    \n",
    "    return X, y\n",
    "\n",
    "\n",
    "def make_test_dataset_keras(test_signal, test_label, n_mels, frame_sec, step_sec):\n",
    "    \n",
    "    # test signal must be noise filtered\n",
    "\n",
    "    # framing condition\n",
    "    frame_length = int(frame_sec * sample_rate)\n",
    "    frame_step = int(step_sec * sample_rate)\n",
    "    \n",
    "    # noise reduce\n",
    "    test_signal = nr.reduce_noise(test_signal, sr = sample_rate)\n",
    "\n",
    "    # mel spectrogram extraction\n",
    "    melS = librosa.feature.melspectrogram(y = test_signal, sr=sample_rate, \n",
    "                                          n_mels=n_mels, hop_length=frame_step, win_length=frame_length)\n",
    "    melS = librosa.power_to_db(melS, ref=np.max)\n",
    "#     melS = librosa.power_to_db(melS, ref=np.median)\n",
    "\n",
    "    X_test = melS.T\n",
    "    X_test = X_test.reshape(X_test.shape[0], X_test.shape[1],1)\n",
    "    \n",
    "    sec_to_index = test_label[0]*16000\n",
    "    event_index = sec_to_index//(step_sec*sample_rate)\n",
    "\n",
    "    y_test = np.zeros(len(X_test))\n",
    "\n",
    "    for i in event_index:\n",
    "        y_test[int(i)] = 2\n",
    "        \n",
    "    return X_test, y_test\n",
    "\n",
    "\n",
    "def wheeze_per_resp_acc(y_pred, y_test):\n",
    "    \n",
    "    peaks, _ = find_peaks(y_pred)\n",
    "\n",
    "    after_peaks = peaks[1:]\n",
    "    before_peaks = peaks[:-1]\n",
    "\n",
    "    term = after_peaks - before_peaks\n",
    "\n",
    "    start = 0\n",
    "    pred_resp_count = 0\n",
    "    pred_normal_count = 0\n",
    "    pred_wheeze_count = 0\n",
    "\n",
    "    for index, val in enumerate(term):\n",
    "        if val >= 100:\n",
    "            pred_resp_count += 1\n",
    "            thres = y_pred[peaks[start:index+1]].mean()\n",
    "            if thres > 1.0:\n",
    "                pred_wheeze_count += 1\n",
    "            elif thres == 1.0 : \n",
    "                pred_normal_count += 1\n",
    "            start = index+1\n",
    "    \n",
    "    print('prediction')\n",
    "    print(pred_wheeze_count, '/', pred_resp_count)\n",
    "    \n",
    "    peaks, _ = find_peaks(y_test)\n",
    "\n",
    "    after_peaks = peaks[1:]\n",
    "    before_peaks = peaks[:-1]\n",
    "\n",
    "    term = after_peaks - before_peaks\n",
    "\n",
    "    start = 0\n",
    "    test_resp_count = 0\n",
    "    test_normal_count = 0\n",
    "    test_wheeze_count = 0\n",
    "\n",
    "    for index, val in enumerate(term):\n",
    "        if val >= 100:\n",
    "            test_resp_count += 1\n",
    "            thres = y_test[peaks[start:index+1]].mean()\n",
    "            if thres > 1.0:\n",
    "                test_wheeze_count += 1\n",
    "            elif thres == 1.0 : \n",
    "                test_normal_count += 1\n",
    "            start = index+1\n",
    "             \n",
    "    print('test')\n",
    "    print(test_wheeze_count, '/', test_resp_count)\n",
    "    \n",
    "    return pred_wheeze_count, pred_resp_count"
   ]
  },
  {
   "cell_type": "code",
   "execution_count": 10,
   "metadata": {},
   "outputs": [],
   "source": [
    "def algorithm_pipeline(X_train_data, X_test_data, y_train_data, y_test_data, \n",
    "                       model, param_grid, cv=5, scoring_fit='roc_auc',\n",
    "                       do_probabilities = False):\n",
    "    gs = GridSearchCV(\n",
    "        estimator=model,\n",
    "        param_grid=param_grid, \n",
    "#         cv=cv, \n",
    "        n_jobs=1, \n",
    "#         scoring=scoring_fit,\n",
    "#         verbose=2\n",
    "    )\n",
    "    \n",
    "    gs.fit(X_train_data, y_train_data)\n",
    "    \n",
    "    if do_probabilities:\n",
    "        pred = gs.predict_proba(X_test_data)\n",
    "    else:\n",
    "        pred = gs.predict(X_test_data)\n",
    "    \n",
    "    return gs, pred"
   ]
  },
  {
   "cell_type": "markdown",
   "metadata": {},
   "source": [
    "## fixed parameter results"
   ]
  },
  {
   "cell_type": "code",
   "execution_count": 11,
   "metadata": {
    "scrolled": true
   },
   "outputs": [
    {
     "data": {
      "text/plain": [
       "['103_2b2_Ar_mc_LittC2SE.txt',\n",
       " '103_2b2_Ar_mc_LittC2SE.wav',\n",
       " '106_2b1_Pr_mc_LittC2SE.txt',\n",
       " '106_2b1_Pr_mc_LittC2SE.wav',\n",
       " '121_1b1_Tc_sc_Meditron.txt',\n",
       " '121_1b1_Tc_sc_Meditron.wav',\n",
       " '133_2p4_Al_mc_AKGC417L.txt',\n",
       " '133_2p4_Al_mc_AKGC417L.wav',\n",
       " '134_2b3_Ar_mc_LittC2SE.txt',\n",
       " '134_2b3_Ar_mc_LittC2SE.wav',\n",
       " '141_1b2_Lr_mc_LittC2SE.txt',\n",
       " '141_1b2_Lr_mc_LittC2SE.wav',\n",
       " '143_1b1_Al_sc_Meditron.txt',\n",
       " '143_1b1_Al_sc_Meditron.wav',\n",
       " '144_1b1_Al_sc_Meditron.txt',\n",
       " '144_1b1_Al_sc_Meditron.wav',\n",
       " '151_2p2_Pl_mc_AKGC417L.txt',\n",
       " '151_2p2_Pl_mc_AKGC417L.wav',\n",
       " '152_1b1_Al_sc_Meditron.txt',\n",
       " '152_1b1_Al_sc_Meditron.wav',\n",
       " '153_1b1_Al_sc_Meditron.txt',\n",
       " '153_1b1_Al_sc_Meditron.wav',\n",
       " '159_1b1_Pr_sc_Meditron.txt',\n",
       " '159_1b1_Pr_sc_Meditron.wav',\n",
       " '160_1b2_Ar_mc_AKGC417L.txt',\n",
       " '160_1b2_Ar_mc_AKGC417L.wav',\n",
       " '171_1b1_Al_sc_Meditron.txt',\n",
       " '171_1b1_Al_sc_Meditron.wav',\n",
       " '178_1b2_Tc_mc_AKGC417L.txt',\n",
       " '178_1b2_Tc_mc_AKGC417L.wav',\n",
       " '183_1b1_Tc_sc_Meditron.txt',\n",
       " '183_1b1_Tc_sc_Meditron.wav',\n",
       " '184_1b1_Ar_sc_Meditron.txt',\n",
       " '184_1b1_Ar_sc_Meditron.wav',\n",
       " '192_2b1_Ar_mc_LittC2SE.txt',\n",
       " '192_2b1_Ar_mc_LittC2SE.wav',\n",
       " '193_1b2_Al_mc_AKGC417L.txt',\n",
       " '193_1b2_Al_mc_AKGC417L.wav',\n",
       " '193_1b2_Ar_mc_AKGC417L.txt',\n",
       " '193_1b2_Ar_mc_AKGC417L.wav',\n",
       " '193_1b2_Pl_mc_AKGC417L.txt',\n",
       " '193_1b2_Pl_mc_AKGC417L.wav',\n",
       " '193_1b2_Pr_mc_AKGC417L.txt',\n",
       " '193_1b2_Pr_mc_AKGC417L.wav',\n",
       " '193_1b2_Tc_mc_AKGC417L.txt',\n",
       " '193_1b2_Tc_mc_AKGC417L.wav',\n",
       " '193_1b4_Lr_mc_AKGC417L.txt',\n",
       " '193_1b4_Lr_mc_AKGC417L.wav',\n",
       " '194_1b1_Lr_sc_Meditron.txt',\n",
       " '194_1b1_Lr_sc_Meditron.wav',\n",
       " '194_1b1_Pr_sc_Meditron.txt',\n",
       " '194_1b1_Pr_sc_Meditron.wav',\n",
       " '198_1b5_Ar_mc_AKGC417L.txt',\n",
       " '198_1b5_Ar_mc_AKGC417L.wav',\n",
       " '198_1b5_Pr_mc_AKGC417L.txt',\n",
       " '198_1b5_Pr_mc_AKGC417L.wav',\n",
       " '202_1b1_Ar_sc_Meditron.txt',\n",
       " '202_1b1_Ar_sc_Meditron.wav',\n",
       " '203_1p2_Tc_mc_AKGC417L.txt',\n",
       " '203_1p2_Tc_mc_AKGC417L.wav',\n",
       " '204_2b5_Al_mc_AKGC417L.txt',\n",
       " '204_2b5_Al_mc_AKGC417L.wav',\n",
       " '209_1b1_Tc_sc_Meditron.txt',\n",
       " '209_1b1_Tc_sc_Meditron.wav',\n",
       " '214_1b1_Ar_sc_Meditron.txt',\n",
       " '214_1b1_Ar_sc_Meditron.wav',\n",
       " '217_1b1_Tc_sc_Meditron.txt',\n",
       " '217_1b1_Tc_sc_Meditron.wav',\n",
       " '221_2b1_Pl_mc_LittC2SE.txt',\n",
       " '221_2b1_Pl_mc_LittC2SE.wav',\n",
       " '221_2b2_Al_mc_LittC2SE.txt',\n",
       " '221_2b2_Al_mc_LittC2SE.wav',\n",
       " '221_2b2_Pl_mc_LittC2SE.txt',\n",
       " '221_2b2_Pl_mc_LittC2SE.wav',\n",
       " '221_2b3_Al_mc_LittC2SE.txt',\n",
       " '221_2b3_Al_mc_LittC2SE.wav',\n",
       " '224_1b2_Al_sc_Meditron.txt',\n",
       " '224_1b2_Al_sc_Meditron.wav',\n",
       " '225_1b1_Pl_sc_Meditron.txt',\n",
       " '225_1b1_Pl_sc_Meditron.wav',\n",
       " 'normal_littmann_2cycles.txt',\n",
       " 'normal_littmann_2cycles.wav',\n",
       " 'normal_sim_7cycles.txt',\n",
       " 'normal_sim_7cycles.wav',\n",
       " 'wheeze_clinical_train.txt',\n",
       " 'wheeze_clinical_train.wav',\n",
       " 'wheeze_expiratory_littmann_2cycles.txt',\n",
       " 'wheeze_expiratory_littmann_2cycles.wav',\n",
       " 'wheeze_low_pitch_littmann_2cycles.txt',\n",
       " 'wheeze_low_pitch_littmann_2cycles.wav',\n",
       " 'wheeze_monophonic_littmann_2cycles.txt',\n",
       " 'wheeze_monophonic_littmann_2cycles.wav',\n",
       " 'wheeze_sim_5cycles.txt',\n",
       " 'wheeze_sim_5cycles.wav']"
      ]
     },
     "execution_count": 11,
     "metadata": {},
     "output_type": "execute_result"
    }
   ],
   "source": [
    "file_path= 'data/train_with_ICBHI'\n",
    "file_list = os.listdir(file_path)\n",
    "ordered_file_list = natsort.natsorted(file_list)\n",
    "ordered_file_list"
   ]
  },
  {
   "cell_type": "code",
   "execution_count": 12,
   "metadata": {},
   "outputs": [],
   "source": [
    "# ordered_file_list = ordered_file_list[1:]\n",
    "# ordered_file_list"
   ]
  },
  {
   "cell_type": "code",
   "execution_count": 13,
   "metadata": {},
   "outputs": [
    {
     "data": {
      "text/plain": [
       "['normal_littmann_1cycle.txt',\n",
       " 'normal_littmann_1cycle.wav',\n",
       " 'normal_sim_2cycles.txt',\n",
       " 'normal_sim_2cycles.wav',\n",
       " 'wheeze_clinical_validation.txt',\n",
       " 'wheeze_clinical_validation.wav',\n",
       " 'wheeze_expiratory_littmann_1cycle.txt',\n",
       " 'wheeze_expiratory_littmann_1cycle.wav',\n",
       " 'wheeze_low_pitch_littmann_1cycle.txt',\n",
       " 'wheeze_low_pitch_littmann_1cycle.wav',\n",
       " 'wheeze_monophonic_littmann_1cycle.txt',\n",
       " 'wheeze_monophonic_littmann_1cycle.wav',\n",
       " 'wheeze_sim_2cycles.txt',\n",
       " 'wheeze_sim_2cycles.wav']"
      ]
     },
     "execution_count": 13,
     "metadata": {},
     "output_type": "execute_result"
    }
   ],
   "source": [
    "val_file_path= 'data/validation'\n",
    "\n",
    "val_file_list = os.listdir(val_file_path)\n",
    "val_ordered_file_list = natsort.natsorted(val_file_list)\n",
    "\n",
    "val_ordered_file_list"
   ]
  },
  {
   "cell_type": "code",
   "execution_count": 14,
   "metadata": {},
   "outputs": [],
   "source": [
    "# val_ordered_file_list = val_ordered_file_list[1:]\n",
    "# val_ordered_file_list"
   ]
  },
  {
   "cell_type": "code",
   "execution_count": 15,
   "metadata": {},
   "outputs": [],
   "source": [
    "n_mels = 128\n",
    "frame_sec = 0.025\n",
    "step_sec = 0.01\n",
    "label_ratio = 1\n",
    "\n",
    "X, y = make_train_dataset_keras(file_path, ordered_file_list, n_mels, frame_sec, step_sec, label_ratio)\n",
    "X_val, y_val = make_validation_dataset_keras(val_file_path, val_ordered_file_list, n_mels, frame_sec, step_sec, label_ratio)\n",
    "#%% Split data\n",
    "# X_train, X_test, y_train, y_test = train_test_split(X, y, shuffle=False)\n",
    "n_timesteps, n_features, n_outputs = X.shape[1], X.shape[2], y.shape[1]"
   ]
  },
  {
   "cell_type": "code",
   "execution_count": 16,
   "metadata": {},
   "outputs": [],
   "source": [
    "callback = tf.keras.callbacks.EarlyStopping(monitor='loss', patience=10, restore_best_weights=True)"
   ]
  },
  {
   "cell_type": "code",
   "execution_count": 17,
   "metadata": {},
   "outputs": [
    {
     "data": {
      "text/plain": [
       "(332720, 128, 1)"
      ]
     },
     "execution_count": 17,
     "metadata": {},
     "output_type": "execute_result"
    }
   ],
   "source": [
    "X.shape"
   ]
  },
  {
   "cell_type": "code",
   "execution_count": 18,
   "metadata": {},
   "outputs": [],
   "source": [
    "X_train, X_test, y_train, y_test = train_test_split(X, y, test_size=0.33, random_state=42)"
   ]
  },
  {
   "cell_type": "markdown",
   "metadata": {},
   "source": [
    "## 1d cnn + bi-directional LSTM "
   ]
  },
  {
   "cell_type": "code",
   "execution_count": 20,
   "metadata": {},
   "outputs": [
    {
     "data": {
      "text/plain": [
       "0"
      ]
     },
     "execution_count": 20,
     "metadata": {},
     "output_type": "execute_result"
    }
   ],
   "source": [
    "for i in range(2):\n",
    "    gc.collect()\n",
    "gc.collect()"
   ]
  },
  {
   "cell_type": "code",
   "execution_count": 21,
   "metadata": {
    "scrolled": true
   },
   "outputs": [
    {
     "name": "stdout",
     "output_type": "stream",
     "text": [
      "(128, 1)\n",
      "Train on 222922 samples, validate on 109798 samples\n",
      "Epoch 1/500\n",
      "222922/222922 - 91s - loss: 0.6246 - accuracy: 0.7950 - val_loss: 0.6000 - val_accuracy: 0.8007\n",
      "Epoch 2/500\n",
      "222922/222922 - 87s - loss: 0.6049 - accuracy: 0.7996 - val_loss: 0.6039 - val_accuracy: 0.7986\n",
      "Epoch 3/500\n",
      "222922/222922 - 88s - loss: 0.5972 - accuracy: 0.8011 - val_loss: 0.5852 - val_accuracy: 0.8024\n",
      "Epoch 4/500\n",
      "222922/222922 - 88s - loss: 0.5915 - accuracy: 0.8017 - val_loss: 0.5847 - val_accuracy: 0.8032\n",
      "Epoch 5/500\n",
      "222922/222922 - 89s - loss: 0.5895 - accuracy: 0.8021 - val_loss: 0.5771 - val_accuracy: 0.8047\n",
      "Epoch 6/500\n",
      "222922/222922 - 89s - loss: 0.5858 - accuracy: 0.8029 - val_loss: 0.5998 - val_accuracy: 0.7986\n",
      "Epoch 7/500\n",
      "222922/222922 - 89s - loss: 0.5839 - accuracy: 0.8032 - val_loss: 0.5907 - val_accuracy: 0.7991\n",
      "Epoch 8/500\n",
      "222922/222922 - 89s - loss: 0.5828 - accuracy: 0.8033 - val_loss: 0.5787 - val_accuracy: 0.8039\n",
      "Epoch 9/500\n",
      "222922/222922 - 89s - loss: 0.5894 - accuracy: 0.8022 - val_loss: 0.5948 - val_accuracy: 0.7988\n",
      "Epoch 10/500\n",
      "222922/222922 - 89s - loss: 0.5829 - accuracy: 0.8036 - val_loss: 0.5721 - val_accuracy: 0.8067\n",
      "Epoch 11/500\n",
      "222922/222922 - 89s - loss: 0.5784 - accuracy: 0.8047 - val_loss: 0.5849 - val_accuracy: 0.8014\n",
      "Epoch 12/500\n",
      "222922/222922 - 89s - loss: 0.5767 - accuracy: 0.8048 - val_loss: 0.5703 - val_accuracy: 0.8048\n",
      "Epoch 13/500\n",
      "222922/222922 - 89s - loss: 0.5764 - accuracy: 0.8049 - val_loss: 0.5670 - val_accuracy: 0.8068\n",
      "Epoch 14/500\n",
      "222922/222922 - 89s - loss: 0.5750 - accuracy: 0.8045 - val_loss: 0.5670 - val_accuracy: 0.8063\n",
      "Epoch 15/500\n",
      "222922/222922 - 89s - loss: 0.5736 - accuracy: 0.8053 - val_loss: 0.5786 - val_accuracy: 0.8054\n",
      "Epoch 16/500\n",
      "222922/222922 - 89s - loss: 0.5795 - accuracy: 0.8043 - val_loss: 0.5726 - val_accuracy: 0.8046\n",
      "Epoch 17/500\n",
      "222922/222922 - 89s - loss: 0.5726 - accuracy: 0.8056 - val_loss: 0.5599 - val_accuracy: 0.8072\n",
      "Epoch 18/500\n",
      "222922/222922 - 89s - loss: 0.5728 - accuracy: 0.8053 - val_loss: 0.5792 - val_accuracy: 0.8025\n",
      "Epoch 19/500\n",
      "222922/222922 - 89s - loss: 0.5676 - accuracy: 0.8058 - val_loss: 0.5607 - val_accuracy: 0.8078\n",
      "Epoch 20/500\n",
      "222922/222922 - 89s - loss: 0.5748 - accuracy: 0.8043 - val_loss: 0.5729 - val_accuracy: 0.8061\n",
      "Epoch 21/500\n",
      "222922/222922 - 89s - loss: 0.5809 - accuracy: 0.8039 - val_loss: 0.5957 - val_accuracy: 0.8016\n",
      "Epoch 22/500\n",
      "222922/222922 - 89s - loss: 0.5728 - accuracy: 0.8049 - val_loss: 0.5767 - val_accuracy: 0.8012\n",
      "Epoch 23/500\n",
      "222922/222922 - 89s - loss: 0.5671 - accuracy: 0.8061 - val_loss: 0.5897 - val_accuracy: 0.8019\n",
      "Epoch 24/500\n",
      "222922/222922 - 89s - loss: 0.5680 - accuracy: 0.8053 - val_loss: 0.5680 - val_accuracy: 0.8024\n",
      "Epoch 25/500\n",
      "222922/222922 - 89s - loss: 0.5834 - accuracy: 0.8033 - val_loss: 0.5819 - val_accuracy: 0.8033\n",
      "Epoch 26/500\n",
      "222922/222922 - 90s - loss: 0.5730 - accuracy: 0.8046 - val_loss: 0.5650 - val_accuracy: 0.8055\n",
      "Epoch 27/500\n",
      "222922/222922 - 89s - loss: 0.5657 - accuracy: 0.8056 - val_loss: 0.5505 - val_accuracy: 0.8075\n",
      "Epoch 28/500\n",
      "222922/222922 - 89s - loss: 0.5698 - accuracy: 0.8050 - val_loss: 0.5852 - val_accuracy: 0.8018\n",
      "Epoch 29/500\n",
      "222922/222922 - 89s - loss: 0.5710 - accuracy: 0.8051 - val_loss: 0.5522 - val_accuracy: 0.8077\n",
      "Epoch 30/500\n",
      "222922/222922 - 89s - loss: 0.5692 - accuracy: 0.8046 - val_loss: 0.5493 - val_accuracy: 0.8082\n",
      "Epoch 31/500\n",
      "222922/222922 - 89s - loss: 0.5682 - accuracy: 0.8050 - val_loss: 0.5814 - val_accuracy: 0.8040\n",
      "Epoch 32/500\n",
      "222922/222922 - 89s - loss: 0.5733 - accuracy: 0.8048 - val_loss: 0.5582 - val_accuracy: 0.8077\n",
      "Epoch 33/500\n",
      "222922/222922 - 96s - loss: 0.5640 - accuracy: 0.8060 - val_loss: 0.5517 - val_accuracy: 0.8084\n",
      "Epoch 34/500\n",
      "222922/222922 - 93s - loss: 0.6077 - accuracy: 0.7976 - val_loss: 0.6012 - val_accuracy: 0.8010\n",
      "Epoch 35/500\n",
      "222922/222922 - 94s - loss: 0.5971 - accuracy: 0.8007 - val_loss: 0.5920 - val_accuracy: 0.8020\n",
      "Epoch 36/500\n",
      "222922/222922 - 160s - loss: 0.5870 - accuracy: 0.8021 - val_loss: 0.5823 - val_accuracy: 0.8035\n",
      "Epoch 37/500\n",
      "222922/222922 - 152s - loss: 0.5809 - accuracy: 0.8033 - val_loss: 0.5964 - val_accuracy: 0.7980\n",
      "Epoch 38/500\n",
      "222922/222922 - 145s - loss: 0.5931 - accuracy: 0.8012 - val_loss: 0.6285 - val_accuracy: 0.7822\n",
      "Epoch 39/500\n",
      "222922/222922 - 133s - loss: 0.5810 - accuracy: 0.8030 - val_loss: 0.5778 - val_accuracy: 0.8033\n",
      "Epoch 40/500\n",
      "222922/222922 - 89s - loss: 0.5752 - accuracy: 0.8039 - val_loss: 0.5955 - val_accuracy: 0.8016\n",
      "Epoch 41/500\n",
      "222922/222922 - 98s - loss: 0.5840 - accuracy: 0.8034 - val_loss: 0.5707 - val_accuracy: 0.8053\n",
      "Epoch 42/500\n",
      "222922/222922 - 97s - loss: 0.5923 - accuracy: 0.8019 - val_loss: 0.5856 - val_accuracy: 0.8040\n",
      "Epoch 43/500\n",
      "222922/222922 - 94s - loss: 0.5939 - accuracy: 0.8002 - val_loss: 0.5576 - val_accuracy: 0.8061\n"
     ]
    }
   ],
   "source": [
    "epochs = 500\n",
    "learning_rate = 0.001\n",
    "print((n_timesteps,n_features))\n",
    "\n",
    "# best param: {'batch_size': 16, 'dense_layer': 128, 'filters': 32, \n",
    "#              'kernel_size': 16, 'lstm_layer': 256, 'nb_epoch': 200, 'pool_size': 2}\n",
    "\n",
    "for i in range(1):\n",
    "\n",
    "    model = Sequential()\n",
    "    model.add(Conv1D(filters=32, kernel_size=16, activation='relu', input_shape=(n_timesteps,n_features)))\n",
    "    model.add(Conv1D(filters=32, kernel_size=16, activation='relu'))\n",
    "    model.add(MaxPooling1D(pool_size=2))\n",
    "    model.add(Dropout(0.2))\n",
    "    model.add(Bidirectional(LSTM(256)))\n",
    "    model.add(Dense(128, activation='relu'))\n",
    "    model.add(Dropout(0.2))\n",
    "    model.add(Dense(3, activation='softmax'))\n",
    "    \n",
    "#     model = Sequential()\n",
    "#     model.add(Conv1D(filters=32, kernel_size=32, activation='relu', input_shape=(n_timesteps,n_features)))\n",
    "#     model.add(Conv1D(filters=32, kernel_size=32, activation='relu'))\n",
    "#     model.add(MaxPooling1D(pool_size=2))\n",
    "#     model.add(Dropout(0.2))\n",
    "#     model.add(Bidirectional(LSTM(128)))\n",
    "#     model.add(Dense(256, activation='relu'))\n",
    "#     model.add(Dropout(0.2))\n",
    "#     model.add(Dense(3, activation='softmax'))\n",
    "\n",
    "    model.compile(loss='categorical_crossentropy', \n",
    "                  optimizer=keras.optimizers.Adam(learning_rate = learning_rate), metrics=['accuracy'])\n",
    "\n",
    "    # model.compile(loss='categorical_crossentropy', optimizer='adam', metrics=['accuracy'])\n",
    "    \n",
    "    with tf.device('/device:GPU:3'):\n",
    "        hist = model.fit(X_train, y_train, validation_data = (X_test, y_test), epochs=epochs, verbose=2, callbacks=[callback])\n",
    "#         hist = model.fit(X, y, validation_data = (X_val, y_val), epochs=epochs, verbose=2, callbacks=[callback])"
   ]
  },
  {
   "cell_type": "code",
   "execution_count": 22,
   "metadata": {},
   "outputs": [
    {
     "name": "stdout",
     "output_type": "stream",
     "text": [
      "WARNING:tensorflow:From /usr/local/lib/python3.6/dist-packages/tensorflow_core/python/ops/resource_variable_ops.py:1786: calling BaseResourceVariable.__init__ (from tensorflow.python.ops.resource_variable_ops) with constraint is deprecated and will be removed in a future version.\n",
      "Instructions for updating:\n",
      "If using Keras pass *_constraint arguments to layers.\n",
      "INFO:tensorflow:Assets written to: saved_model/230730_1dCNN_bLSTM_larger_dataset_with_ICBHI_ref_npmax_train_test_split_shuffle/assets\n"
     ]
    }
   ],
   "source": [
    "model.save('saved_model/230730_1dCNN_bLSTM_larger_dataset_with_ICBHI_ref_npmax_train_test_split_shuffle')\n",
    "model.save('saved_model/230730_1dCNN_bLSTM_larger_dataset_with_ICBHI_ref_npmax_train_test_split_shuffle.h5')"
   ]
  },
  {
   "cell_type": "markdown",
   "metadata": {},
   "source": [
    "## Test for wheeze counter "
   ]
  },
  {
   "cell_type": "code",
   "execution_count": 68,
   "metadata": {},
   "outputs": [],
   "source": [
    "n_mels = 128\n",
    "frame_sec = 0.025\n",
    "step_sec = 0.01\n",
    "label_ratio = 1"
   ]
  },
  {
   "cell_type": "code",
   "execution_count": 69,
   "metadata": {},
   "outputs": [
    {
     "data": {
      "text/plain": [
       "['1_clinical(s1_1)_JJY_extrcted.txt',\n",
       " '1_clinical(s1_1)_JJY_extrcted.wav',\n",
       " '2_clinical(202109301404_1_f)JJY final_extracted.txt',\n",
       " '2_clinical(202109301404_1_f)JJY final_extracted.wav',\n",
       " '2_clinical(202109301404_1_f)JJY final_extracted_2.txt',\n",
       " '2_clinical(202109301404_1_f)JJY final_extracted_2.wav',\n",
       " 'extracted_clinical.txt',\n",
       " 'extracted_clinical.wav',\n",
       " 'infant_wheeze_test3-4.txt',\n",
       " 'infant_wheeze_test3-4.wav']"
      ]
     },
     "execution_count": 69,
     "metadata": {},
     "output_type": "execute_result"
    }
   ],
   "source": [
    "test_file_path= 'data/test'\n",
    "test_file_list = os.listdir(test_file_path)\n",
    "ordered_test_file_list = natsort.natsorted(test_file_list)\n",
    "ordered_test_file_list"
   ]
  },
  {
   "cell_type": "code",
   "execution_count": 70,
   "metadata": {},
   "outputs": [],
   "source": [
    "index = 1\n",
    "sample_rate = librosa.get_samplerate(test_file_path + '/' + ordered_test_file_list[index])\n",
    "t1, t1_sr = librosa.load(test_file_path + '/' + ordered_test_file_list[index], sr = sample_rate)\n",
    "t1_label = pd.read_csv(test_file_path + '/' + ordered_test_file_list[index-1], sep='\\t', header=None)\n",
    "\n",
    "index = 3\n",
    "sample_rate = librosa.get_samplerate(test_file_path + '/' + ordered_test_file_list[index])\n",
    "t2, t2_sr = librosa.load(test_file_path + '/' + ordered_test_file_list[index], sr = sample_rate)\n",
    "t2_label = pd.read_csv(test_file_path + '/' + ordered_test_file_list[index-1], sep='\\t', header=None)\n",
    "\n",
    "index = 5\n",
    "sample_rate = librosa.get_samplerate(test_file_path + '/' + ordered_test_file_list[index])\n",
    "t3, t3_sr = librosa.load(test_file_path + '/' + ordered_test_file_list[index], sr = sample_rate)\n",
    "t3_label = pd.read_csv(test_file_path + '/' + ordered_test_file_list[index-1], sep='\\t', header=None)\n",
    "\n",
    "index = 7\n",
    "sample_rate = librosa.get_samplerate(test_file_path + '/' + ordered_test_file_list[index])\n",
    "t4, t4_sr = librosa.load(test_file_path + '/' + ordered_test_file_list[index], sr = sample_rate)\n",
    "t4_label = pd.read_csv(test_file_path + '/' + ordered_test_file_list[index-1], sep='\\t', header=None)\n",
    "\n",
    "index = 9\n",
    "sample_rate = librosa.get_samplerate(test_file_path + '/' + ordered_test_file_list[index])\n",
    "t5, t5_sr = librosa.load(test_file_path + '/' + ordered_test_file_list[index], sr = sample_rate)\n",
    "t5_label = pd.read_csv(test_file_path + '/' + ordered_test_file_list[index-1], sep='\\t', header=None)"
   ]
  },
  {
   "cell_type": "code",
   "execution_count": 71,
   "metadata": {},
   "outputs": [
    {
     "data": {
      "application/vnd.jupyter.widget-view+json": {
       "model_id": "4f23423889604e22a707514c9d4ae55a",
       "version_major": 2,
       "version_minor": 0
      },
      "text/plain": [
       "HBox(children=(HTML(value=''), FloatProgress(value=0.0, max=4.0), HTML(value='')))"
      ]
     },
     "metadata": {},
     "output_type": "display_data"
    },
    {
     "name": "stdout",
     "output_type": "stream",
     "text": [
      "\n"
     ]
    },
    {
     "data": {
      "application/vnd.jupyter.widget-view+json": {
       "model_id": "96233942f1584f549b544c99886e1581",
       "version_major": 2,
       "version_minor": 0
      },
      "text/plain": [
       "HBox(children=(HTML(value=''), FloatProgress(value=0.0, max=4.0), HTML(value='')))"
      ]
     },
     "metadata": {},
     "output_type": "display_data"
    },
    {
     "name": "stdout",
     "output_type": "stream",
     "text": [
      "\n"
     ]
    },
    {
     "data": {
      "application/vnd.jupyter.widget-view+json": {
       "model_id": "47e12ae51987470886245e3f8b570477",
       "version_major": 2,
       "version_minor": 0
      },
      "text/plain": [
       "HBox(children=(HTML(value=''), FloatProgress(value=0.0, max=4.0), HTML(value='')))"
      ]
     },
     "metadata": {},
     "output_type": "display_data"
    },
    {
     "name": "stdout",
     "output_type": "stream",
     "text": [
      "\n"
     ]
    },
    {
     "data": {
      "application/vnd.jupyter.widget-view+json": {
       "model_id": "5e49ccfd637c4a94b543ed5178cf37ed",
       "version_major": 2,
       "version_minor": 0
      },
      "text/plain": [
       "HBox(children=(HTML(value=''), FloatProgress(value=0.0, max=9.0), HTML(value='')))"
      ]
     },
     "metadata": {},
     "output_type": "display_data"
    },
    {
     "name": "stdout",
     "output_type": "stream",
     "text": [
      "\n"
     ]
    },
    {
     "data": {
      "application/vnd.jupyter.widget-view+json": {
       "model_id": "33fcc88b98eb439093699f86feedd9fc",
       "version_major": 2,
       "version_minor": 0
      },
      "text/plain": [
       "HBox(children=(HTML(value=''), FloatProgress(value=0.0, max=2.0), HTML(value='')))"
      ]
     },
     "metadata": {},
     "output_type": "display_data"
    },
    {
     "name": "stdout",
     "output_type": "stream",
     "text": [
      "\n"
     ]
    }
   ],
   "source": [
    "t1_x, t1_y = make_test_dataset_keras(t1, t1_label, n_mels, frame_sec, step_sec)\n",
    "t2_x, t2_y = make_test_dataset_keras(t2, t2_label, n_mels, frame_sec, step_sec)\n",
    "t3_x, t3_y = make_test_dataset_keras(t3, t3_label, n_mels, frame_sec, step_sec)\n",
    "t4_x, t4_y = make_test_dataset_keras(t4, t4_label, n_mels, frame_sec, step_sec)\n",
    "t5_x, t5_y = make_test_dataset_keras(t5, t5_label, n_mels, frame_sec, step_sec)"
   ]
  },
  {
   "cell_type": "code",
   "execution_count": 17,
   "metadata": {},
   "outputs": [],
   "source": [
    "# # 압축파일 풀기\n",
    "# !unzip saved_model/230729_1dCNN_LSTM.zip -d saved_model/230729_1dCNN_LSTM"
   ]
  },
  {
   "cell_type": "code",
   "execution_count": 75,
   "metadata": {},
   "outputs": [],
   "source": [
    "# 1dCNN bLSTM\n",
    "model_loaded = load_model('saved_model/230730_1dCNN_bLSTM_larger_dataset_with_ICBHI_ref_npmax')"
   ]
  },
  {
   "cell_type": "code",
   "execution_count": 78,
   "metadata": {},
   "outputs": [],
   "source": [
    "y_pred = model_loaded.predict(t1_x)\n",
    "predict=[]\n",
    "for i in  y_pred:\n",
    "    predict.append(np.argmax(i))\n",
    "\n",
    "predict = np.array(predict)\n",
    "# y_pred=tf.keras.utils.to_categorical(predict)"
   ]
  },
  {
   "cell_type": "code",
   "execution_count": 79,
   "metadata": {},
   "outputs": [
    {
     "name": "stdout",
     "output_type": "stream",
     "text": [
      "acc: 0.9891328956305184\n",
      "f1: 0.9919849367591291\n",
      "roc_auc: 0.49583869259287283\n",
      "[[13107    18    92]\n",
      " [    0     0     0]\n",
      " [   34     0     0]]\n"
     ]
    }
   ],
   "source": [
    "acc = accuracy_score(t1_y, predict)\n",
    "f1 = f1_score(t1_y, predict, average='weighted')\n",
    "roc_auc = roc_auc_score(t1_y, predict)\n",
    "cm = confusion_matrix(t1_y, predict)\n",
    "\n",
    "print('acc:', acc)\n",
    "print('f1:', f1)\n",
    "print('roc_auc:', roc_auc)\n",
    "print(cm)"
   ]
  },
  {
   "cell_type": "code",
   "execution_count": 76,
   "metadata": {},
   "outputs": [],
   "source": [
    "y_pred = model.predict(t1_x)\n",
    "predict=[]\n",
    "for i in  y_pred:\n",
    "    predict.append(np.argmax(i))\n",
    "\n",
    "predict = np.array(predict)\n",
    "# y_pred=tf.keras.utils.to_categorical(predict)"
   ]
  },
  {
   "cell_type": "code",
   "execution_count": 77,
   "metadata": {},
   "outputs": [
    {
     "name": "stdout",
     "output_type": "stream",
     "text": [
      "acc: 0.9891328956305184\n",
      "f1: 0.9919849367591291\n",
      "roc_auc: 0.49583869259287283\n",
      "[[13107    18    92]\n",
      " [    0     0     0]\n",
      " [   34     0     0]]\n"
     ]
    }
   ],
   "source": [
    "acc = accuracy_score(t1_y, predict)\n",
    "f1 = f1_score(t1_y, predict, average='weighted')\n",
    "roc_auc = roc_auc_score(t1_y, predict)\n",
    "cm = confusion_matrix(t1_y, predict)\n",
    "\n",
    "print('acc:', acc)\n",
    "print('f1:', f1)\n",
    "print('roc_auc:', roc_auc)\n",
    "print(cm)"
   ]
  },
  {
   "cell_type": "code",
   "execution_count": 80,
   "metadata": {},
   "outputs": [
    {
     "name": "stdout",
     "output_type": "stream",
     "text": [
      "prediction\n",
      "24 / 30\n",
      "test\n",
      "33 / 33\n"
     ]
    },
    {
     "data": {
      "text/plain": [
       "<matplotlib.legend.Legend at 0x7ff0802b69e8>"
      ]
     },
     "execution_count": 80,
     "metadata": {},
     "output_type": "execute_result"
    },
    {
     "data": {
      "image/png": "[encoded data removed]",
      "text/plain": [
       "<Figure size 1152x288 with 1 Axes>"
      ]
     },
     "metadata": {
      "needs_background": "light"
     },
     "output_type": "display_data"
    }
   ],
   "source": [
    "wheeze_per_resp_acc(predict, t1_y)\n",
    "\n",
    "plt.figure(figsize=(16,4))\n",
    "plt.plot(t1_y, label = 'true')\n",
    "plt.plot(predict, label = 'predict')\n",
    "# plt.xlim(1500, 2000)\n",
    "\n",
    "plt.legend()"
   ]
  },
  {
   "cell_type": "code",
   "execution_count": 81,
   "metadata": {},
   "outputs": [
    {
     "name": "stdout",
     "output_type": "stream",
     "text": [
      "acc: 0.991980206467025\n",
      "f1: 0.9925750207076683\n",
      "roc_auc: 0.49768855406215223\n",
      "[[11627     5    49]\n",
      " [    0     0     0]\n",
      " [   40     0     0]]\n"
     ]
    }
   ],
   "source": [
    "y_pred = model.predict(t2_x)\n",
    "\n",
    "predict=[]\n",
    "for i in  y_pred:\n",
    "    predict.append(np.argmax(i))\n",
    "\n",
    "predict = np.array(predict)\n",
    "\n",
    "acc = accuracy_score(t2_y, predict)\n",
    "f1 = f1_score(t2_y, predict, average='weighted')\n",
    "roc_auc = roc_auc_score(t2_y, predict)\n",
    "cm = confusion_matrix(t2_y, predict)\n",
    "\n",
    "print('acc:', acc)\n",
    "print('f1:', f1)\n",
    "print('roc_auc:', roc_auc)\n",
    "print(cm)"
   ]
  },
  {
   "cell_type": "code",
   "execution_count": 82,
   "metadata": {},
   "outputs": [
    {
     "name": "stdout",
     "output_type": "stream",
     "text": [
      "prediction\n",
      "21 / 22\n",
      "test\n",
      "39 / 39\n"
     ]
    },
    {
     "data": {
      "text/plain": [
       "<matplotlib.legend.Legend at 0x7ff0801bf4a8>"
      ]
     },
     "execution_count": 82,
     "metadata": {},
     "output_type": "execute_result"
    },
    {
     "data": {
      "image/png": "[encoded data removed]",
      "text/plain": [
       "<Figure size 1152x288 with 1 Axes>"
      ]
     },
     "metadata": {
      "needs_background": "light"
     },
     "output_type": "display_data"
    }
   ],
   "source": [
    "wheeze_per_resp_acc(predict, t2_y)\n",
    "\n",
    "plt.figure(figsize=(16,4))\n",
    "plt.plot(t2_y, label = 'true')\n",
    "plt.plot(predict, label = 'predict')\n",
    "\n",
    "plt.legend()\n",
    "\n",
    "# plt.xlim(0,1000)"
   ]
  },
  {
   "cell_type": "code",
   "execution_count": 83,
   "metadata": {},
   "outputs": [
    {
     "name": "stdout",
     "output_type": "stream",
     "text": [
      "acc: 0.9695005401811685\n",
      "f1: 0.9812116850051822\n",
      "roc_auc: 0.5228922940496916\n",
      "[[11663     8   321]\n",
      " [    0     0     0]\n",
      " [   38     0     3]]\n"
     ]
    }
   ],
   "source": [
    "y_pred = model.predict(t3_x)\n",
    "\n",
    "predict=[]\n",
    "for i in  y_pred:\n",
    "    predict.append(np.argmax(i))\n",
    "\n",
    "predict = np.array(predict)\n",
    "\n",
    "acc = accuracy_score(t3_y, predict)\n",
    "f1 = f1_score(t3_y, predict, average='weighted')\n",
    "roc_auc = roc_auc_score(t3_y, predict)\n",
    "cm = confusion_matrix(t3_y, predict)\n",
    "\n",
    "print('acc:', acc)\n",
    "print('f1:', f1)\n",
    "print('roc_auc:', roc_auc)\n",
    "print(cm)"
   ]
  },
  {
   "cell_type": "code",
   "execution_count": 84,
   "metadata": {},
   "outputs": [
    {
     "name": "stdout",
     "output_type": "stream",
     "text": [
      "prediction\n",
      "38 / 38\n",
      "test\n",
      "40 / 40\n"
     ]
    },
    {
     "data": {
      "text/plain": [
       "<matplotlib.legend.Legend at 0x7ff08025c470>"
      ]
     },
     "execution_count": 84,
     "metadata": {},
     "output_type": "execute_result"
    },
    {
     "data": {
      "image/png": "[encoded data removed]",
      "text/plain": [
       "<Figure size 1152x288 with 1 Axes>"
      ]
     },
     "metadata": {
      "needs_background": "light"
     },
     "output_type": "display_data"
    }
   ],
   "source": [
    "wheeze_per_resp_acc(predict, t3_y)\n",
    "\n",
    "plt.figure(figsize=(16,4))\n",
    "plt.plot(t3_y, label = 'true')\n",
    "plt.plot(predict, label = 'predict')\n",
    "\n",
    "plt.legend()"
   ]
  },
  {
   "cell_type": "code",
   "execution_count": 85,
   "metadata": {},
   "outputs": [
    {
     "name": "stdout",
     "output_type": "stream",
     "text": [
      "acc: 0.9770768927185424\n",
      "f1: 0.9875603759723636\n",
      "roc_auc: 0.4889565503620803\n",
      "[[29709    23   648]\n",
      " [    0     0     0]\n",
      " [   26     0     0]]\n"
     ]
    }
   ],
   "source": [
    "y_pred = model.predict(t4_x)\n",
    "\n",
    "predict=[]\n",
    "for i in  y_pred:\n",
    "    predict.append(np.argmax(i))\n",
    "\n",
    "predict = np.array(predict)\n",
    "\n",
    "acc = accuracy_score(t4_y, predict)\n",
    "f1 = f1_score(t4_y, predict, average='weighted')\n",
    "roc_auc = roc_auc_score(t4_y, predict)\n",
    "cm = confusion_matrix(t4_y, predict)\n",
    "\n",
    "print('acc:', acc)\n",
    "print('f1:', f1)\n",
    "print('roc_auc:', roc_auc)\n",
    "print(cm)"
   ]
  },
  {
   "cell_type": "code",
   "execution_count": 86,
   "metadata": {},
   "outputs": [
    {
     "name": "stdout",
     "output_type": "stream",
     "text": [
      "prediction\n",
      "96 / 97\n",
      "test\n",
      "20 / 20\n"
     ]
    },
    {
     "data": {
      "text/plain": [
       "<matplotlib.legend.Legend at 0x7ff08010b860>"
      ]
     },
     "execution_count": 86,
     "metadata": {},
     "output_type": "execute_result"
    },
    {
     "data": {
      "image/png": "[encoded data removed]",
      "text/plain": [
       "<Figure size 1152x288 with 1 Axes>"
      ]
     },
     "metadata": {
      "needs_background": "light"
     },
     "output_type": "display_data"
    }
   ],
   "source": [
    "wheeze_per_resp_acc(predict, t4_y)\n",
    "\n",
    "plt.figure(figsize=(16,4))\n",
    "plt.plot(t4_y, label = 'true')\n",
    "plt.plot(predict, label = 'predict')\n",
    "\n",
    "plt.legend()"
   ]
  },
  {
   "cell_type": "code",
   "execution_count": 56,
   "metadata": {},
   "outputs": [],
   "source": [
    "# 1d cnn + lstm\n",
    "model = load_model('saved_model/220711_1dcnn_ulstm.h5')\n",
    "y_pred = model.predict(t_x)"
   ]
  },
  {
   "cell_type": "code",
   "execution_count": 57,
   "metadata": {},
   "outputs": [
    {
     "name": "stdout",
     "output_type": "stream",
     "text": [
      "acc: 0.9483419430094984\n",
      "f1: 0.9692684073694411\n",
      "roc_auc: 0.47623430962343094\n",
      "[[5691   32  252]\n",
      " [   0    0    0]\n",
      " [  26    0    0]]\n"
     ]
    }
   ],
   "source": [
    "predict=[]\n",
    "for i in  y_pred:\n",
    "    predict.append(np.argmax(i))\n",
    "\n",
    "predict = np.array(predict)\n",
    "# y_pred=tf.keras.utils.to_categorical(predict)\n",
    "\n",
    "acc = accuracy_score(t_y, predict)\n",
    "f1 = f1_score(t_y, predict, average='weighted')\n",
    "roc_auc = roc_auc_score(t_y, predict)\n",
    "cm = confusion_matrix(t_y, predict)\n",
    "\n",
    "print('acc:', acc)\n",
    "print('f1:', f1)\n",
    "print('roc_auc:', roc_auc)\n",
    "print(cm)"
   ]
  },
  {
   "cell_type": "code",
   "execution_count": 58,
   "metadata": {},
   "outputs": [
    {
     "name": "stdout",
     "output_type": "stream",
     "text": [
      "prediction\n",
      "20 / 22\n",
      "test\n",
      "19 / 19\n"
     ]
    },
    {
     "data": {
      "text/plain": [
       "<matplotlib.legend.Legend at 0x7f13ac325f70>"
      ]
     },
     "execution_count": 58,
     "metadata": {},
     "output_type": "execute_result"
    },
    {
     "data": {
      "image/png": "[encoded data removed]",
      "text/plain": [
       "<Figure size 1152x288 with 1 Axes>"
      ]
     },
     "metadata": {
      "needs_background": "light"
     },
     "output_type": "display_data"
    }
   ],
   "source": [
    "wheeze_per_resp_acc(predict, t_y)\n",
    "\n",
    "plt.figure(figsize=(16,4))\n",
    "plt.plot(t_y, label = 'true')\n",
    "plt.plot(predict, label = 'predict')\n",
    "\n",
    "plt.legend()"
   ]
  },
  {
   "cell_type": "code",
   "execution_count": 59,
   "metadata": {},
   "outputs": [
    {
     "name": "stdout",
     "output_type": "stream",
     "text": [
      "acc: 0.9803033733303147\n",
      "f1: 0.9878869861799033\n",
      "roc_auc: 0.4912267433066102\n",
      "[[12990   149    83]\n",
      " [    0     0     0]\n",
      " [   29     0     0]]\n"
     ]
    }
   ],
   "source": [
    "y_pred = model.predict(t2_x)\n",
    "\n",
    "predict=[]\n",
    "for i in  y_pred:\n",
    "    predict.append(np.argmax(i))\n",
    "\n",
    "predict = np.array(predict)\n",
    "\n",
    "acc = accuracy_score(t2_y, predict)\n",
    "f1 = f1_score(t2_y, predict, average='weighted')\n",
    "roc_auc = roc_auc_score(t2_y, predict)\n",
    "cm = confusion_matrix(t2_y, predict)\n",
    "\n",
    "print('acc:', acc)\n",
    "print('f1:', f1)\n",
    "print('roc_auc:', roc_auc)\n",
    "print(cm)"
   ]
  },
  {
   "cell_type": "code",
   "execution_count": 60,
   "metadata": {},
   "outputs": [
    {
     "name": "stdout",
     "output_type": "stream",
     "text": [
      "prediction\n",
      "33 / 34\n",
      "test\n",
      "28 / 28\n"
     ]
    },
    {
     "data": {
      "text/plain": [
       "<matplotlib.legend.Legend at 0x7f13ac23c3d0>"
      ]
     },
     "execution_count": 60,
     "metadata": {},
     "output_type": "execute_result"
    },
    {
     "data": {
      "image/png": "[encoded data removed]",
      "text/plain": [
       "<Figure size 1152x288 with 1 Axes>"
      ]
     },
     "metadata": {
      "needs_background": "light"
     },
     "output_type": "display_data"
    }
   ],
   "source": [
    "wheeze_per_resp_acc(predict, t2_y)\n",
    "\n",
    "plt.figure(figsize=(16,4))\n",
    "plt.plot(t2_y, label = 'true')\n",
    "plt.plot(predict, label = 'predict')\n",
    "\n",
    "plt.legend()"
   ]
  },
  {
   "cell_type": "code",
   "execution_count": 61,
   "metadata": {},
   "outputs": [
    {
     "name": "stdout",
     "output_type": "stream",
     "text": [
      "acc: 0.9895913317976281\n",
      "f1: 0.9931435218277163\n",
      "roc_auc: 0.5456969489787198\n",
      "[[11597    33    71]\n",
      " [    0     0     0]\n",
      " [   18     0     2]]\n"
     ]
    }
   ],
   "source": [
    "y_pred = model.predict(t3_x)\n",
    "\n",
    "predict=[]\n",
    "for i in  y_pred:\n",
    "    predict.append(np.argmax(i))\n",
    "\n",
    "predict = np.array(predict)\n",
    "\n",
    "acc = accuracy_score(t3_y, predict)\n",
    "f1 = f1_score(t3_y, predict, average='weighted')\n",
    "roc_auc = roc_auc_score(t3_y, predict)\n",
    "cm = confusion_matrix(t3_y, predict)\n",
    "\n",
    "print('acc:', acc)\n",
    "print('f1:', f1)\n",
    "print('roc_auc:', roc_auc)\n",
    "print(cm)"
   ]
  },
  {
   "cell_type": "code",
   "execution_count": 62,
   "metadata": {},
   "outputs": [
    {
     "name": "stdout",
     "output_type": "stream",
     "text": [
      "prediction\n",
      "22 / 33\n",
      "test\n",
      "19 / 19\n"
     ]
    },
    {
     "data": {
      "text/plain": [
       "<matplotlib.legend.Legend at 0x7f13ac231670>"
      ]
     },
     "execution_count": 62,
     "metadata": {},
     "output_type": "execute_result"
    },
    {
     "data": {
      "image/png": "[encoded data removed]",
      "text/plain": [
       "<Figure size 1152x288 with 1 Axes>"
      ]
     },
     "metadata": {
      "needs_background": "light"
     },
     "output_type": "display_data"
    }
   ],
   "source": [
    "wheeze_per_resp_acc(predict, t3_y)\n",
    "\n",
    "plt.figure(figsize=(16,4))\n",
    "plt.plot(t3_y, label = 'true')\n",
    "plt.plot(predict, label = 'predict')\n",
    "\n",
    "plt.legend()"
   ]
  },
  {
   "cell_type": "code",
   "execution_count": 63,
   "metadata": {},
   "outputs": [
    {
     "name": "stdout",
     "output_type": "stream",
     "text": [
      "acc: 0.9676722346879415\n",
      "f1: 0.9817762904207232\n",
      "roc_auc: 0.5934366288962097\n",
      "[[11640    90   280]\n",
      " [    0     0     0]\n",
      " [   18     1     4]]\n"
     ]
    }
   ],
   "source": [
    "y_pred = model.predict(t4_x)\n",
    "\n",
    "predict=[]\n",
    "for i in  y_pred:\n",
    "    predict.append(np.argmax(i))\n",
    "\n",
    "predict = np.array(predict)\n",
    "\n",
    "acc = accuracy_score(t4_y, predict)\n",
    "f1 = f1_score(t4_y, predict, average='weighted')\n",
    "roc_auc = roc_auc_score(t4_y, predict)\n",
    "cm = confusion_matrix(t4_y, predict)\n",
    "\n",
    "print('acc:', acc)\n",
    "print('f1:', f1)\n",
    "print('roc_auc:', roc_auc)\n",
    "print(cm)"
   ]
  },
  {
   "cell_type": "code",
   "execution_count": 64,
   "metadata": {},
   "outputs": [
    {
     "name": "stdout",
     "output_type": "stream",
     "text": [
      "prediction\n",
      "36 / 39\n",
      "test\n",
      "22 / 22\n"
     ]
    },
    {
     "data": {
      "text/plain": [
       "<matplotlib.legend.Legend at 0x7f13ac1a8c10>"
      ]
     },
     "execution_count": 64,
     "metadata": {},
     "output_type": "execute_result"
    },
    {
     "data": {
      "image/png": "[encoded data removed]",
      "text/plain": [
       "<Figure size 1152x288 with 1 Axes>"
      ]
     },
     "metadata": {
      "needs_background": "light"
     },
     "output_type": "display_data"
    }
   ],
   "source": [
    "wheeze_per_resp_acc(predict, t4_y)\n",
    "\n",
    "plt.figure(figsize=(16,4))\n",
    "plt.plot(t4_y, label = 'true')\n",
    "plt.plot(predict, label = 'predict')\n",
    "\n",
    "plt.legend()"
   ]
  },
  {
   "cell_type": "code",
   "execution_count": 65,
   "metadata": {},
   "outputs": [],
   "source": [
    "# 1d cnn + blstm\n",
    "model = load_model('saved_model/220711_1dcnn_blstm.h5')\n",
    "y_pred = model.predict(t_x)"
   ]
  },
  {
   "cell_type": "code",
   "execution_count": 66,
   "metadata": {},
   "outputs": [
    {
     "name": "stdout",
     "output_type": "stream",
     "text": [
      "acc: 0.9165139143476088\n",
      "f1: 0.9522946940660747\n",
      "roc_auc: 0.4602510460251046\n",
      "[[5500  221  254]\n",
      " [   0    0    0]\n",
      " [  26    0    0]]\n"
     ]
    }
   ],
   "source": [
    "predict=[]\n",
    "for i in  y_pred:\n",
    "    predict.append(np.argmax(i))\n",
    "\n",
    "predict = np.array(predict)\n",
    "# y_pred=tf.keras.utils.to_categorical(predict)\n",
    "\n",
    "acc = accuracy_score(t_y, predict)\n",
    "f1 = f1_score(t_y, predict, average='weighted')\n",
    "roc_auc = roc_auc_score(t_y, predict)\n",
    "cm = confusion_matrix(t_y, predict)\n",
    "\n",
    "print('acc:', acc)\n",
    "print('f1:', f1)\n",
    "print('roc_auc:', roc_auc)\n",
    "print(cm)"
   ]
  },
  {
   "cell_type": "code",
   "execution_count": 67,
   "metadata": {},
   "outputs": [
    {
     "name": "stdout",
     "output_type": "stream",
     "text": [
      "prediction\n",
      "20 / 20\n",
      "test\n",
      "19 / 19\n"
     ]
    },
    {
     "data": {
      "text/plain": [
       "<matplotlib.legend.Legend at 0x7f13ac71f4c0>"
      ]
     },
     "execution_count": 67,
     "metadata": {},
     "output_type": "execute_result"
    },
    {
     "data": {
      "image/png": "[encoded data removed]",
      "text/plain": [
       "<Figure size 1152x288 with 1 Axes>"
      ]
     },
     "metadata": {
      "needs_background": "light"
     },
     "output_type": "display_data"
    }
   ],
   "source": [
    "wheeze_per_resp_acc(predict, t_y)\n",
    "\n",
    "plt.figure(figsize=(16,4))\n",
    "plt.plot(t_y, label = 'true')\n",
    "plt.plot(predict, label = 'predict')\n",
    "\n",
    "plt.legend()"
   ]
  },
  {
   "cell_type": "code",
   "execution_count": 68,
   "metadata": {},
   "outputs": [
    {
     "name": "stdout",
     "output_type": "stream",
     "text": [
      "acc: 0.9717757150403743\n",
      "f1: 0.98364160798192\n",
      "roc_auc: 0.5385173091868829\n",
      "[[12877   304    41]\n",
      " [    0     0     0]\n",
      " [   26     3     0]]\n"
     ]
    }
   ],
   "source": [
    "y_pred = model.predict(t2_x)\n",
    "\n",
    "predict=[]\n",
    "for i in  y_pred:\n",
    "    predict.append(np.argmax(i))\n",
    "\n",
    "predict = np.array(predict)\n",
    "\n",
    "acc = accuracy_score(t2_y, predict)\n",
    "f1 = f1_score(t2_y, predict, average='weighted')\n",
    "roc_auc = roc_auc_score(t2_y, predict)\n",
    "cm = confusion_matrix(t2_y, predict)\n",
    "\n",
    "print('acc:', acc)\n",
    "print('f1:', f1)\n",
    "print('roc_auc:', roc_auc)\n",
    "print(cm)"
   ]
  },
  {
   "cell_type": "code",
   "execution_count": 69,
   "metadata": {},
   "outputs": [
    {
     "name": "stdout",
     "output_type": "stream",
     "text": [
      "prediction\n",
      "17 / 34\n",
      "test\n",
      "28 / 28\n"
     ]
    },
    {
     "data": {
      "text/plain": [
       "<matplotlib.legend.Legend at 0x7f140c2ffc10>"
      ]
     },
     "execution_count": 69,
     "metadata": {},
     "output_type": "execute_result"
    },
    {
     "data": {
      "image/png": "[encoded data removed]",
      "text/plain": [
       "<Figure size 1152x288 with 1 Axes>"
      ]
     },
     "metadata": {
      "needs_background": "light"
     },
     "output_type": "display_data"
    }
   ],
   "source": [
    "wheeze_per_resp_acc(predict, t2_y)\n",
    "\n",
    "plt.figure(figsize=(16,4))\n",
    "plt.plot(t2_y, label = 'true')\n",
    "plt.plot(predict, label = 'predict')\n",
    "\n",
    "plt.legend()"
   ]
  },
  {
   "cell_type": "code",
   "execution_count": 70,
   "metadata": {},
   "outputs": [
    {
     "name": "stdout",
     "output_type": "stream",
     "text": [
      "acc: 0.9887381622728436\n",
      "f1: 0.9926999044178826\n",
      "roc_auc: 0.5203358687291685\n",
      "[[11588    77    36]\n",
      " [    0     0     0]\n",
      " [   19     0     1]]\n"
     ]
    }
   ],
   "source": [
    "y_pred = model.predict(t3_x)\n",
    "\n",
    "predict=[]\n",
    "for i in  y_pred:\n",
    "    predict.append(np.argmax(i))\n",
    "\n",
    "predict = np.array(predict)\n",
    "\n",
    "acc = accuracy_score(t3_y, predict)\n",
    "f1 = f1_score(t3_y, predict, average='weighted')\n",
    "roc_auc = roc_auc_score(t3_y, predict)\n",
    "cm = confusion_matrix(t3_y, predict)\n",
    "\n",
    "print('acc:', acc)\n",
    "print('f1:', f1)\n",
    "print('roc_auc:', roc_auc)\n",
    "print(cm)"
   ]
  },
  {
   "cell_type": "code",
   "execution_count": 71,
   "metadata": {},
   "outputs": [
    {
     "data": {
      "text/plain": [
       "[<matplotlib.lines.Line2D at 0x7f140c597dc0>]"
      ]
     },
     "execution_count": 71,
     "metadata": {},
     "output_type": "execute_result"
    },
    {
     "data": {
      "image/png": "[encoded data removed]",
      "text/plain": [
       "<Figure size 1152x288 with 1 Axes>"
      ]
     },
     "metadata": {
      "needs_background": "light"
     },
     "output_type": "display_data"
    }
   ],
   "source": [
    "plt.figure(figsize=(16,4))\n",
    "plt.plot(t3)"
   ]
  },
  {
   "cell_type": "code",
   "execution_count": 72,
   "metadata": {},
   "outputs": [
    {
     "name": "stdout",
     "output_type": "stream",
     "text": [
      "prediction\n",
      "18 / 39\n",
      "test\n",
      "19 / 19\n"
     ]
    },
    {
     "data": {
      "text/plain": [
       "<matplotlib.legend.Legend at 0x7f13ac3a39a0>"
      ]
     },
     "execution_count": 72,
     "metadata": {},
     "output_type": "execute_result"
    },
    {
     "data": {
      "image/png": "[encoded data removed]",
      "text/plain": [
       "<Figure size 1152x288 with 1 Axes>"
      ]
     },
     "metadata": {
      "needs_background": "light"
     },
     "output_type": "display_data"
    }
   ],
   "source": [
    "wheeze_per_resp_acc(predict, t3_y)\n",
    "\n",
    "plt.figure(figsize=(16,4))\n",
    "plt.plot(t3_y, label = 'true')\n",
    "plt.plot(predict, label = 'predict')\n",
    "\n",
    "plt.legend()"
   ]
  },
  {
   "cell_type": "code",
   "execution_count": 73,
   "metadata": {},
   "outputs": [
    {
     "name": "stdout",
     "output_type": "stream",
     "text": [
      "acc: 0.9499709133216987\n",
      "f1: 0.9726112411593193\n",
      "roc_auc: 0.6293197697570865\n",
      "[[11426   282   302]\n",
      " [    0     0     0]\n",
      " [   16     2     5]]\n"
     ]
    }
   ],
   "source": [
    "y_pred = model.predict(t4_x)\n",
    "\n",
    "predict=[]\n",
    "for i in  y_pred:\n",
    "    predict.append(np.argmax(i))\n",
    "\n",
    "predict = np.array(predict)\n",
    "\n",
    "acc = accuracy_score(t4_y, predict)\n",
    "f1 = f1_score(t4_y, predict, average='weighted')\n",
    "roc_auc = roc_auc_score(t4_y, predict)\n",
    "cm = confusion_matrix(t4_y, predict)\n",
    "\n",
    "print('acc:', acc)\n",
    "print('f1:', f1)\n",
    "print('roc_auc:', roc_auc)\n",
    "print(cm)"
   ]
  },
  {
   "cell_type": "code",
   "execution_count": 74,
   "metadata": {},
   "outputs": [
    {
     "name": "stdout",
     "output_type": "stream",
     "text": [
      "prediction\n",
      "36 / 41\n",
      "test\n",
      "22 / 22\n"
     ]
    },
    {
     "data": {
      "text/plain": [
       "<matplotlib.legend.Legend at 0x7f138c698f10>"
      ]
     },
     "execution_count": 74,
     "metadata": {},
     "output_type": "execute_result"
    },
    {
     "data": {
      "image/png": "[encoded data removed]",
      "text/plain": [
       "<Figure size 1152x288 with 1 Axes>"
      ]
     },
     "metadata": {
      "needs_background": "light"
     },
     "output_type": "display_data"
    }
   ],
   "source": [
    "wheeze_per_resp_acc(predict, t4_y)\n",
    "\n",
    "plt.figure(figsize=(16,4))\n",
    "plt.plot(t4_y, label = 'true')\n",
    "plt.plot(predict, label = 'predict')\n",
    "\n",
    "plt.legend()"
   ]
  }
 ],
 "metadata": {
  "kernelspec": {
   "display_name": "112-keras-gpu",
   "language": "python",
   "name": "112-keras-gpu"
  },
  "language_info": {
   "codemirror_mode": {
    "name": "ipython",
    "version": 3
   },
   "file_extension": ".py",
   "mimetype": "text/x-python",
   "name": "python",
   "nbconvert_exporter": "python",
   "pygments_lexer": "ipython3",
   "version": "3.6.9"
  }
 },
 "nbformat": 4,
 "nbformat_minor": 5
}
